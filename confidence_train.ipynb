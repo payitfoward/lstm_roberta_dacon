{
 "cells": [
  {
   "cell_type": "code",
   "execution_count": 3,
   "id": "43140f53",
   "metadata": {},
   "outputs": [],
   "source": [
    "import pandas as pd\n",
    "import numpy as np\n",
    "import torch\n",
    "import os\n",
    "\n",
    "from transformers import AutoTokenizer, AutoConfig, TrainingArguments, Trainer\n",
    "from customdataset import ConfidenceDataset, TestDataset\n",
    "from datasets import load_metric, load_dataset\n",
    "from custommodel import RobertaForSequenceClassification\n",
    "from sklearn.model_selection import StratifiedKFold\n",
    "from utils import set_allseed\n",
    "import warnings\n",
    "import pickle"
   ]
  },
  {
   "cell_type": "code",
   "execution_count": 4,
   "id": "9d7eb385",
   "metadata": {},
   "outputs": [],
   "source": [
    "seed = 777\n",
    "batch_size = 32\n",
    "save_steps = 103\n",
    "set_allseed(seed)\n",
    "os.environ[\"CUDA_DEVICE_ORDER\"]=\"PCI_BUS_ID\"\n",
    "os.environ[\"CUDA_VISIBLE_DEVICES\"]= \"0\"\n",
    "gpu = torch.device(\"cuda\")\n",
    "cpu = torch.device(\"cpu\")\n",
    "warnings.filterwarnings(action='ignore') "
   ]
  },
  {
   "cell_type": "code",
   "execution_count": 5,
   "id": "137027c6",
   "metadata": {},
   "outputs": [],
   "source": [
    "def compute_metrics(pred):\n",
    "    f1 = load_metric(\"f1\")\n",
    "    references = pred.label_ids\n",
    "    predictions = pred.predictions.argmax(axis=1)\n",
    "    metric = f1.compute(predictions=predictions, references=references, average=\"micro\")\n",
    "    return metric"
   ]
  },
  {
   "cell_type": "code",
   "execution_count": 6,
   "id": "cd683a0e",
   "metadata": {},
   "outputs": [],
   "source": [
    "train_df = pd.read_csv(\"train.csv\")\n",
    "test_df = pd.read_csv(\"test.csv\")"
   ]
  },
  {
   "cell_type": "code",
   "execution_count": 7,
   "id": "da72955f",
   "metadata": {},
   "outputs": [],
   "source": [
    "kfold_function = StratifiedKFold(n_splits=5, random_state=seed, shuffle=True)\n",
    "tokenizer = AutoTokenizer.from_pretrained(\"klue/roberta-base\")\n",
    "config = AutoConfig.from_pretrained(\"klue/roberta-base\")\n",
    "config.num_labels = len(train_df.확실성.value_counts())"
   ]
  },
  {
   "cell_type": "code",
   "execution_count": 8,
   "id": "ad490eb4",
   "metadata": {},
   "outputs": [],
   "source": [
    "training_args = TrainingArguments(\n",
    "    output_dir=\"./output_confidence\",\n",
    "    seed=seed,\n",
    "    save_total_limit=2,\n",
    "    save_steps = save_steps,\n",
    "    num_train_epochs = 5,\n",
    "    learning_rate= 1e-4,\n",
    "    per_device_train_batch_size=batch_size,\n",
    "    per_device_eval_batch_size=batch_size,\n",
    "    gradient_accumulation_steps=4,\n",
    "    weight_decay=1e-4,\n",
    "    logging_dir=\"./logs\",\n",
    "    logging_steps = save_steps,\n",
    "    evaluation_strategy = \"steps\",\n",
    "    eval_steps = save_steps,\n",
    "    load_best_model_at_end=True,\n",
    ")\n",
    "test_dataset = TestDataset(data=test_df, tokenizer=tokenizer)"
   ]
  },
  {
   "cell_type": "code",
   "execution_count": 9,
   "id": "938d37c1",
   "metadata": {},
   "outputs": [
    {
     "name": "stderr",
     "output_type": "stream",
     "text": [
      "Some weights of the model checkpoint at klue/roberta-base were not used when initializing RobertaForSequenceClassification: ['lm_head.decoder.bias', 'lm_head.decoder.weight', 'lm_head.dense.weight', 'lm_head.layer_norm.bias', 'lm_head.bias', 'lm_head.layer_norm.weight', 'lm_head.dense.bias']\n",
      "- This IS expected if you are initializing RobertaForSequenceClassification from the checkpoint of a model trained on another task or with another architecture (e.g. initializing a BertForSequenceClassification model from a BertForPreTraining model).\n",
      "- This IS NOT expected if you are initializing RobertaForSequenceClassification from the checkpoint of a model that you expect to be exactly identical (initializing a BertForSequenceClassification model from a BertForSequenceClassification model).\n",
      "Some weights of RobertaForSequenceClassification were not initialized from the model checkpoint at klue/roberta-base and are newly initialized: ['lstm.weight_hh_l0_reverse', 'roberta.pooler.dense.weight', 'lstm.weight_ih_l1_reverse', 'lstm.bias_ih_l1', 'lstm.bias_hh_l0', 'lstm.weight_ih_l0_reverse', 'lstm.weight_hh_l1', 'classifier.bias', 'lstm.weight_ih_l1', 'roberta.pooler.dense.bias', 'lstm.bias_hh_l1', 'lstm.bias_hh_l1_reverse', 'lstm.weight_ih_l0', 'lstm.bias_hh_l0_reverse', 'classifier.weight', 'lstm.bias_ih_l0_reverse', 'lstm.bias_ih_l0', 'lstm.weight_hh_l0', 'lstm.bias_ih_l1_reverse', 'lstm.weight_hh_l1_reverse']\n",
      "You should probably TRAIN this model on a down-stream task to be able to use it for predictions and inference.\n",
      "***** Running training *****\n",
      "  Num examples = 13232\n",
      "  Num Epochs = 5\n",
      "  Instantaneous batch size per device = 32\n",
      "  Total train batch size (w. parallel, distributed & accumulation) = 128\n",
      "  Gradient Accumulation steps = 4\n",
      "  Total optimization steps = 515\n",
      "  Number of trainable parameters = 134238722\n"
     ]
    },
    {
     "data": {
      "application/vnd.jupyter.widget-view+json": {
       "model_id": "f617efa1531b4d72ac4ad2ec3ce571f1",
       "version_major": 2,
       "version_minor": 0
      },
      "text/plain": [
       "  0%|          | 0/515 [00:00<?, ?it/s]"
      ]
     },
     "metadata": {},
     "output_type": "display_data"
    }
   ],
   "source": [
    "logit = 0\n",
    "for i, (train_index, test_index) in enumerate(kfold_function.split(train_df[\"확실성\"],train_df[\"확실성\"])):\n",
    "    model = RobertaForSequenceClassification.from_pretrained(\"klue/roberta-base\", config=config)\n",
    "    train_corpus, valid_corpus = train_df[\"문장\"][train_index], train_df[\"문장\"][test_index]\n",
    "    train_label, valod_label = train_df[\"확실성\"][train_index], train_df[\"확실성\"][test_index]\n",
    "    fold_train = pd.concat([train_corpus, train_label], axis =1)\n",
    "    fold_valid = pd.concat([valid_corpus, valod_label], axis =1)\n",
    "    train_dataset = ConfidenceDataset(data=fold_train, tokenizer=tokenizer)\n",
    "    valid_dataset = ConfidenceDataset(data=fold_valid, tokenizer=tokenizer)\n",
    "\n",
    "    trainer = Trainer(\n",
    "    model=model,\n",
    "    args=training_args,\n",
    "    train_dataset=train_dataset,\n",
    "    eval_dataset=valid_dataset,\n",
    "    compute_metrics=compute_metrics,\n",
    "    )\n",
    "\n",
    "    trainer.train()\n",
    "\n",
    "    logit += trainer.predict(test_dataset).predictions / 5"
   ]
  },
  {
   "cell_type": "code",
   "execution_count": null,
   "id": "4c3c7f74",
   "metadata": {},
   "outputs": [],
   "source": [
    "with open(\"confidence_logit_focal.pickle\",\"wb\") as f:\n",
    "    pickle.dump(logit, f)"
   ]
  },
  {
   "cell_type": "code",
   "execution_count": null,
   "id": "3c367083",
   "metadata": {},
   "outputs": [],
   "source": [
    "result = pd.DataFrame(logit.argmax(axis=1).tolist(), columns=[\"confidence\"])\n",
    "test_df_result = pd.concat([test_df,result],axis=1, ignore_index=True)\n",
    "test_df_result.to_csv(\"result_confidence.csv\")"
   ]
  }
 ],
 "metadata": {
  "kernelspec": {
   "display_name": "dacon",
   "language": "python",
   "name": "python3"
  },
  "language_info": {
   "codemirror_mode": {
    "name": "ipython",
    "version": 3
   },
   "file_extension": ".py",
   "mimetype": "text/x-python",
   "name": "python",
   "nbconvert_exporter": "python",
   "pygments_lexer": "ipython3",
   "version": "3.7.15"
  },
  "vscode": {
   "interpreter": {
    "hash": "f29653ce4d73fa5f169ecc06a93e234b4ee76974eb34f5783d536006096322e2"
   }
  }
 },
 "nbformat": 4,
 "nbformat_minor": 5
}
