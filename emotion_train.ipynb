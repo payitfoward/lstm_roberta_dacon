{
 "cells": [
  {
   "cell_type": "code",
   "execution_count": 1,
   "id": "43140f53",
   "metadata": {},
   "outputs": [],
   "source": [
    "import pandas as pd\n",
    "import numpy as np\n",
    "import torch\n",
    "import os\n",
    "\n",
    "from transformers import AutoTokenizer, AutoConfig, TrainingArguments, Trainer\n",
    "from mkdataset import EmotionDataset, TestDataset\n",
    "from datasets import load_metric, load_dataset\n",
    "from classifier import RobertaForSequenceClassification\n",
    "from sklearn.model_selection import StratifiedKFold\n",
    "from utils import set_allseed\n",
    "import warnings\n",
    "import pickle"
   ]
  },
  {
   "cell_type": "code",
   "execution_count": 2,
   "id": "9d7eb385",
   "metadata": {},
   "outputs": [],
   "source": [
    "seed = 20\n",
    "batch_size = 32\n",
    "save_steps = 103\n",
    "set_allseed(seed)\n",
    "\n",
    "os.environ[\"CUDA_DEVICE_ORDER\"]=\"PCI_BUS_ID\"\n",
    "os.environ[\"CUDA_VISIBLE_DEVICES\"]= \"1\"\n",
    "\n",
    "gpu = torch.device(\"cuda\")\n",
    "cpu = torch.device(\"cpu\")\n",
    "warnings.filterwarnings(action='ignore') "
   ]
  },
  {
   "cell_type": "code",
   "execution_count": 3,
   "id": "137027c6",
   "metadata": {},
   "outputs": [],
   "source": [
    "def compute_metrics(pred):\n",
    "    f1 = load_metric(\"f1\")\n",
    "    references = pred.label_ids\n",
    "    predictions = pred.predictions.argmax(axis=1)\n",
    "    metric = f1.compute(predictions=predictions, references=references, average=\"micro\")\n",
    "    return metric"
   ]
  },
  {
   "cell_type": "code",
   "execution_count": 4,
   "id": "cd683a0e",
   "metadata": {},
   "outputs": [],
   "source": [
    "train_df = pd.read_csv(\"train.csv\")\n",
    "test_df = pd.read_csv(\"test.csv\")"
   ]
  },
  {
   "cell_type": "code",
   "execution_count": 5,
   "id": "da72955f",
   "metadata": {},
   "outputs": [],
   "source": [
    "train_df = train_df[[\"문장\",\"극성\"]]"
   ]
  },
  {
   "cell_type": "code",
   "execution_count": 6,
   "id": "ad490eb4",
   "metadata": {},
   "outputs": [],
   "source": [
    "kfold_function = StratifiedKFold(n_splits=5, random_state=seed, shuffle=True)\n",
    "tokenizer = AutoTokenizer.from_pretrained(\"klue/roberta-base\")\n",
    "config = AutoConfig.from_pretrained(\"klue/roberta-base\")\n",
    "config.num_labels = len(train_df.극성.value_counts())"
   ]
  },
  {
   "cell_type": "code",
   "execution_count": 7,
   "id": "938d37c1",
   "metadata": {},
   "outputs": [],
   "source": [
    "training_args = TrainingArguments(\n",
    "    output_dir=\"./output_emotion\",\n",
    "    seed=seed,\n",
    "    save_total_limit=2,\n",
    "    save_steps = save_steps,\n",
    "    num_train_epochs = 5,\n",
    "    learning_rate= 1e-4,\n",
    "    per_device_train_batch_size=batch_size,\n",
    "    per_device_eval_batch_size=batch_size,\n",
    "    gradient_accumulation_steps=8,\n",
    "    weight_decay=1e-4,\n",
    "    logging_dir=\"./logs\",\n",
    "    logging_steps = save_steps,\n",
    "    evaluation_strategy = \"steps\",\n",
    "    eval_steps = save_steps,\n",
    "    load_best_model_at_end=True,\n",
    ")\n",
    "test_dataset = TestDataset(data=test_df, tokenizer=tokenizer)"
   ]
  },
  {
   "cell_type": "code",
   "execution_count": 8,
   "id": "4c3c7f74",
   "metadata": {
    "scrolled": true
   },
   "outputs": [
    {
     "name": "stderr",
     "output_type": "stream",
     "text": [
      "Some weights of the model checkpoint at klue/roberta-base were not used when initializing RobertaForSequenceClassification: ['lm_head.decoder.bias', 'lm_head.layer_norm.weight', 'lm_head.dense.bias', 'lm_head.layer_norm.bias', 'lm_head.bias', 'lm_head.decoder.weight', 'lm_head.dense.weight']\n",
      "- This IS expected if you are initializing RobertaForSequenceClassification from the checkpoint of a model trained on another task or with another architecture (e.g. initializing a BertForSequenceClassification model from a BertForPreTraining model).\n",
      "- This IS NOT expected if you are initializing RobertaForSequenceClassification from the checkpoint of a model that you expect to be exactly identical (initializing a BertForSequenceClassification model from a BertForSequenceClassification model).\n",
      "Some weights of RobertaForSequenceClassification were not initialized from the model checkpoint at klue/roberta-base and are newly initialized: ['lstm.weight_hh_l1', 'classifier.weight', 'lstm.weight_hh_l0_reverse', 'roberta.pooler.dense.weight', 'lstm.bias_ih_l1', 'lstm.bias_ih_l0_reverse', 'lstm.bias_hh_l0_reverse', 'lstm.weight_ih_l0', 'classifier.bias', 'lstm.weight_ih_l0_reverse', 'lstm.bias_hh_l1_reverse', 'roberta.pooler.dense.bias', 'lstm.weight_hh_l0', 'lstm.weight_ih_l1', 'lstm.weight_hh_l1_reverse', 'lstm.weight_ih_l1_reverse', 'lstm.bias_hh_l0', 'lstm.bias_hh_l1', 'lstm.bias_ih_l1_reverse', 'lstm.bias_ih_l0']\n",
      "You should probably TRAIN this model on a down-stream task to be able to use it for predictions and inference.\n",
      "***** Running training *****\n",
      "  Num examples = 13232\n",
      "  Num Epochs = 5\n",
      "  Instantaneous batch size per device = 32\n",
      "  Total train batch size (w. parallel, distributed & accumulation) = 256\n",
      "  Gradient Accumulation steps = 8\n",
      "  Total optimization steps = 255\n"
     ]
    },
    {
     "data": {
      "text/html": [
       "\n",
       "    <div>\n",
       "      \n",
       "      <progress value='255' max='255' style='width:300px; height:20px; vertical-align: middle;'></progress>\n",
       "      [255/255 14:51, Epoch 4/5]\n",
       "    </div>\n",
       "    <table border=\"1\" class=\"dataframe\">\n",
       "  <thead>\n",
       " <tr style=\"text-align: left;\">\n",
       "      <th>Step</th>\n",
       "      <th>Training Loss</th>\n",
       "      <th>Validation Loss</th>\n",
       "      <th>F1</th>\n",
       "    </tr>\n",
       "  </thead>\n",
       "  <tbody>\n",
       "    <tr>\n",
       "      <td>103</td>\n",
       "      <td>0.017200</td>\n",
       "      <td>0.004339</td>\n",
       "      <td>0.965549</td>\n",
       "    </tr>\n",
       "    <tr>\n",
       "      <td>206</td>\n",
       "      <td>0.002600</td>\n",
       "      <td>0.002809</td>\n",
       "      <td>0.970686</td>\n",
       "    </tr>\n",
       "  </tbody>\n",
       "</table><p>"
      ],
      "text/plain": [
       "<IPython.core.display.HTML object>"
      ]
     },
     "metadata": {},
     "output_type": "display_data"
    },
    {
     "name": "stderr",
     "output_type": "stream",
     "text": [
      "***** Running Evaluation *****\n",
      "  Num examples = 3309\n",
      "  Batch size = 32\n",
      "Saving model checkpoint to ./output_emotion/checkpoint-103\n",
      "Configuration saved in ./output_emotion/checkpoint-103/config.json\n",
      "Model weights saved in ./output_emotion/checkpoint-103/pytorch_model.bin\n",
      "***** Running Evaluation *****\n",
      "  Num examples = 3309\n",
      "  Batch size = 32\n",
      "Saving model checkpoint to ./output_emotion/checkpoint-206\n",
      "Configuration saved in ./output_emotion/checkpoint-206/config.json\n",
      "Model weights saved in ./output_emotion/checkpoint-206/pytorch_model.bin\n",
      "\n",
      "\n",
      "Training completed. Do not forget to share your model on huggingface.co/models =)\n",
      "\n",
      "\n",
      "Loading best model from ./output_emotion/checkpoint-206 (score: 0.002809392288327217).\n",
      "***** Running Prediction *****\n",
      "  Num examples = 7090\n",
      "  Batch size = 32\n"
     ]
    },
    {
     "data": {
      "text/html": [
       "\n",
       "    <div>\n",
       "      \n",
       "      <progress value='222' max='222' style='width:300px; height:20px; vertical-align: middle;'></progress>\n",
       "      [222/222 00:18]\n",
       "    </div>\n",
       "    "
      ],
      "text/plain": [
       "<IPython.core.display.HTML object>"
      ]
     },
     "metadata": {},
     "output_type": "display_data"
    },
    {
     "name": "stderr",
     "output_type": "stream",
     "text": [
      "loading weights file https://huggingface.co/klue/roberta-base/resolve/main/pytorch_model.bin from cache at /root/.cache/huggingface/transformers/b204e0dc0a3b8fd45b35e7fcefd97c5f839b86c14aea510f1eb38fb8469e23d8.57d3cd0dfa80e5a249a776870dc87b6da993900685a271086750174009115320\n",
      "Some weights of the model checkpoint at klue/roberta-base were not used when initializing RobertaForSequenceClassification: ['lm_head.decoder.bias', 'lm_head.layer_norm.weight', 'lm_head.dense.bias', 'lm_head.layer_norm.bias', 'lm_head.bias', 'lm_head.decoder.weight', 'lm_head.dense.weight']\n",
      "- This IS expected if you are initializing RobertaForSequenceClassification from the checkpoint of a model trained on another task or with another architecture (e.g. initializing a BertForSequenceClassification model from a BertForPreTraining model).\n",
      "- This IS NOT expected if you are initializing RobertaForSequenceClassification from the checkpoint of a model that you expect to be exactly identical (initializing a BertForSequenceClassification model from a BertForSequenceClassification model).\n",
      "Some weights of RobertaForSequenceClassification were not initialized from the model checkpoint at klue/roberta-base and are newly initialized: ['lstm.weight_hh_l1', 'classifier.weight', 'lstm.weight_hh_l0_reverse', 'roberta.pooler.dense.weight', 'lstm.bias_ih_l1', 'lstm.bias_ih_l0_reverse', 'lstm.bias_hh_l0_reverse', 'lstm.weight_ih_l0', 'classifier.bias', 'lstm.weight_ih_l0_reverse', 'lstm.bias_hh_l1_reverse', 'roberta.pooler.dense.bias', 'lstm.weight_hh_l0', 'lstm.weight_ih_l1', 'lstm.weight_hh_l1_reverse', 'lstm.weight_ih_l1_reverse', 'lstm.bias_hh_l0', 'lstm.bias_hh_l1', 'lstm.bias_ih_l1_reverse', 'lstm.bias_ih_l0']\n",
      "You should probably TRAIN this model on a down-stream task to be able to use it for predictions and inference.\n",
      "***** Running training *****\n",
      "  Num examples = 13233\n",
      "  Num Epochs = 5\n",
      "  Instantaneous batch size per device = 32\n",
      "  Total train batch size (w. parallel, distributed & accumulation) = 256\n",
      "  Gradient Accumulation steps = 8\n",
      "  Total optimization steps = 255\n"
     ]
    },
    {
     "data": {
      "text/html": [
       "\n",
       "    <div>\n",
       "      \n",
       "      <progress value='255' max='255' style='width:300px; height:20px; vertical-align: middle;'></progress>\n",
       "      [255/255 11:32, Epoch 4/5]\n",
       "    </div>\n",
       "    <table border=\"1\" class=\"dataframe\">\n",
       "  <thead>\n",
       " <tr style=\"text-align: left;\">\n",
       "      <th>Step</th>\n",
       "      <th>Training Loss</th>\n",
       "      <th>Validation Loss</th>\n",
       "      <th>F1</th>\n",
       "    </tr>\n",
       "  </thead>\n",
       "  <tbody>\n",
       "    <tr>\n",
       "      <td>103</td>\n",
       "      <td>0.015700</td>\n",
       "      <td>0.005100</td>\n",
       "      <td>0.954958</td>\n",
       "    </tr>\n",
       "    <tr>\n",
       "      <td>206</td>\n",
       "      <td>0.005000</td>\n",
       "      <td>0.003572</td>\n",
       "      <td>0.961004</td>\n",
       "    </tr>\n",
       "  </tbody>\n",
       "</table><p>"
      ],
      "text/plain": [
       "<IPython.core.display.HTML object>"
      ]
     },
     "metadata": {},
     "output_type": "display_data"
    },
    {
     "name": "stderr",
     "output_type": "stream",
     "text": [
      "***** Running Evaluation *****\n",
      "  Num examples = 3308\n",
      "  Batch size = 32\n",
      "Saving model checkpoint to ./output_emotion/checkpoint-103\n",
      "Configuration saved in ./output_emotion/checkpoint-103/config.json\n",
      "Model weights saved in ./output_emotion/checkpoint-103/pytorch_model.bin\n",
      "***** Running Evaluation *****\n",
      "  Num examples = 3308\n",
      "  Batch size = 32\n",
      "Saving model checkpoint to ./output_emotion/checkpoint-206\n",
      "Configuration saved in ./output_emotion/checkpoint-206/config.json\n",
      "Model weights saved in ./output_emotion/checkpoint-206/pytorch_model.bin\n",
      "\n",
      "\n",
      "Training completed. Do not forget to share your model on huggingface.co/models =)\n",
      "\n",
      "\n",
      "Loading best model from ./output_emotion/checkpoint-206 (score: 0.0035722379107028246).\n",
      "***** Running Prediction *****\n",
      "  Num examples = 7090\n",
      "  Batch size = 32\n"
     ]
    },
    {
     "data": {
      "text/html": [
       "\n",
       "    <div>\n",
       "      \n",
       "      <progress value='222' max='222' style='width:300px; height:20px; vertical-align: middle;'></progress>\n",
       "      [222/222 00:18]\n",
       "    </div>\n",
       "    "
      ],
      "text/plain": [
       "<IPython.core.display.HTML object>"
      ]
     },
     "metadata": {},
     "output_type": "display_data"
    },
    {
     "name": "stderr",
     "output_type": "stream",
     "text": [
      "loading weights file https://huggingface.co/klue/roberta-base/resolve/main/pytorch_model.bin from cache at /root/.cache/huggingface/transformers/b204e0dc0a3b8fd45b35e7fcefd97c5f839b86c14aea510f1eb38fb8469e23d8.57d3cd0dfa80e5a249a776870dc87b6da993900685a271086750174009115320\n",
      "Some weights of the model checkpoint at klue/roberta-base were not used when initializing RobertaForSequenceClassification: ['lm_head.decoder.bias', 'lm_head.layer_norm.weight', 'lm_head.dense.bias', 'lm_head.layer_norm.bias', 'lm_head.bias', 'lm_head.decoder.weight', 'lm_head.dense.weight']\n",
      "- This IS expected if you are initializing RobertaForSequenceClassification from the checkpoint of a model trained on another task or with another architecture (e.g. initializing a BertForSequenceClassification model from a BertForPreTraining model).\n",
      "- This IS NOT expected if you are initializing RobertaForSequenceClassification from the checkpoint of a model that you expect to be exactly identical (initializing a BertForSequenceClassification model from a BertForSequenceClassification model).\n",
      "Some weights of RobertaForSequenceClassification were not initialized from the model checkpoint at klue/roberta-base and are newly initialized: ['lstm.weight_hh_l1', 'classifier.weight', 'lstm.weight_hh_l0_reverse', 'roberta.pooler.dense.weight', 'lstm.bias_ih_l1', 'lstm.bias_ih_l0_reverse', 'lstm.bias_hh_l0_reverse', 'lstm.weight_ih_l0', 'classifier.bias', 'lstm.weight_ih_l0_reverse', 'lstm.bias_hh_l1_reverse', 'roberta.pooler.dense.bias', 'lstm.weight_hh_l0', 'lstm.weight_ih_l1', 'lstm.weight_hh_l1_reverse', 'lstm.weight_ih_l1_reverse', 'lstm.bias_hh_l0', 'lstm.bias_hh_l1', 'lstm.bias_ih_l1_reverse', 'lstm.bias_ih_l0']\n",
      "You should probably TRAIN this model on a down-stream task to be able to use it for predictions and inference.\n",
      "***** Running training *****\n",
      "  Num examples = 13233\n",
      "  Num Epochs = 5\n",
      "  Instantaneous batch size per device = 32\n",
      "  Total train batch size (w. parallel, distributed & accumulation) = 256\n",
      "  Gradient Accumulation steps = 8\n",
      "  Total optimization steps = 255\n"
     ]
    },
    {
     "data": {
      "text/html": [
       "\n",
       "    <div>\n",
       "      \n",
       "      <progress value='255' max='255' style='width:300px; height:20px; vertical-align: middle;'></progress>\n",
       "      [255/255 14:54, Epoch 4/5]\n",
       "    </div>\n",
       "    <table border=\"1\" class=\"dataframe\">\n",
       "  <thead>\n",
       " <tr style=\"text-align: left;\">\n",
       "      <th>Step</th>\n",
       "      <th>Training Loss</th>\n",
       "      <th>Validation Loss</th>\n",
       "      <th>F1</th>\n",
       "    </tr>\n",
       "  </thead>\n",
       "  <tbody>\n",
       "    <tr>\n",
       "      <td>103</td>\n",
       "      <td>0.013800</td>\n",
       "      <td>0.002894</td>\n",
       "      <td>0.972189</td>\n",
       "    </tr>\n",
       "    <tr>\n",
       "      <td>206</td>\n",
       "      <td>0.002300</td>\n",
       "      <td>0.003433</td>\n",
       "      <td>0.970677</td>\n",
       "    </tr>\n",
       "  </tbody>\n",
       "</table><p>"
      ],
      "text/plain": [
       "<IPython.core.display.HTML object>"
      ]
     },
     "metadata": {},
     "output_type": "display_data"
    },
    {
     "name": "stderr",
     "output_type": "stream",
     "text": [
      "***** Running Evaluation *****\n",
      "  Num examples = 3308\n",
      "  Batch size = 32\n",
      "Saving model checkpoint to ./output_emotion/checkpoint-103\n",
      "Configuration saved in ./output_emotion/checkpoint-103/config.json\n",
      "Model weights saved in ./output_emotion/checkpoint-103/pytorch_model.bin\n",
      "***** Running Evaluation *****\n",
      "  Num examples = 3308\n",
      "  Batch size = 32\n",
      "Saving model checkpoint to ./output_emotion/checkpoint-206\n",
      "Configuration saved in ./output_emotion/checkpoint-206/config.json\n",
      "Model weights saved in ./output_emotion/checkpoint-206/pytorch_model.bin\n",
      "\n",
      "\n",
      "Training completed. Do not forget to share your model on huggingface.co/models =)\n",
      "\n",
      "\n",
      "Loading best model from ./output_emotion/checkpoint-103 (score: 0.002894299803301692).\n",
      "***** Running Prediction *****\n",
      "  Num examples = 7090\n",
      "  Batch size = 32\n"
     ]
    },
    {
     "data": {
      "text/html": [
       "\n",
       "    <div>\n",
       "      \n",
       "      <progress value='222' max='222' style='width:300px; height:20px; vertical-align: middle;'></progress>\n",
       "      [222/222 00:18]\n",
       "    </div>\n",
       "    "
      ],
      "text/plain": [
       "<IPython.core.display.HTML object>"
      ]
     },
     "metadata": {},
     "output_type": "display_data"
    },
    {
     "name": "stderr",
     "output_type": "stream",
     "text": [
      "loading weights file https://huggingface.co/klue/roberta-base/resolve/main/pytorch_model.bin from cache at /root/.cache/huggingface/transformers/b204e0dc0a3b8fd45b35e7fcefd97c5f839b86c14aea510f1eb38fb8469e23d8.57d3cd0dfa80e5a249a776870dc87b6da993900685a271086750174009115320\n",
      "Some weights of the model checkpoint at klue/roberta-base were not used when initializing RobertaForSequenceClassification: ['lm_head.decoder.bias', 'lm_head.layer_norm.weight', 'lm_head.dense.bias', 'lm_head.layer_norm.bias', 'lm_head.bias', 'lm_head.decoder.weight', 'lm_head.dense.weight']\n",
      "- This IS expected if you are initializing RobertaForSequenceClassification from the checkpoint of a model trained on another task or with another architecture (e.g. initializing a BertForSequenceClassification model from a BertForPreTraining model).\n",
      "- This IS NOT expected if you are initializing RobertaForSequenceClassification from the checkpoint of a model that you expect to be exactly identical (initializing a BertForSequenceClassification model from a BertForSequenceClassification model).\n",
      "Some weights of RobertaForSequenceClassification were not initialized from the model checkpoint at klue/roberta-base and are newly initialized: ['lstm.weight_hh_l1', 'classifier.weight', 'lstm.weight_hh_l0_reverse', 'roberta.pooler.dense.weight', 'lstm.bias_ih_l1', 'lstm.bias_ih_l0_reverse', 'lstm.bias_hh_l0_reverse', 'lstm.weight_ih_l0', 'classifier.bias', 'lstm.weight_ih_l0_reverse', 'lstm.bias_hh_l1_reverse', 'roberta.pooler.dense.bias', 'lstm.weight_hh_l0', 'lstm.weight_ih_l1', 'lstm.weight_hh_l1_reverse', 'lstm.weight_ih_l1_reverse', 'lstm.bias_hh_l0', 'lstm.bias_hh_l1', 'lstm.bias_ih_l1_reverse', 'lstm.bias_ih_l0']\n",
      "You should probably TRAIN this model on a down-stream task to be able to use it for predictions and inference.\n",
      "***** Running training *****\n",
      "  Num examples = 13233\n",
      "  Num Epochs = 5\n",
      "  Instantaneous batch size per device = 32\n",
      "  Total train batch size (w. parallel, distributed & accumulation) = 256\n",
      "  Gradient Accumulation steps = 8\n",
      "  Total optimization steps = 255\n"
     ]
    },
    {
     "data": {
      "text/html": [
       "\n",
       "    <div>\n",
       "      \n",
       "      <progress value='255' max='255' style='width:300px; height:20px; vertical-align: middle;'></progress>\n",
       "      [255/255 14:54, Epoch 4/5]\n",
       "    </div>\n",
       "    <table border=\"1\" class=\"dataframe\">\n",
       "  <thead>\n",
       " <tr style=\"text-align: left;\">\n",
       "      <th>Step</th>\n",
       "      <th>Training Loss</th>\n",
       "      <th>Validation Loss</th>\n",
       "      <th>F1</th>\n",
       "    </tr>\n",
       "  </thead>\n",
       "  <tbody>\n",
       "    <tr>\n",
       "      <td>103</td>\n",
       "      <td>0.014200</td>\n",
       "      <td>0.003293</td>\n",
       "      <td>0.970677</td>\n",
       "    </tr>\n",
       "    <tr>\n",
       "      <td>206</td>\n",
       "      <td>0.002000</td>\n",
       "      <td>0.001572</td>\n",
       "      <td>0.974305</td>\n",
       "    </tr>\n",
       "  </tbody>\n",
       "</table><p>"
      ],
      "text/plain": [
       "<IPython.core.display.HTML object>"
      ]
     },
     "metadata": {},
     "output_type": "display_data"
    },
    {
     "name": "stderr",
     "output_type": "stream",
     "text": [
      "***** Running Evaluation *****\n",
      "  Num examples = 3308\n",
      "  Batch size = 32\n",
      "Saving model checkpoint to ./output_emotion/checkpoint-103\n",
      "Configuration saved in ./output_emotion/checkpoint-103/config.json\n",
      "Model weights saved in ./output_emotion/checkpoint-103/pytorch_model.bin\n",
      "***** Running Evaluation *****\n",
      "  Num examples = 3308\n",
      "  Batch size = 32\n",
      "Saving model checkpoint to ./output_emotion/checkpoint-206\n",
      "Configuration saved in ./output_emotion/checkpoint-206/config.json\n",
      "Model weights saved in ./output_emotion/checkpoint-206/pytorch_model.bin\n",
      "\n",
      "\n",
      "Training completed. Do not forget to share your model on huggingface.co/models =)\n",
      "\n",
      "\n",
      "Loading best model from ./output_emotion/checkpoint-206 (score: 0.0015722765820100904).\n",
      "***** Running Prediction *****\n",
      "  Num examples = 7090\n",
      "  Batch size = 32\n"
     ]
    },
    {
     "data": {
      "text/html": [
       "\n",
       "    <div>\n",
       "      \n",
       "      <progress value='222' max='222' style='width:300px; height:20px; vertical-align: middle;'></progress>\n",
       "      [222/222 00:18]\n",
       "    </div>\n",
       "    "
      ],
      "text/plain": [
       "<IPython.core.display.HTML object>"
      ]
     },
     "metadata": {},
     "output_type": "display_data"
    },
    {
     "name": "stderr",
     "output_type": "stream",
     "text": [
      "loading weights file https://huggingface.co/klue/roberta-base/resolve/main/pytorch_model.bin from cache at /root/.cache/huggingface/transformers/b204e0dc0a3b8fd45b35e7fcefd97c5f839b86c14aea510f1eb38fb8469e23d8.57d3cd0dfa80e5a249a776870dc87b6da993900685a271086750174009115320\n",
      "Some weights of the model checkpoint at klue/roberta-base were not used when initializing RobertaForSequenceClassification: ['lm_head.decoder.bias', 'lm_head.layer_norm.weight', 'lm_head.dense.bias', 'lm_head.layer_norm.bias', 'lm_head.bias', 'lm_head.decoder.weight', 'lm_head.dense.weight']\n",
      "- This IS expected if you are initializing RobertaForSequenceClassification from the checkpoint of a model trained on another task or with another architecture (e.g. initializing a BertForSequenceClassification model from a BertForPreTraining model).\n",
      "- This IS NOT expected if you are initializing RobertaForSequenceClassification from the checkpoint of a model that you expect to be exactly identical (initializing a BertForSequenceClassification model from a BertForSequenceClassification model).\n",
      "Some weights of RobertaForSequenceClassification were not initialized from the model checkpoint at klue/roberta-base and are newly initialized: ['lstm.weight_hh_l1', 'classifier.weight', 'lstm.weight_hh_l0_reverse', 'roberta.pooler.dense.weight', 'lstm.bias_ih_l1', 'lstm.bias_ih_l0_reverse', 'lstm.bias_hh_l0_reverse', 'lstm.weight_ih_l0', 'classifier.bias', 'lstm.weight_ih_l0_reverse', 'lstm.bias_hh_l1_reverse', 'roberta.pooler.dense.bias', 'lstm.weight_hh_l0', 'lstm.weight_ih_l1', 'lstm.weight_hh_l1_reverse', 'lstm.weight_ih_l1_reverse', 'lstm.bias_hh_l0', 'lstm.bias_hh_l1', 'lstm.bias_ih_l1_reverse', 'lstm.bias_ih_l0']\n",
      "You should probably TRAIN this model on a down-stream task to be able to use it for predictions and inference.\n",
      "***** Running training *****\n",
      "  Num examples = 13233\n",
      "  Num Epochs = 5\n",
      "  Instantaneous batch size per device = 32\n",
      "  Total train batch size (w. parallel, distributed & accumulation) = 256\n",
      "  Gradient Accumulation steps = 8\n",
      "  Total optimization steps = 255\n"
     ]
    },
    {
     "data": {
      "text/html": [
       "\n",
       "    <div>\n",
       "      \n",
       "      <progress value='255' max='255' style='width:300px; height:20px; vertical-align: middle;'></progress>\n",
       "      [255/255 14:54, Epoch 4/5]\n",
       "    </div>\n",
       "    <table border=\"1\" class=\"dataframe\">\n",
       "  <thead>\n",
       " <tr style=\"text-align: left;\">\n",
       "      <th>Step</th>\n",
       "      <th>Training Loss</th>\n",
       "      <th>Validation Loss</th>\n",
       "      <th>F1</th>\n",
       "    </tr>\n",
       "  </thead>\n",
       "  <tbody>\n",
       "    <tr>\n",
       "      <td>103</td>\n",
       "      <td>0.012500</td>\n",
       "      <td>0.003727</td>\n",
       "      <td>0.952539</td>\n",
       "    </tr>\n",
       "    <tr>\n",
       "      <td>206</td>\n",
       "      <td>0.001000</td>\n",
       "      <td>0.002036</td>\n",
       "      <td>0.971282</td>\n",
       "    </tr>\n",
       "  </tbody>\n",
       "</table><p>"
      ],
      "text/plain": [
       "<IPython.core.display.HTML object>"
      ]
     },
     "metadata": {},
     "output_type": "display_data"
    },
    {
     "name": "stderr",
     "output_type": "stream",
     "text": [
      "***** Running Evaluation *****\n",
      "  Num examples = 3308\n",
      "  Batch size = 32\n",
      "Saving model checkpoint to ./output_emotion/checkpoint-103\n",
      "Configuration saved in ./output_emotion/checkpoint-103/config.json\n",
      "Model weights saved in ./output_emotion/checkpoint-103/pytorch_model.bin\n",
      "***** Running Evaluation *****\n",
      "  Num examples = 3308\n",
      "  Batch size = 32\n",
      "Saving model checkpoint to ./output_emotion/checkpoint-206\n",
      "Configuration saved in ./output_emotion/checkpoint-206/config.json\n",
      "Model weights saved in ./output_emotion/checkpoint-206/pytorch_model.bin\n",
      "\n",
      "\n",
      "Training completed. Do not forget to share your model on huggingface.co/models =)\n",
      "\n",
      "\n",
      "Loading best model from ./output_emotion/checkpoint-206 (score: 0.002035600133240223).\n",
      "***** Running Prediction *****\n",
      "  Num examples = 7090\n",
      "  Batch size = 32\n"
     ]
    },
    {
     "data": {
      "text/html": [
       "\n",
       "    <div>\n",
       "      \n",
       "      <progress value='222' max='222' style='width:300px; height:20px; vertical-align: middle;'></progress>\n",
       "      [222/222 00:18]\n",
       "    </div>\n",
       "    "
      ],
      "text/plain": [
       "<IPython.core.display.HTML object>"
      ]
     },
     "metadata": {},
     "output_type": "display_data"
    }
   ],
   "source": [
    "logit = 0\n",
    "for i, (train_index, test_index) in enumerate(kfold_function.split(train_df[\"문장\"],train_df[\"극성\"])):\n",
    "    model = RobertaForSequenceClassification.from_pretrained(\"klue/roberta-base\", config=config)\n",
    "    train_corpus, valid_corpus = train_df[\"문장\"][train_index], train_df[\"문장\"][test_index]\n",
    "    train_label, valod_label = train_df[\"극성\"][train_index], train_df[\"극성\"][test_index]\n",
    "    fold_train = pd.concat([train_corpus, train_label], axis =1)\n",
    "    fold_valid = pd.concat([valid_corpus, valod_label], axis =1)\n",
    "    train_dataset = EmotionDataset(data=fold_train, tokenizer=tokenizer)\n",
    "    valid_dataset = EmotionDataset(data=fold_valid, tokenizer=tokenizer)\n",
    "\n",
    "    trainer = Trainer(\n",
    "    model=model,\n",
    "    args=training_args,\n",
    "    train_dataset=train_dataset,\n",
    "    eval_dataset=valid_dataset,\n",
    "    compute_metrics=compute_metrics,\n",
    "    )\n",
    "\n",
    "    trainer.train()\n",
    "\n",
    "    logit += trainer.predict(test_dataset).predictions / 5"
   ]
  },
  {
   "cell_type": "code",
   "execution_count": 10,
   "id": "5ba50079",
   "metadata": {},
   "outputs": [],
   "source": [
    "with open(\"emotion_logit_focal_seed.pickle\",\"wb\") as f:\n",
    "    pickle.dump(logit, f)"
   ]
  },
  {
   "cell_type": "code",
   "execution_count": 13,
   "id": "15480153",
   "metadata": {},
   "outputs": [],
   "source": [
    "with open(\"emotion_logit.pickle\",\"wb\") as f:\n",
    "    pickle.dump(logit, f)\n",
    "    \n",
    "with open(\"emotion_logit.pickle\",\"rb\") as f:\n",
    "    logit = pickle.load(f)\n",
    "    \n",
    "result = pd.DataFrame(logit.argmax(axis=1).tolist(), columns=[\"type\"])\n",
    "test_df_result = pd.concat([test_df,result],axis=1, ignore_index=True)\n",
    "test_df_result.to_csv(\"result_emotion.csv\")"
   ]
  },
  {
   "cell_type": "code",
   "execution_count": null,
   "id": "f8659abe",
   "metadata": {},
   "outputs": [],
   "source": []
  }
 ],
 "metadata": {
  "kernelspec": {
   "display_name": "Python 3",
   "language": "python",
   "name": "python3"
  },
  "language_info": {
   "codemirror_mode": {
    "name": "ipython",
    "version": 3
   },
   "file_extension": ".py",
   "mimetype": "text/x-python",
   "name": "python",
   "nbconvert_exporter": "python",
   "pygments_lexer": "ipython3",
   "version": "3.6.9"
  },
  "vscode": {
   "interpreter": {
    "hash": "f29653ce4d73fa5f169ecc06a93e234b4ee76974eb34f5783d536006096322e2"
   }
  }
 },
 "nbformat": 4,
 "nbformat_minor": 5
}
