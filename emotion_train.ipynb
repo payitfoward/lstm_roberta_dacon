{
 "cells": [
  {
   "cell_type": "code",
   "execution_count": 1,
   "id": "43140f53",
   "metadata": {},
   "outputs": [],
   "source": [
    "import pandas as pd\n",
    "import numpy as np\n",
    "import torch\n",
    "import os\n",
    "\n",
    "from transformers import AutoTokenizer, AutoConfig, TrainingArguments, Trainer\n",
    "from mkdataset import TypeDataset, EmotionDataset, TimeDataset, ConfidenceDataset, TestDataset\n",
    "from datasets import load_metric, load_dataset\n",
    "from classifier import RobertaForSequenceClassification\n",
    "from sklearn.model_selection import train_test_split"
   ]
  },
  {
   "cell_type": "code",
   "execution_count": 2,
   "id": "f6b710f9",
   "metadata": {},
   "outputs": [],
   "source": [
    "os.environ[\"CUDA_DEVICE_ORDER\"]=\"PCI_BUS_ID\"   \n",
    "os.environ[\"CUDA_VISIBLE_DEVICES\"]=\"0\"\n",
    "backbone = \"klue/roberta-base\""
   ]
  },
  {
   "cell_type": "code",
   "execution_count": 3,
   "id": "9d7eb385",
   "metadata": {},
   "outputs": [],
   "source": [
    "seed = 777\n",
    "os.environ[\"PYTHONHASHSEED\"] = str(seed)\n",
    "torch.manual_seed(seed)\n",
    "torch.cuda.manual_seed(seed)  # type: ignore\n",
    "torch.backends.cudnn.deterministic = True  # type: ignore\n",
    "torch.backends.cudnn.benchmark = True  # type: ignore"
   ]
  },
  {
   "cell_type": "code",
   "execution_count": 4,
   "id": "137027c6",
   "metadata": {},
   "outputs": [],
   "source": [
    "def compute_metrics(pred):\n",
    "    f1 = load_metric(\"f1\")\n",
    "    references = pred.label_ids\n",
    "    predictions = pred.predictions.argmax(axis=1)\n",
    "    metric = f1.compute(predictions=predictions, references=references, average=\"micro\")\n",
    "    return metric"
   ]
  },
  {
   "cell_type": "code",
   "execution_count": 5,
   "id": "cd683a0e",
   "metadata": {},
   "outputs": [],
   "source": [
    "train_df = pd.read_csv(\"train.csv\")\n",
    "test_df = pd.read_csv(\"test.csv\")"
   ]
  },
  {
   "cell_type": "code",
   "execution_count": 6,
   "id": "da72955f",
   "metadata": {},
   "outputs": [],
   "source": [
    "train_emotion_df, valid_emotion_df = train_test_split(train_df, test_size=0.3, random_state=seed, stratify=train_df.극성)"
   ]
  },
  {
   "cell_type": "code",
   "execution_count": 7,
   "id": "ad490eb4",
   "metadata": {},
   "outputs": [],
   "source": [
    "tokenizer = AutoTokenizer.from_pretrained(backbone)"
   ]
  },
  {
   "cell_type": "code",
   "execution_count": 8,
   "id": "938d37c1",
   "metadata": {},
   "outputs": [],
   "source": [
    "train_emotion_dataset = EmotionDataset(data=train_emotion_df, tokenizer=tokenizer)\n",
    "valid_emotion_dataset = EmotionDataset(data=valid_emotion_df, tokenizer=tokenizer)\n",
    "test_dataset = TestDataset(data=test_df, tokenizer=tokenizer)"
   ]
  },
  {
   "cell_type": "code",
   "execution_count": 9,
   "id": "4c3c7f74",
   "metadata": {},
   "outputs": [],
   "source": [
    "gpu = torch.device(\"cuda:0\")"
   ]
  },
  {
   "cell_type": "code",
   "execution_count": 10,
   "id": "23a52bb5",
   "metadata": {},
   "outputs": [],
   "source": [
    "emotion_config = AutoConfig.from_pretrained(backbone)\n",
    "emotion_config.num_labels = 3"
   ]
  },
  {
   "cell_type": "code",
   "execution_count": 11,
   "id": "15480153",
   "metadata": {},
   "outputs": [
    {
     "name": "stderr",
     "output_type": "stream",
     "text": [
      "Some weights of the model checkpoint at klue/roberta-base were not used when initializing RobertaForSequenceClassification: ['lm_head.bias', 'lm_head.dense.bias', 'lm_head.layer_norm.bias', 'lm_head.decoder.weight', 'lm_head.dense.weight', 'lm_head.layer_norm.weight', 'lm_head.decoder.bias']\n",
      "- This IS expected if you are initializing RobertaForSequenceClassification from the checkpoint of a model trained on another task or with another architecture (e.g. initializing a BertForSequenceClassification model from a BertForPreTraining model).\n",
      "- This IS NOT expected if you are initializing RobertaForSequenceClassification from the checkpoint of a model that you expect to be exactly identical (initializing a BertForSequenceClassification model from a BertForSequenceClassification model).\n",
      "Some weights of RobertaForSequenceClassification were not initialized from the model checkpoint at klue/roberta-base and are newly initialized: ['lstm.bias_hh_l1', 'lstm.bias_hh_l1_reverse', 'roberta.pooler.dense.bias', 'lstm.bias_hh_l0', 'classifier.weight', 'lstm.bias_hh_l0_reverse', 'lstm.bias_ih_l0_reverse', 'lstm.weight_hh_l0_reverse', 'lstm.weight_ih_l1', 'lstm.bias_ih_l0', 'lstm.weight_ih_l1_reverse', 'roberta.pooler.dense.weight', 'lstm.weight_hh_l1_reverse', 'classifier.bias', 'lstm.bias_ih_l1', 'lstm.bias_ih_l1_reverse', 'lstm.weight_ih_l0', 'lstm.weight_ih_l0_reverse', 'lstm.weight_hh_l1', 'lstm.weight_hh_l0']\n",
      "You should probably TRAIN this model on a down-stream task to be able to use it for predictions and inference.\n"
     ]
    }
   ],
   "source": [
    "emotion_model = RobertaForSequenceClassification.from_pretrained(backbone, config=emotion_config)"
   ]
  },
  {
   "cell_type": "code",
   "execution_count": 12,
   "id": "42e629c9",
   "metadata": {},
   "outputs": [],
   "source": [
    "batch_size = 32\n",
    "save_steps = 90"
   ]
  },
  {
   "cell_type": "code",
   "execution_count": 13,
   "id": "14a7c9e7",
   "metadata": {},
   "outputs": [],
   "source": [
    "training_args = TrainingArguments(\n",
    "    output_dir=\"./output_type\",\n",
    "    seed=seed,\n",
    "    save_total_limit=2,\n",
    "    save_steps = save_steps,\n",
    "    num_train_epochs = 3,\n",
    "    learning_rate= 1e-4,\n",
    "    per_device_train_batch_size=batch_size,\n",
    "    per_device_eval_batch_size=batch_size,\n",
    "    gradient_accumulation_steps=4,\n",
    "    weight_decay=1e-4,\n",
    "    logging_dir=\"./logs\",\n",
    "    logging_steps = save_steps,\n",
    "    evaluation_strategy = \"steps\",\n",
    "    metric_for_best_model = \"eval_f1\",\n",
    "    eval_steps = save_steps,\n",
    "    load_best_model_at_end=True,\n",
    ")"
   ]
  },
  {
   "cell_type": "code",
   "execution_count": 14,
   "id": "0a5b9432",
   "metadata": {},
   "outputs": [
    {
     "name": "stderr",
     "output_type": "stream",
     "text": [
      "/usr/local/lib/python3.6/dist-packages/transformers/optimization.py:309: FutureWarning: This implementation of AdamW is deprecated and will be removed in a future version. Use the PyTorch implementation torch.optim.AdamW instead, or set `no_deprecation_warning=True` to disable this warning\n",
      "  FutureWarning,\n",
      "***** Running training *****\n",
      "  Num examples = 11578\n",
      "  Num Epochs = 3\n",
      "  Instantaneous batch size per device = 32\n",
      "  Total train batch size (w. parallel, distributed & accumulation) = 128\n",
      "  Gradient Accumulation steps = 4\n",
      "  Total optimization steps = 270\n"
     ]
    },
    {
     "data": {
      "text/html": [
       "\n",
       "    <div>\n",
       "      \n",
       "      <progress value='270' max='270' style='width:300px; height:20px; vertical-align: middle;'></progress>\n",
       "      [270/270 08:06, Epoch 2/3]\n",
       "    </div>\n",
       "    <table border=\"1\" class=\"dataframe\">\n",
       "  <thead>\n",
       " <tr style=\"text-align: left;\">\n",
       "      <th>Step</th>\n",
       "      <th>Training Loss</th>\n",
       "      <th>Validation Loss</th>\n",
       "      <th>F1</th>\n",
       "    </tr>\n",
       "  </thead>\n",
       "  <tbody>\n",
       "    <tr>\n",
       "      <td>90</td>\n",
       "      <td>0.152700</td>\n",
       "      <td>0.094490</td>\n",
       "      <td>0.972194</td>\n",
       "    </tr>\n",
       "    <tr>\n",
       "      <td>180</td>\n",
       "      <td>0.081900</td>\n",
       "      <td>0.092735</td>\n",
       "      <td>0.970582</td>\n",
       "    </tr>\n",
       "    <tr>\n",
       "      <td>270</td>\n",
       "      <td>0.054000</td>\n",
       "      <td>0.089309</td>\n",
       "      <td>0.973605</td>\n",
       "    </tr>\n",
       "  </tbody>\n",
       "</table><p>"
      ],
      "text/plain": [
       "<IPython.core.display.HTML object>"
      ]
     },
     "metadata": {},
     "output_type": "display_data"
    },
    {
     "name": "stderr",
     "output_type": "stream",
     "text": [
      "***** Running Evaluation *****\n",
      "  Num examples = 4963\n",
      "  Batch size = 32\n",
      "Saving model checkpoint to ./output_type/checkpoint-90\n",
      "Configuration saved in ./output_type/checkpoint-90/config.json\n",
      "Model weights saved in ./output_type/checkpoint-90/pytorch_model.bin\n",
      "Deleting older checkpoint [output_type/checkpoint-180] due to args.save_total_limit\n",
      "***** Running Evaluation *****\n",
      "  Num examples = 4963\n",
      "  Batch size = 32\n",
      "Saving model checkpoint to ./output_type/checkpoint-180\n",
      "Configuration saved in ./output_type/checkpoint-180/config.json\n",
      "Model weights saved in ./output_type/checkpoint-180/pytorch_model.bin\n",
      "Deleting older checkpoint [output_type/checkpoint-270] due to args.save_total_limit\n",
      "***** Running Evaluation *****\n",
      "  Num examples = 4963\n",
      "  Batch size = 32\n",
      "Saving model checkpoint to ./output_type/checkpoint-270\n",
      "Configuration saved in ./output_type/checkpoint-270/config.json\n",
      "Model weights saved in ./output_type/checkpoint-270/pytorch_model.bin\n",
      "Deleting older checkpoint [output_type/checkpoint-90] due to args.save_total_limit\n",
      "\n",
      "\n",
      "Training completed. Do not forget to share your model on huggingface.co/models =)\n",
      "\n",
      "\n",
      "Loading best model from ./output_type/checkpoint-270 (score: 0.9736046745919806).\n",
      "Configuration saved in ./model_emotion/config.json\n",
      "Model weights saved in ./model_emotion/pytorch_model.bin\n",
      "***** Running Prediction *****\n",
      "  Num examples = 7090\n",
      "  Batch size = 32\n"
     ]
    },
    {
     "data": {
      "text/html": [
       "\n",
       "    <div>\n",
       "      \n",
       "      <progress value='222' max='222' style='width:300px; height:20px; vertical-align: middle;'></progress>\n",
       "      [222/222 00:17]\n",
       "    </div>\n",
       "    "
      ],
      "text/plain": [
       "<IPython.core.display.HTML object>"
      ]
     },
     "metadata": {},
     "output_type": "display_data"
    }
   ],
   "source": [
    "emotion_model.to(gpu)\n",
    "\n",
    "emotion_trainer = Trainer(\n",
    "    model=emotion_model,\n",
    "    args=training_args,\n",
    "    train_dataset=train_emotion_dataset,\n",
    "    eval_dataset=valid_emotion_dataset,\n",
    "    compute_metrics=compute_metrics,\n",
    ")\n",
    "\n",
    "emotion_trainer.train()\n",
    "\n",
    "pred_tensor = emotion_trainer.predict(test_dataset)\n",
    "pred_emotion = pred_tensor.predictions.argmax(axis=1).tolist()"
   ]
  },
  {
   "cell_type": "code",
   "execution_count": 15,
   "id": "8fd7d109",
   "metadata": {},
   "outputs": [],
   "source": [
    "result = pd.DataFrame(pred_emotion, columns=[\"type\"])\n",
    "test_df_emotion = pd.concat([test_df,result],axis=1, ignore_index=True)\n",
    "test_df_emotion.to_csv(\"result_emotion.csv\")"
   ]
  }
 ],
 "metadata": {
  "kernelspec": {
   "display_name": "Python 3",
   "language": "python",
   "name": "python3"
  },
  "language_info": {
   "codemirror_mode": {
    "name": "ipython",
    "version": 3
   },
   "file_extension": ".py",
   "mimetype": "text/x-python",
   "name": "python",
   "nbconvert_exporter": "python",
   "pygments_lexer": "ipython3",
   "version": "3.6.9"
  }
 },
 "nbformat": 4,
 "nbformat_minor": 5
}
