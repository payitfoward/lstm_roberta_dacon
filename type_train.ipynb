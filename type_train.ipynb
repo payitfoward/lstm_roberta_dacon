{
 "cells": [
  {
   "cell_type": "code",
   "execution_count": 1,
   "id": "43140f53",
   "metadata": {},
   "outputs": [],
   "source": [
    "import pandas as pd\n",
    "import numpy as np\n",
    "import torch\n",
    "import os\n",
    "\n",
    "from transformers import AutoTokenizer, AutoConfig, TrainingArguments, Trainer\n",
    "from mkdataset import TypeDataset, TestDataset\n",
    "from datasets import load_metric, load_dataset\n",
    "from classifier import RobertaForSequenceClassification\n",
    "from sklearn.model_selection import StratifiedKFold\n",
    "from utils import set_allseed\n",
    "import warnings"
   ]
  },
  {
   "cell_type": "code",
   "execution_count": 2,
   "id": "9d7eb385",
   "metadata": {},
   "outputs": [],
   "source": [
    "seed = 777\n",
    "batch_size = 32\n",
    "save_steps = 103\n",
    "set_allseed(seed)\n",
    "\n",
    "gpu = torch.device(\"cuda\")\n",
    "cpu = torch.device(\"cpu\")\n",
    "warnings.filterwarnings(action='ignore') "
   ]
  },
  {
   "cell_type": "code",
   "execution_count": 3,
   "id": "137027c6",
   "metadata": {},
   "outputs": [],
   "source": [
    "def compute_metrics(pred):\n",
    "    f1 = load_metric(\"f1\")\n",
    "    references = pred.label_ids\n",
    "    predictions = pred.predictions.argmax(axis=1)\n",
    "    metric = f1.compute(predictions=predictions, references=references, average=\"micro\")\n",
    "    return metric"
   ]
  },
  {
   "cell_type": "code",
   "execution_count": 4,
   "id": "cd683a0e",
   "metadata": {},
   "outputs": [],
   "source": [
    "train_df = pd.read_csv(\"train.csv\")\n",
    "test_df = pd.read_csv(\"test.csv\")"
   ]
  },
  {
   "cell_type": "code",
   "execution_count": 5,
   "id": "707202af",
   "metadata": {},
   "outputs": [],
   "source": [
    "train_df = train_df[[\"문장\",\"유형\"]]"
   ]
  },
  {
   "cell_type": "code",
   "execution_count": 6,
   "id": "da72955f",
   "metadata": {},
   "outputs": [],
   "source": [
    "kfold_function = StratifiedKFold(n_splits=5, random_state=seed, shuffle=True)\n",
    "tokenizer = AutoTokenizer.from_pretrained(\"klue/roberta-base\")\n",
    "type_config = AutoConfig.from_pretrained(\"klue/roberta-base\")\n",
    "type_config.num_labels = len(train_df.유형.value_counts())"
   ]
  },
  {
   "cell_type": "code",
   "execution_count": 7,
   "id": "8a06096c",
   "metadata": {},
   "outputs": [],
   "source": [
    "training_args = TrainingArguments(\n",
    "    output_dir=\"./output_type\",\n",
    "    seed=seed,\n",
    "    save_total_limit=2,\n",
    "    save_steps = save_steps,\n",
    "    num_train_epochs = 5,\n",
    "    learning_rate= 1e-4,\n",
    "    per_device_train_batch_size=batch_size,\n",
    "    per_device_eval_batch_size=batch_size,\n",
    "    gradient_accumulation_steps=4,\n",
    "    weight_decay=1e-4,\n",
    "    logging_dir=\"./logs\",\n",
    "    logging_steps = save_steps,\n",
    "    evaluation_strategy = \"steps\",\n",
    "    metric_for_best_model = \"eval_f1\",\n",
    "    eval_steps = save_steps,\n",
    "    load_best_model_at_end=True,\n",
    ")\n",
    "test_dataset = TestDataset(data=test_df, tokenizer=tokenizer)"
   ]
  },
  {
   "cell_type": "code",
   "execution_count": 8,
   "id": "801b06f1",
   "metadata": {},
   "outputs": [
    {
     "name": "stderr",
     "output_type": "stream",
     "text": [
      "Some weights of the model checkpoint at klue/roberta-base were not used when initializing RobertaForSequenceClassification: ['lm_head.dense.bias', 'lm_head.decoder.weight', 'lm_head.dense.weight', 'lm_head.layer_norm.weight', 'lm_head.layer_norm.bias', 'lm_head.bias', 'lm_head.decoder.bias']\n",
      "- This IS expected if you are initializing RobertaForSequenceClassification from the checkpoint of a model trained on another task or with another architecture (e.g. initializing a BertForSequenceClassification model from a BertForPreTraining model).\n",
      "- This IS NOT expected if you are initializing RobertaForSequenceClassification from the checkpoint of a model that you expect to be exactly identical (initializing a BertForSequenceClassification model from a BertForSequenceClassification model).\n",
      "Some weights of RobertaForSequenceClassification were not initialized from the model checkpoint at klue/roberta-base and are newly initialized: ['lstm.weight_ih_l1_reverse', 'lstm.weight_ih_l0_reverse', 'lstm.bias_hh_l1', 'lstm.bias_hh_l0', 'lstm.bias_ih_l1_reverse', 'lstm.weight_hh_l0_reverse', 'classifier.weight', 'lstm.weight_hh_l1', 'lstm.bias_hh_l0_reverse', 'lstm.bias_hh_l1_reverse', 'lstm.weight_ih_l1', 'roberta.pooler.dense.weight', 'lstm.bias_ih_l1', 'lstm.weight_hh_l1_reverse', 'classifier.bias', 'lstm.weight_hh_l0', 'lstm.bias_ih_l0', 'lstm.bias_ih_l0_reverse', 'lstm.weight_ih_l0', 'roberta.pooler.dense.bias']\n",
      "You should probably TRAIN this model on a down-stream task to be able to use it for predictions and inference.\n",
      "***** Running training *****\n",
      "  Num examples = 13232\n",
      "  Num Epochs = 5\n",
      "  Instantaneous batch size per device = 32\n",
      "  Total train batch size (w. parallel, distributed & accumulation) = 128\n",
      "  Gradient Accumulation steps = 4\n",
      "  Total optimization steps = 515\n",
      "  Number of trainable parameters = 134241796\n"
     ]
    },
    {
     "data": {
      "application/vnd.jupyter.widget-view+json": {
       "model_id": "75ae94f513484dc09b6406d68872be55",
       "version_major": 2,
       "version_minor": 0
      },
      "text/plain": [
       "  0%|          | 0/515 [00:00<?, ?it/s]"
      ]
     },
     "metadata": {},
     "output_type": "display_data"
    },
    {
     "name": "stderr",
     "output_type": "stream",
     "text": [
      "***** Running Evaluation *****\n",
      "  Num examples = 3309\n",
      "  Batch size = 32\n"
     ]
    },
    {
     "name": "stdout",
     "output_type": "stream",
     "text": [
      "{'loss': 0.3895, 'learning_rate': 8e-05, 'epoch': 1.0}\n"
     ]
    },
    {
     "data": {
      "application/vnd.jupyter.widget-view+json": {
       "model_id": "fb89388a90a746e384ddaf2813aef67a",
       "version_major": 2,
       "version_minor": 0
      },
      "text/plain": [
       "  0%|          | 0/104 [00:00<?, ?it/s]"
      ]
     },
     "metadata": {},
     "output_type": "display_data"
    },
    {
     "name": "stderr",
     "output_type": "stream",
     "text": [
      "Saving model checkpoint to ./output_type\\checkpoint-103\n",
      "Configuration saved in ./output_type\\checkpoint-103\\config.json\n"
     ]
    },
    {
     "name": "stdout",
     "output_type": "stream",
     "text": [
      "{'eval_loss': 0.31170737743377686, 'eval_f1': 0.8700513750377757, 'eval_runtime': 9.7617, 'eval_samples_per_second': 338.977, 'eval_steps_per_second': 10.654, 'epoch': 1.0}\n"
     ]
    },
    {
     "name": "stderr",
     "output_type": "stream",
     "text": [
      "Model weights saved in ./output_type\\checkpoint-103\\pytorch_model.bin\n",
      "Deleting older checkpoint [output_type\\checkpoint-309] due to args.save_total_limit\n",
      "***** Running Evaluation *****\n",
      "  Num examples = 3309\n",
      "  Batch size = 32\n"
     ]
    },
    {
     "name": "stdout",
     "output_type": "stream",
     "text": [
      "{'loss': 0.2245, 'learning_rate': 6e-05, 'epoch': 2.0}\n"
     ]
    },
    {
     "data": {
      "application/vnd.jupyter.widget-view+json": {
       "model_id": "245b6d7432d74cb0afebda5a038d29f5",
       "version_major": 2,
       "version_minor": 0
      },
      "text/plain": [
       "  0%|          | 0/104 [00:00<?, ?it/s]"
      ]
     },
     "metadata": {},
     "output_type": "display_data"
    },
    {
     "name": "stderr",
     "output_type": "stream",
     "text": [
      "Saving model checkpoint to ./output_type\\checkpoint-206\n",
      "Configuration saved in ./output_type\\checkpoint-206\\config.json\n"
     ]
    },
    {
     "name": "stdout",
     "output_type": "stream",
     "text": [
      "{'eval_loss': 0.2734103202819824, 'eval_f1': 0.8966455122393472, 'eval_runtime': 9.5373, 'eval_samples_per_second': 346.955, 'eval_steps_per_second': 10.905, 'epoch': 2.0}\n"
     ]
    },
    {
     "name": "stderr",
     "output_type": "stream",
     "text": [
      "Model weights saved in ./output_type\\checkpoint-206\\pytorch_model.bin\n",
      "Deleting older checkpoint [output_type\\checkpoint-515] due to args.save_total_limit\n",
      "***** Running Evaluation *****\n",
      "  Num examples = 3309\n",
      "  Batch size = 32\n"
     ]
    },
    {
     "name": "stdout",
     "output_type": "stream",
     "text": [
      "{'loss': 0.14, 'learning_rate': 4e-05, 'epoch': 3.0}\n"
     ]
    },
    {
     "data": {
      "application/vnd.jupyter.widget-view+json": {
       "model_id": "275c2acd542a486096cf9a525a79a29e",
       "version_major": 2,
       "version_minor": 0
      },
      "text/plain": [
       "  0%|          | 0/104 [00:00<?, ?it/s]"
      ]
     },
     "metadata": {},
     "output_type": "display_data"
    },
    {
     "name": "stderr",
     "output_type": "stream",
     "text": [
      "Saving model checkpoint to ./output_type\\checkpoint-309\n",
      "Configuration saved in ./output_type\\checkpoint-309\\config.json\n"
     ]
    },
    {
     "name": "stdout",
     "output_type": "stream",
     "text": [
      "{'eval_loss': 0.30016273260116577, 'eval_f1': 0.8996675732849804, 'eval_runtime': 9.8027, 'eval_samples_per_second': 337.56, 'eval_steps_per_second': 10.609, 'epoch': 3.0}\n"
     ]
    },
    {
     "name": "stderr",
     "output_type": "stream",
     "text": [
      "Model weights saved in ./output_type\\checkpoint-309\\pytorch_model.bin\n",
      "Deleting older checkpoint [output_type\\checkpoint-103] due to args.save_total_limit\n",
      "***** Running Evaluation *****\n",
      "  Num examples = 3309\n",
      "  Batch size = 32\n"
     ]
    },
    {
     "name": "stdout",
     "output_type": "stream",
     "text": [
      "{'loss': 0.0638, 'learning_rate': 2e-05, 'epoch': 4.0}\n"
     ]
    },
    {
     "data": {
      "application/vnd.jupyter.widget-view+json": {
       "model_id": "ad433e5e2a6b45aeb6cf34162f082e1b",
       "version_major": 2,
       "version_minor": 0
      },
      "text/plain": [
       "  0%|          | 0/104 [00:00<?, ?it/s]"
      ]
     },
     "metadata": {},
     "output_type": "display_data"
    },
    {
     "name": "stderr",
     "output_type": "stream",
     "text": [
      "Saving model checkpoint to ./output_type\\checkpoint-412\n",
      "Configuration saved in ./output_type\\checkpoint-412\\config.json\n"
     ]
    },
    {
     "name": "stdout",
     "output_type": "stream",
     "text": [
      "{'eval_loss': 0.4078231453895569, 'eval_f1': 0.8987609549712904, 'eval_runtime': 9.4777, 'eval_samples_per_second': 349.136, 'eval_steps_per_second': 10.973, 'epoch': 4.0}\n"
     ]
    },
    {
     "name": "stderr",
     "output_type": "stream",
     "text": [
      "Model weights saved in ./output_type\\checkpoint-412\\pytorch_model.bin\n",
      "Deleting older checkpoint [output_type\\checkpoint-206] due to args.save_total_limit\n",
      "***** Running Evaluation *****\n",
      "  Num examples = 3309\n",
      "  Batch size = 32\n"
     ]
    },
    {
     "name": "stdout",
     "output_type": "stream",
     "text": [
      "{'loss': 0.028, 'learning_rate': 0.0, 'epoch': 5.0}\n"
     ]
    },
    {
     "data": {
      "application/vnd.jupyter.widget-view+json": {
       "model_id": "36f67263cdfb49ab9e6b0e19f574c95d",
       "version_major": 2,
       "version_minor": 0
      },
      "text/plain": [
       "  0%|          | 0/104 [00:00<?, ?it/s]"
      ]
     },
     "metadata": {},
     "output_type": "display_data"
    },
    {
     "name": "stderr",
     "output_type": "stream",
     "text": [
      "Saving model checkpoint to ./output_type\\checkpoint-515\n",
      "Configuration saved in ./output_type\\checkpoint-515\\config.json\n"
     ]
    },
    {
     "name": "stdout",
     "output_type": "stream",
     "text": [
      "{'eval_loss': 0.4920482039451599, 'eval_f1': 0.8948322756119673, 'eval_runtime': 9.7967, 'eval_samples_per_second': 337.768, 'eval_steps_per_second': 10.616, 'epoch': 5.0}\n"
     ]
    },
    {
     "name": "stderr",
     "output_type": "stream",
     "text": [
      "Model weights saved in ./output_type\\checkpoint-515\\pytorch_model.bin\n",
      "Deleting older checkpoint [output_type\\checkpoint-412] due to args.save_total_limit\n",
      "\n",
      "\n",
      "Training completed. Do not forget to share your model on huggingface.co/models =)\n",
      "\n",
      "\n",
      "Loading best model from ./output_type\\checkpoint-309 (score: 0.8996675732849804).\n",
      "***** Running Prediction *****\n",
      "  Num examples = 7090\n",
      "  Batch size = 32\n"
     ]
    },
    {
     "name": "stdout",
     "output_type": "stream",
     "text": [
      "{'train_runtime': 1090.4835, 'train_samples_per_second': 60.67, 'train_steps_per_second': 0.472, 'train_loss': 0.1691533579409701, 'epoch': 5.0}\n"
     ]
    },
    {
     "data": {
      "application/vnd.jupyter.widget-view+json": {
       "model_id": "f3d0cef73f074980bbc9afd00e261f41",
       "version_major": 2,
       "version_minor": 0
      },
      "text/plain": [
       "  0%|          | 0/222 [00:00<?, ?it/s]"
      ]
     },
     "metadata": {},
     "output_type": "display_data"
    },
    {
     "name": "stderr",
     "output_type": "stream",
     "text": [
      "loading weights file pytorch_model.bin from cache at C:\\Users\\Administrator/.cache\\huggingface\\hub\\models--klue--roberta-base\\snapshots\\67dd433d36ebc66a42c9aaa85abcf8d2620e41d9\\pytorch_model.bin\n",
      "Some weights of the model checkpoint at klue/roberta-base were not used when initializing RobertaForSequenceClassification: ['lm_head.dense.bias', 'lm_head.decoder.weight', 'lm_head.dense.weight', 'lm_head.layer_norm.weight', 'lm_head.layer_norm.bias', 'lm_head.bias', 'lm_head.decoder.bias']\n",
      "- This IS expected if you are initializing RobertaForSequenceClassification from the checkpoint of a model trained on another task or with another architecture (e.g. initializing a BertForSequenceClassification model from a BertForPreTraining model).\n",
      "- This IS NOT expected if you are initializing RobertaForSequenceClassification from the checkpoint of a model that you expect to be exactly identical (initializing a BertForSequenceClassification model from a BertForSequenceClassification model).\n",
      "Some weights of RobertaForSequenceClassification were not initialized from the model checkpoint at klue/roberta-base and are newly initialized: ['lstm.weight_ih_l1_reverse', 'lstm.weight_ih_l0_reverse', 'lstm.bias_hh_l1', 'lstm.bias_hh_l0', 'lstm.bias_ih_l1_reverse', 'lstm.weight_hh_l0_reverse', 'classifier.weight', 'lstm.weight_hh_l1', 'lstm.bias_hh_l0_reverse', 'lstm.bias_hh_l1_reverse', 'lstm.weight_ih_l1', 'roberta.pooler.dense.weight', 'lstm.bias_ih_l1', 'lstm.weight_hh_l1_reverse', 'classifier.bias', 'lstm.weight_hh_l0', 'lstm.bias_ih_l0', 'lstm.bias_ih_l0_reverse', 'lstm.weight_ih_l0', 'roberta.pooler.dense.bias']\n",
      "You should probably TRAIN this model on a down-stream task to be able to use it for predictions and inference.\n",
      "***** Running training *****\n",
      "  Num examples = 13233\n",
      "  Num Epochs = 5\n",
      "  Instantaneous batch size per device = 32\n",
      "  Total train batch size (w. parallel, distributed & accumulation) = 128\n",
      "  Gradient Accumulation steps = 4\n",
      "  Total optimization steps = 515\n",
      "  Number of trainable parameters = 134241796\n"
     ]
    },
    {
     "data": {
      "application/vnd.jupyter.widget-view+json": {
       "model_id": "6fa9e23d9ef1496fa35c30c5c8c7b4bd",
       "version_major": 2,
       "version_minor": 0
      },
      "text/plain": [
       "  0%|          | 0/515 [00:00<?, ?it/s]"
      ]
     },
     "metadata": {},
     "output_type": "display_data"
    },
    {
     "name": "stderr",
     "output_type": "stream",
     "text": [
      "***** Running Evaluation *****\n",
      "  Num examples = 3308\n",
      "  Batch size = 32\n"
     ]
    },
    {
     "name": "stdout",
     "output_type": "stream",
     "text": [
      "{'loss': 0.3648, 'learning_rate': 8e-05, 'epoch': 1.0}\n"
     ]
    },
    {
     "data": {
      "application/vnd.jupyter.widget-view+json": {
       "model_id": "59569d0028c9441bb28e3f576fc7ac1e",
       "version_major": 2,
       "version_minor": 0
      },
      "text/plain": [
       "  0%|          | 0/104 [00:00<?, ?it/s]"
      ]
     },
     "metadata": {},
     "output_type": "display_data"
    },
    {
     "name": "stderr",
     "output_type": "stream",
     "text": [
      "Saving model checkpoint to ./output_type\\checkpoint-103\n",
      "Configuration saved in ./output_type\\checkpoint-103\\config.json\n"
     ]
    },
    {
     "name": "stdout",
     "output_type": "stream",
     "text": [
      "{'eval_loss': 0.29244914650917053, 'eval_f1': 0.8990326481257558, 'eval_runtime': 9.6015, 'eval_samples_per_second': 344.531, 'eval_steps_per_second': 10.832, 'epoch': 1.0}\n"
     ]
    },
    {
     "name": "stderr",
     "output_type": "stream",
     "text": [
      "Model weights saved in ./output_type\\checkpoint-103\\pytorch_model.bin\n",
      "Deleting older checkpoint [output_type\\checkpoint-309] due to args.save_total_limit\n",
      "***** Running Evaluation *****\n",
      "  Num examples = 3308\n",
      "  Batch size = 32\n"
     ]
    },
    {
     "name": "stdout",
     "output_type": "stream",
     "text": [
      "{'loss': 0.2267, 'learning_rate': 6e-05, 'epoch': 2.0}\n"
     ]
    },
    {
     "data": {
      "application/vnd.jupyter.widget-view+json": {
       "model_id": "13b73aaf97b644b1a0bd566b9d6e9ae3",
       "version_major": 2,
       "version_minor": 0
      },
      "text/plain": [
       "  0%|          | 0/104 [00:00<?, ?it/s]"
      ]
     },
     "metadata": {},
     "output_type": "display_data"
    },
    {
     "name": "stderr",
     "output_type": "stream",
     "text": [
      "Saving model checkpoint to ./output_type\\checkpoint-206\n",
      "Configuration saved in ./output_type\\checkpoint-206\\config.json\n"
     ]
    },
    {
     "name": "stdout",
     "output_type": "stream",
     "text": [
      "{'eval_loss': 0.25731366872787476, 'eval_f1': 0.909310761789601, 'eval_runtime': 9.8474, 'eval_samples_per_second': 335.926, 'eval_steps_per_second': 10.561, 'epoch': 2.0}\n"
     ]
    },
    {
     "name": "stderr",
     "output_type": "stream",
     "text": [
      "Model weights saved in ./output_type\\checkpoint-206\\pytorch_model.bin\n",
      "Deleting older checkpoint [output_type\\checkpoint-515] due to args.save_total_limit\n",
      "***** Running Evaluation *****\n",
      "  Num examples = 3308\n",
      "  Batch size = 32\n"
     ]
    },
    {
     "name": "stdout",
     "output_type": "stream",
     "text": [
      "{'loss': 0.1306, 'learning_rate': 4e-05, 'epoch': 3.0}\n"
     ]
    },
    {
     "data": {
      "application/vnd.jupyter.widget-view+json": {
       "model_id": "a1985086341c423d9a256ec0fc7ed8f5",
       "version_major": 2,
       "version_minor": 0
      },
      "text/plain": [
       "  0%|          | 0/104 [00:00<?, ?it/s]"
      ]
     },
     "metadata": {},
     "output_type": "display_data"
    },
    {
     "name": "stderr",
     "output_type": "stream",
     "text": [
      "Saving model checkpoint to ./output_type\\checkpoint-309\n",
      "Configuration saved in ./output_type\\checkpoint-309\\config.json\n"
     ]
    },
    {
     "name": "stdout",
     "output_type": "stream",
     "text": [
      "{'eval_loss': 0.3119570314884186, 'eval_f1': 0.8893591293833131, 'eval_runtime': 9.63, 'eval_samples_per_second': 343.509, 'eval_steps_per_second': 10.8, 'epoch': 3.0}\n"
     ]
    },
    {
     "name": "stderr",
     "output_type": "stream",
     "text": [
      "Model weights saved in ./output_type\\checkpoint-309\\pytorch_model.bin\n",
      "Deleting older checkpoint [output_type\\checkpoint-103] due to args.save_total_limit\n",
      "***** Running Evaluation *****\n",
      "  Num examples = 3308\n",
      "  Batch size = 32\n"
     ]
    },
    {
     "name": "stdout",
     "output_type": "stream",
     "text": [
      "{'loss': 0.061, 'learning_rate': 2e-05, 'epoch': 4.0}\n"
     ]
    },
    {
     "data": {
      "application/vnd.jupyter.widget-view+json": {
       "model_id": "e1493381916b4d2a890e011816140bd4",
       "version_major": 2,
       "version_minor": 0
      },
      "text/plain": [
       "  0%|          | 0/104 [00:00<?, ?it/s]"
      ]
     },
     "metadata": {},
     "output_type": "display_data"
    },
    {
     "name": "stderr",
     "output_type": "stream",
     "text": [
      "Saving model checkpoint to ./output_type\\checkpoint-412\n",
      "Configuration saved in ./output_type\\checkpoint-412\\config.json\n"
     ]
    },
    {
     "name": "stdout",
     "output_type": "stream",
     "text": [
      "{'eval_loss': 0.4009372889995575, 'eval_f1': 0.8917775090689238, 'eval_runtime': 9.9917, 'eval_samples_per_second': 331.075, 'eval_steps_per_second': 10.409, 'epoch': 4.0}\n"
     ]
    },
    {
     "name": "stderr",
     "output_type": "stream",
     "text": [
      "Model weights saved in ./output_type\\checkpoint-412\\pytorch_model.bin\n",
      "Deleting older checkpoint [output_type\\checkpoint-309] due to args.save_total_limit\n",
      "***** Running Evaluation *****\n",
      "  Num examples = 3308\n",
      "  Batch size = 32\n"
     ]
    },
    {
     "name": "stdout",
     "output_type": "stream",
     "text": [
      "{'loss': 0.0264, 'learning_rate': 0.0, 'epoch': 5.0}\n"
     ]
    },
    {
     "data": {
      "application/vnd.jupyter.widget-view+json": {
       "model_id": "807a4583dea7454295e3c7b35345c1f5",
       "version_major": 2,
       "version_minor": 0
      },
      "text/plain": [
       "  0%|          | 0/104 [00:00<?, ?it/s]"
      ]
     },
     "metadata": {},
     "output_type": "display_data"
    },
    {
     "name": "stderr",
     "output_type": "stream",
     "text": [
      "Saving model checkpoint to ./output_type\\checkpoint-515\n",
      "Configuration saved in ./output_type\\checkpoint-515\\config.json\n"
     ]
    },
    {
     "name": "stdout",
     "output_type": "stream",
     "text": [
      "{'eval_loss': 0.5338739156723022, 'eval_f1': 0.8932889963724304, 'eval_runtime': 9.6819, 'eval_samples_per_second': 341.669, 'eval_steps_per_second': 10.742, 'epoch': 5.0}\n"
     ]
    },
    {
     "name": "stderr",
     "output_type": "stream",
     "text": [
      "Model weights saved in ./output_type\\checkpoint-515\\pytorch_model.bin\n",
      "Deleting older checkpoint [output_type\\checkpoint-412] due to args.save_total_limit\n",
      "\n",
      "\n",
      "Training completed. Do not forget to share your model on huggingface.co/models =)\n",
      "\n",
      "\n",
      "Loading best model from ./output_type\\checkpoint-206 (score: 0.909310761789601).\n",
      "***** Running Prediction *****\n",
      "  Num examples = 7090\n",
      "  Batch size = 32\n"
     ]
    },
    {
     "name": "stdout",
     "output_type": "stream",
     "text": [
      "{'train_runtime': 1092.066, 'train_samples_per_second': 60.587, 'train_steps_per_second': 0.472, 'train_loss': 0.16187579562363116, 'epoch': 5.0}\n"
     ]
    },
    {
     "data": {
      "application/vnd.jupyter.widget-view+json": {
       "model_id": "41cbb2db819b4a3281614853b9492a60",
       "version_major": 2,
       "version_minor": 0
      },
      "text/plain": [
       "  0%|          | 0/222 [00:00<?, ?it/s]"
      ]
     },
     "metadata": {},
     "output_type": "display_data"
    },
    {
     "name": "stderr",
     "output_type": "stream",
     "text": [
      "loading weights file pytorch_model.bin from cache at C:\\Users\\Administrator/.cache\\huggingface\\hub\\models--klue--roberta-base\\snapshots\\67dd433d36ebc66a42c9aaa85abcf8d2620e41d9\\pytorch_model.bin\n",
      "Some weights of the model checkpoint at klue/roberta-base were not used when initializing RobertaForSequenceClassification: ['lm_head.dense.bias', 'lm_head.decoder.weight', 'lm_head.dense.weight', 'lm_head.layer_norm.weight', 'lm_head.layer_norm.bias', 'lm_head.bias', 'lm_head.decoder.bias']\n",
      "- This IS expected if you are initializing RobertaForSequenceClassification from the checkpoint of a model trained on another task or with another architecture (e.g. initializing a BertForSequenceClassification model from a BertForPreTraining model).\n",
      "- This IS NOT expected if you are initializing RobertaForSequenceClassification from the checkpoint of a model that you expect to be exactly identical (initializing a BertForSequenceClassification model from a BertForSequenceClassification model).\n",
      "Some weights of RobertaForSequenceClassification were not initialized from the model checkpoint at klue/roberta-base and are newly initialized: ['lstm.weight_ih_l1_reverse', 'lstm.weight_ih_l0_reverse', 'lstm.bias_hh_l1', 'lstm.bias_hh_l0', 'lstm.bias_ih_l1_reverse', 'lstm.weight_hh_l0_reverse', 'classifier.weight', 'lstm.weight_hh_l1', 'lstm.bias_hh_l0_reverse', 'lstm.bias_hh_l1_reverse', 'lstm.weight_ih_l1', 'roberta.pooler.dense.weight', 'lstm.bias_ih_l1', 'lstm.weight_hh_l1_reverse', 'classifier.bias', 'lstm.weight_hh_l0', 'lstm.bias_ih_l0', 'lstm.bias_ih_l0_reverse', 'lstm.weight_ih_l0', 'roberta.pooler.dense.bias']\n",
      "You should probably TRAIN this model on a down-stream task to be able to use it for predictions and inference.\n",
      "***** Running training *****\n",
      "  Num examples = 13233\n",
      "  Num Epochs = 5\n",
      "  Instantaneous batch size per device = 32\n",
      "  Total train batch size (w. parallel, distributed & accumulation) = 128\n",
      "  Gradient Accumulation steps = 4\n",
      "  Total optimization steps = 515\n",
      "  Number of trainable parameters = 134241796\n"
     ]
    },
    {
     "data": {
      "application/vnd.jupyter.widget-view+json": {
       "model_id": "c89ce4a37f174e1e985e744025dc3df7",
       "version_major": 2,
       "version_minor": 0
      },
      "text/plain": [
       "  0%|          | 0/515 [00:00<?, ?it/s]"
      ]
     },
     "metadata": {},
     "output_type": "display_data"
    },
    {
     "name": "stderr",
     "output_type": "stream",
     "text": [
      "***** Running Evaluation *****\n",
      "  Num examples = 3308\n",
      "  Batch size = 32\n"
     ]
    },
    {
     "name": "stdout",
     "output_type": "stream",
     "text": [
      "{'loss': 0.3804, 'learning_rate': 8e-05, 'epoch': 1.0}\n"
     ]
    },
    {
     "data": {
      "application/vnd.jupyter.widget-view+json": {
       "model_id": "e891c037b9ed44a6a914f4fa0b5df936",
       "version_major": 2,
       "version_minor": 0
      },
      "text/plain": [
       "  0%|          | 0/104 [00:00<?, ?it/s]"
      ]
     },
     "metadata": {},
     "output_type": "display_data"
    },
    {
     "name": "stderr",
     "output_type": "stream",
     "text": [
      "Saving model checkpoint to ./output_type\\checkpoint-103\n",
      "Configuration saved in ./output_type\\checkpoint-103\\config.json\n"
     ]
    },
    {
     "name": "stdout",
     "output_type": "stream",
     "text": [
      "{'eval_loss': 0.28854236006736755, 'eval_f1': 0.8872430471584039, 'eval_runtime': 19.4114, 'eval_samples_per_second': 170.415, 'eval_steps_per_second': 5.358, 'epoch': 1.0}\n"
     ]
    },
    {
     "name": "stderr",
     "output_type": "stream",
     "text": [
      "Model weights saved in ./output_type\\checkpoint-103\\pytorch_model.bin\n",
      "Deleting older checkpoint [output_type\\checkpoint-206] due to args.save_total_limit\n",
      "***** Running Evaluation *****\n",
      "  Num examples = 3308\n",
      "  Batch size = 32\n"
     ]
    },
    {
     "name": "stdout",
     "output_type": "stream",
     "text": [
      "{'loss': 0.2277, 'learning_rate': 6e-05, 'epoch': 2.0}\n"
     ]
    },
    {
     "data": {
      "application/vnd.jupyter.widget-view+json": {
       "model_id": "647a529d0b3a4265930b821186cdfab4",
       "version_major": 2,
       "version_minor": 0
      },
      "text/plain": [
       "  0%|          | 0/104 [00:00<?, ?it/s]"
      ]
     },
     "metadata": {},
     "output_type": "display_data"
    },
    {
     "name": "stderr",
     "output_type": "stream",
     "text": [
      "Saving model checkpoint to ./output_type\\checkpoint-206\n",
      "Configuration saved in ./output_type\\checkpoint-206\\config.json\n"
     ]
    },
    {
     "name": "stdout",
     "output_type": "stream",
     "text": [
      "{'eval_loss': 0.2795712649822235, 'eval_f1': 0.8975211608222492, 'eval_runtime': 19.1522, 'eval_samples_per_second': 172.722, 'eval_steps_per_second': 5.43, 'epoch': 2.0}\n"
     ]
    },
    {
     "name": "stderr",
     "output_type": "stream",
     "text": [
      "Model weights saved in ./output_type\\checkpoint-206\\pytorch_model.bin\n",
      "Deleting older checkpoint [output_type\\checkpoint-515] due to args.save_total_limit\n",
      "***** Running Evaluation *****\n",
      "  Num examples = 3308\n",
      "  Batch size = 32\n"
     ]
    },
    {
     "name": "stdout",
     "output_type": "stream",
     "text": [
      "{'loss': 0.1397, 'learning_rate': 4e-05, 'epoch': 3.0}\n"
     ]
    },
    {
     "data": {
      "application/vnd.jupyter.widget-view+json": {
       "model_id": "1e8df2f4f24f4dcf8c84808371fb5e5d",
       "version_major": 2,
       "version_minor": 0
      },
      "text/plain": [
       "  0%|          | 0/104 [00:00<?, ?it/s]"
      ]
     },
     "metadata": {},
     "output_type": "display_data"
    },
    {
     "name": "stderr",
     "output_type": "stream",
     "text": [
      "Saving model checkpoint to ./output_type\\checkpoint-309\n",
      "Configuration saved in ./output_type\\checkpoint-309\\config.json\n"
     ]
    },
    {
     "name": "stdout",
     "output_type": "stream",
     "text": [
      "{'eval_loss': 0.35249850153923035, 'eval_f1': 0.8960096735187424, 'eval_runtime': 19.1172, 'eval_samples_per_second': 173.038, 'eval_steps_per_second': 5.44, 'epoch': 3.0}\n"
     ]
    },
    {
     "name": "stderr",
     "output_type": "stream",
     "text": [
      "Model weights saved in ./output_type\\checkpoint-309\\pytorch_model.bin\n",
      "Deleting older checkpoint [output_type\\checkpoint-103] due to args.save_total_limit\n",
      "***** Running Evaluation *****\n",
      "  Num examples = 3308\n",
      "  Batch size = 32\n"
     ]
    },
    {
     "name": "stdout",
     "output_type": "stream",
     "text": [
      "{'loss': 0.0707, 'learning_rate': 2e-05, 'epoch': 4.0}\n"
     ]
    },
    {
     "data": {
      "application/vnd.jupyter.widget-view+json": {
       "model_id": "ed8bbe6ebb66483880ce41249bc2289b",
       "version_major": 2,
       "version_minor": 0
      },
      "text/plain": [
       "  0%|          | 0/104 [00:00<?, ?it/s]"
      ]
     },
     "metadata": {},
     "output_type": "display_data"
    },
    {
     "name": "stderr",
     "output_type": "stream",
     "text": [
      "Saving model checkpoint to ./output_type\\checkpoint-412\n",
      "Configuration saved in ./output_type\\checkpoint-412\\config.json\n"
     ]
    },
    {
     "name": "stdout",
     "output_type": "stream",
     "text": [
      "{'eval_loss': 0.4119566082954407, 'eval_f1': 0.8839177750906894, 'eval_runtime': 19.3241, 'eval_samples_per_second': 171.185, 'eval_steps_per_second': 5.382, 'epoch': 4.0}\n"
     ]
    },
    {
     "name": "stderr",
     "output_type": "stream",
     "text": [
      "Model weights saved in ./output_type\\checkpoint-412\\pytorch_model.bin\n",
      "Deleting older checkpoint [output_type\\checkpoint-309] due to args.save_total_limit\n",
      "***** Running Evaluation *****\n",
      "  Num examples = 3308\n",
      "  Batch size = 32\n"
     ]
    },
    {
     "name": "stdout",
     "output_type": "stream",
     "text": [
      "{'loss': 0.0323, 'learning_rate': 0.0, 'epoch': 5.0}\n"
     ]
    },
    {
     "data": {
      "application/vnd.jupyter.widget-view+json": {
       "model_id": "20f4db9e89ba42ad80cd34ced8e559e8",
       "version_major": 2,
       "version_minor": 0
      },
      "text/plain": [
       "  0%|          | 0/104 [00:00<?, ?it/s]"
      ]
     },
     "metadata": {},
     "output_type": "display_data"
    },
    {
     "name": "stderr",
     "output_type": "stream",
     "text": [
      "Saving model checkpoint to ./output_type\\checkpoint-515\n",
      "Configuration saved in ./output_type\\checkpoint-515\\config.json\n"
     ]
    },
    {
     "name": "stdout",
     "output_type": "stream",
     "text": [
      "{'eval_loss': 0.5224068760871887, 'eval_f1': 0.8893591293833131, 'eval_runtime': 19.0902, 'eval_samples_per_second': 173.282, 'eval_steps_per_second': 5.448, 'epoch': 5.0}\n"
     ]
    },
    {
     "name": "stderr",
     "output_type": "stream",
     "text": [
      "Model weights saved in ./output_type\\checkpoint-515\\pytorch_model.bin\n",
      "Deleting older checkpoint [output_type\\checkpoint-412] due to args.save_total_limit\n",
      "\n",
      "\n",
      "Training completed. Do not forget to share your model on huggingface.co/models =)\n",
      "\n",
      "\n",
      "Loading best model from ./output_type\\checkpoint-206 (score: 0.8975211608222492).\n",
      "***** Running Prediction *****\n",
      "  Num examples = 7090\n",
      "  Batch size = 32\n"
     ]
    },
    {
     "name": "stdout",
     "output_type": "stream",
     "text": [
      "{'train_runtime': 670.4847, 'train_samples_per_second': 98.682, 'train_steps_per_second': 0.768, 'train_loss': 0.17015214984856764, 'epoch': 5.0}\n"
     ]
    },
    {
     "data": {
      "application/vnd.jupyter.widget-view+json": {
       "model_id": "f0616241343246128b7b74fa01626602",
       "version_major": 2,
       "version_minor": 0
      },
      "text/plain": [
       "  0%|          | 0/222 [00:00<?, ?it/s]"
      ]
     },
     "metadata": {},
     "output_type": "display_data"
    },
    {
     "name": "stderr",
     "output_type": "stream",
     "text": [
      "loading weights file pytorch_model.bin from cache at C:\\Users\\Administrator/.cache\\huggingface\\hub\\models--klue--roberta-base\\snapshots\\67dd433d36ebc66a42c9aaa85abcf8d2620e41d9\\pytorch_model.bin\n",
      "Some weights of the model checkpoint at klue/roberta-base were not used when initializing RobertaForSequenceClassification: ['lm_head.dense.bias', 'lm_head.decoder.weight', 'lm_head.dense.weight', 'lm_head.layer_norm.weight', 'lm_head.layer_norm.bias', 'lm_head.bias', 'lm_head.decoder.bias']\n",
      "- This IS expected if you are initializing RobertaForSequenceClassification from the checkpoint of a model trained on another task or with another architecture (e.g. initializing a BertForSequenceClassification model from a BertForPreTraining model).\n",
      "- This IS NOT expected if you are initializing RobertaForSequenceClassification from the checkpoint of a model that you expect to be exactly identical (initializing a BertForSequenceClassification model from a BertForSequenceClassification model).\n",
      "Some weights of RobertaForSequenceClassification were not initialized from the model checkpoint at klue/roberta-base and are newly initialized: ['lstm.weight_ih_l1_reverse', 'lstm.weight_ih_l0_reverse', 'lstm.bias_hh_l1', 'lstm.bias_hh_l0', 'lstm.bias_ih_l1_reverse', 'lstm.weight_hh_l0_reverse', 'classifier.weight', 'lstm.weight_hh_l1', 'lstm.bias_hh_l0_reverse', 'lstm.bias_hh_l1_reverse', 'lstm.weight_ih_l1', 'roberta.pooler.dense.weight', 'lstm.bias_ih_l1', 'lstm.weight_hh_l1_reverse', 'classifier.bias', 'lstm.weight_hh_l0', 'lstm.bias_ih_l0', 'lstm.bias_ih_l0_reverse', 'lstm.weight_ih_l0', 'roberta.pooler.dense.bias']\n",
      "You should probably TRAIN this model on a down-stream task to be able to use it for predictions and inference.\n",
      "***** Running training *****\n",
      "  Num examples = 13233\n",
      "  Num Epochs = 5\n",
      "  Instantaneous batch size per device = 32\n",
      "  Total train batch size (w. parallel, distributed & accumulation) = 128\n",
      "  Gradient Accumulation steps = 4\n",
      "  Total optimization steps = 515\n",
      "  Number of trainable parameters = 134241796\n"
     ]
    },
    {
     "data": {
      "application/vnd.jupyter.widget-view+json": {
       "model_id": "f0fa31c283e243de932f1f5af5c305ee",
       "version_major": 2,
       "version_minor": 0
      },
      "text/plain": [
       "  0%|          | 0/515 [00:00<?, ?it/s]"
      ]
     },
     "metadata": {},
     "output_type": "display_data"
    },
    {
     "name": "stderr",
     "output_type": "stream",
     "text": [
      "***** Running Evaluation *****\n",
      "  Num examples = 3308\n",
      "  Batch size = 32\n"
     ]
    },
    {
     "name": "stdout",
     "output_type": "stream",
     "text": [
      "{'loss': 0.4364, 'learning_rate': 8e-05, 'epoch': 1.0}\n"
     ]
    },
    {
     "data": {
      "application/vnd.jupyter.widget-view+json": {
       "model_id": "57ffba1da2fc4b788877daaaececd7bc",
       "version_major": 2,
       "version_minor": 0
      },
      "text/plain": [
       "  0%|          | 0/104 [00:00<?, ?it/s]"
      ]
     },
     "metadata": {},
     "output_type": "display_data"
    },
    {
     "name": "stderr",
     "output_type": "stream",
     "text": [
      "Saving model checkpoint to ./output_type\\checkpoint-103\n",
      "Configuration saved in ./output_type\\checkpoint-103\\config.json\n"
     ]
    },
    {
     "name": "stdout",
     "output_type": "stream",
     "text": [
      "{'eval_loss': 0.3547228276729584, 'eval_f1': 0.8591293833131801, 'eval_runtime': 10.2013, 'eval_samples_per_second': 324.271, 'eval_steps_per_second': 10.195, 'epoch': 1.0}\n"
     ]
    },
    {
     "name": "stderr",
     "output_type": "stream",
     "text": [
      "Model weights saved in ./output_type\\checkpoint-103\\pytorch_model.bin\n",
      "Deleting older checkpoint [output_type\\checkpoint-206] due to args.save_total_limit\n",
      "***** Running Evaluation *****\n",
      "  Num examples = 3308\n",
      "  Batch size = 32\n"
     ]
    },
    {
     "name": "stdout",
     "output_type": "stream",
     "text": [
      "{'loss': 0.2485, 'learning_rate': 6e-05, 'epoch': 2.0}\n"
     ]
    },
    {
     "data": {
      "application/vnd.jupyter.widget-view+json": {
       "model_id": "cf4c72b6d41249ef84275699635aef3b",
       "version_major": 2,
       "version_minor": 0
      },
      "text/plain": [
       "  0%|          | 0/104 [00:00<?, ?it/s]"
      ]
     },
     "metadata": {},
     "output_type": "display_data"
    },
    {
     "name": "stderr",
     "output_type": "stream",
     "text": [
      "Saving model checkpoint to ./output_type\\checkpoint-206\n",
      "Configuration saved in ./output_type\\checkpoint-206\\config.json\n"
     ]
    },
    {
     "name": "stdout",
     "output_type": "stream",
     "text": [
      "{'eval_loss': 0.2769724726676941, 'eval_f1': 0.8827085852478839, 'eval_runtime': 9.8622, 'eval_samples_per_second': 335.422, 'eval_steps_per_second': 10.545, 'epoch': 2.0}\n"
     ]
    },
    {
     "name": "stderr",
     "output_type": "stream",
     "text": [
      "Model weights saved in ./output_type\\checkpoint-206\\pytorch_model.bin\n",
      "Deleting older checkpoint [output_type\\checkpoint-515] due to args.save_total_limit\n",
      "***** Running Evaluation *****\n",
      "  Num examples = 3308\n",
      "  Batch size = 32\n"
     ]
    },
    {
     "name": "stdout",
     "output_type": "stream",
     "text": [
      "{'loss': 0.153, 'learning_rate': 4e-05, 'epoch': 3.0}\n"
     ]
    },
    {
     "data": {
      "application/vnd.jupyter.widget-view+json": {
       "model_id": "323b44bb2fd74188917ea7f8fdad6884",
       "version_major": 2,
       "version_minor": 0
      },
      "text/plain": [
       "  0%|          | 0/104 [00:00<?, ?it/s]"
      ]
     },
     "metadata": {},
     "output_type": "display_data"
    },
    {
     "name": "stderr",
     "output_type": "stream",
     "text": [
      "Saving model checkpoint to ./output_type\\checkpoint-309\n",
      "Configuration saved in ./output_type\\checkpoint-309\\config.json\n"
     ]
    },
    {
     "name": "stdout",
     "output_type": "stream",
     "text": [
      "{'eval_loss': 0.33016979694366455, 'eval_f1': 0.8923821039903265, 'eval_runtime': 10.2007, 'eval_samples_per_second': 324.29, 'eval_steps_per_second': 10.195, 'epoch': 3.0}\n"
     ]
    },
    {
     "name": "stderr",
     "output_type": "stream",
     "text": [
      "Model weights saved in ./output_type\\checkpoint-309\\pytorch_model.bin\n",
      "Deleting older checkpoint [output_type\\checkpoint-103] due to args.save_total_limit\n",
      "***** Running Evaluation *****\n",
      "  Num examples = 3308\n",
      "  Batch size = 32\n"
     ]
    },
    {
     "name": "stdout",
     "output_type": "stream",
     "text": [
      "{'loss': 0.0746, 'learning_rate': 2e-05, 'epoch': 4.0}\n"
     ]
    },
    {
     "data": {
      "application/vnd.jupyter.widget-view+json": {
       "model_id": "464e378f34364b5a8e93c4a1eb4353b6",
       "version_major": 2,
       "version_minor": 0
      },
      "text/plain": [
       "  0%|          | 0/104 [00:00<?, ?it/s]"
      ]
     },
     "metadata": {},
     "output_type": "display_data"
    },
    {
     "name": "stderr",
     "output_type": "stream",
     "text": [
      "Saving model checkpoint to ./output_type\\checkpoint-412\n",
      "Configuration saved in ./output_type\\checkpoint-412\\config.json\n"
     ]
    },
    {
     "name": "stdout",
     "output_type": "stream",
     "text": [
      "{'eval_loss': 0.476028710603714, 'eval_f1': 0.8896614268440145, 'eval_runtime': 10.0398, 'eval_samples_per_second': 329.488, 'eval_steps_per_second': 10.359, 'epoch': 4.0}\n"
     ]
    },
    {
     "name": "stderr",
     "output_type": "stream",
     "text": [
      "Model weights saved in ./output_type\\checkpoint-412\\pytorch_model.bin\n",
      "Deleting older checkpoint [output_type\\checkpoint-206] due to args.save_total_limit\n",
      "***** Running Evaluation *****\n",
      "  Num examples = 3308\n",
      "  Batch size = 32\n"
     ]
    },
    {
     "name": "stdout",
     "output_type": "stream",
     "text": [
      "{'loss': 0.031, 'learning_rate': 0.0, 'epoch': 5.0}\n"
     ]
    },
    {
     "data": {
      "application/vnd.jupyter.widget-view+json": {
       "model_id": "8d9cbed150d64b87a37592120f25d7f1",
       "version_major": 2,
       "version_minor": 0
      },
      "text/plain": [
       "  0%|          | 0/104 [00:00<?, ?it/s]"
      ]
     },
     "metadata": {},
     "output_type": "display_data"
    },
    {
     "name": "stderr",
     "output_type": "stream",
     "text": [
      "Saving model checkpoint to ./output_type\\checkpoint-515\n",
      "Configuration saved in ./output_type\\checkpoint-515\\config.json\n"
     ]
    },
    {
     "name": "stdout",
     "output_type": "stream",
     "text": [
      "{'eval_loss': 0.5785785913467407, 'eval_f1': 0.8929866989117291, 'eval_runtime': 10.1599, 'eval_samples_per_second': 325.594, 'eval_steps_per_second': 10.236, 'epoch': 5.0}\n"
     ]
    },
    {
     "name": "stderr",
     "output_type": "stream",
     "text": [
      "Model weights saved in ./output_type\\checkpoint-515\\pytorch_model.bin\n",
      "Deleting older checkpoint [output_type\\checkpoint-309] due to args.save_total_limit\n",
      "\n",
      "\n",
      "Training completed. Do not forget to share your model on huggingface.co/models =)\n",
      "\n",
      "\n",
      "Loading best model from ./output_type\\checkpoint-515 (score: 0.8929866989117291).\n",
      "***** Running Prediction *****\n",
      "  Num examples = 7090\n",
      "  Batch size = 32\n"
     ]
    },
    {
     "name": "stdout",
     "output_type": "stream",
     "text": [
      "{'train_runtime': 1098.9089, 'train_samples_per_second': 60.21, 'train_steps_per_second': 0.469, 'train_loss': 0.18868378296639154, 'epoch': 5.0}\n"
     ]
    },
    {
     "data": {
      "application/vnd.jupyter.widget-view+json": {
       "model_id": "9eb1ccb6ff5a4a9297603683cb77c0af",
       "version_major": 2,
       "version_minor": 0
      },
      "text/plain": [
       "  0%|          | 0/222 [00:00<?, ?it/s]"
      ]
     },
     "metadata": {},
     "output_type": "display_data"
    },
    {
     "name": "stderr",
     "output_type": "stream",
     "text": [
      "loading weights file pytorch_model.bin from cache at C:\\Users\\Administrator/.cache\\huggingface\\hub\\models--klue--roberta-base\\snapshots\\67dd433d36ebc66a42c9aaa85abcf8d2620e41d9\\pytorch_model.bin\n",
      "Some weights of the model checkpoint at klue/roberta-base were not used when initializing RobertaForSequenceClassification: ['lm_head.dense.bias', 'lm_head.decoder.weight', 'lm_head.dense.weight', 'lm_head.layer_norm.weight', 'lm_head.layer_norm.bias', 'lm_head.bias', 'lm_head.decoder.bias']\n",
      "- This IS expected if you are initializing RobertaForSequenceClassification from the checkpoint of a model trained on another task or with another architecture (e.g. initializing a BertForSequenceClassification model from a BertForPreTraining model).\n",
      "- This IS NOT expected if you are initializing RobertaForSequenceClassification from the checkpoint of a model that you expect to be exactly identical (initializing a BertForSequenceClassification model from a BertForSequenceClassification model).\n",
      "Some weights of RobertaForSequenceClassification were not initialized from the model checkpoint at klue/roberta-base and are newly initialized: ['lstm.weight_ih_l1_reverse', 'lstm.weight_ih_l0_reverse', 'lstm.bias_hh_l1', 'lstm.bias_hh_l0', 'lstm.bias_ih_l1_reverse', 'lstm.weight_hh_l0_reverse', 'classifier.weight', 'lstm.weight_hh_l1', 'lstm.bias_hh_l0_reverse', 'lstm.bias_hh_l1_reverse', 'lstm.weight_ih_l1', 'roberta.pooler.dense.weight', 'lstm.bias_ih_l1', 'lstm.weight_hh_l1_reverse', 'classifier.bias', 'lstm.weight_hh_l0', 'lstm.bias_ih_l0', 'lstm.bias_ih_l0_reverse', 'lstm.weight_ih_l0', 'roberta.pooler.dense.bias']\n",
      "You should probably TRAIN this model on a down-stream task to be able to use it for predictions and inference.\n",
      "***** Running training *****\n",
      "  Num examples = 13233\n",
      "  Num Epochs = 5\n",
      "  Instantaneous batch size per device = 32\n",
      "  Total train batch size (w. parallel, distributed & accumulation) = 128\n",
      "  Gradient Accumulation steps = 4\n",
      "  Total optimization steps = 515\n",
      "  Number of trainable parameters = 134241796\n"
     ]
    },
    {
     "data": {
      "application/vnd.jupyter.widget-view+json": {
       "model_id": "117dd5189e2e41d18040cebe81ae905e",
       "version_major": 2,
       "version_minor": 0
      },
      "text/plain": [
       "  0%|          | 0/515 [00:00<?, ?it/s]"
      ]
     },
     "metadata": {},
     "output_type": "display_data"
    },
    {
     "name": "stderr",
     "output_type": "stream",
     "text": [
      "***** Running Evaluation *****\n",
      "  Num examples = 3308\n",
      "  Batch size = 32\n"
     ]
    },
    {
     "name": "stdout",
     "output_type": "stream",
     "text": [
      "{'loss': 0.3675, 'learning_rate': 8e-05, 'epoch': 1.0}\n"
     ]
    },
    {
     "data": {
      "application/vnd.jupyter.widget-view+json": {
       "model_id": "4ddeda2b678b47b1b2fcb8a9ed3e038f",
       "version_major": 2,
       "version_minor": 0
      },
      "text/plain": [
       "  0%|          | 0/104 [00:00<?, ?it/s]"
      ]
     },
     "metadata": {},
     "output_type": "display_data"
    },
    {
     "name": "stderr",
     "output_type": "stream",
     "text": [
      "Saving model checkpoint to ./output_type\\checkpoint-103\n",
      "Configuration saved in ./output_type\\checkpoint-103\\config.json\n"
     ]
    },
    {
     "name": "stdout",
     "output_type": "stream",
     "text": [
      "{'eval_loss': 0.2740476429462433, 'eval_f1': 0.8917775090689238, 'eval_runtime': 10.7437, 'eval_samples_per_second': 307.902, 'eval_steps_per_second': 9.68, 'epoch': 1.0}\n"
     ]
    },
    {
     "name": "stderr",
     "output_type": "stream",
     "text": [
      "Model weights saved in ./output_type\\checkpoint-103\\pytorch_model.bin\n",
      "Deleting older checkpoint [output_type\\checkpoint-412] due to args.save_total_limit\n",
      "***** Running Evaluation *****\n",
      "  Num examples = 3308\n",
      "  Batch size = 32\n"
     ]
    },
    {
     "name": "stdout",
     "output_type": "stream",
     "text": [
      "{'loss': 0.2234, 'learning_rate': 6e-05, 'epoch': 2.0}\n"
     ]
    },
    {
     "data": {
      "application/vnd.jupyter.widget-view+json": {
       "model_id": "f2a2116bec404a8ca9c084f2d5cf3530",
       "version_major": 2,
       "version_minor": 0
      },
      "text/plain": [
       "  0%|          | 0/104 [00:00<?, ?it/s]"
      ]
     },
     "metadata": {},
     "output_type": "display_data"
    },
    {
     "name": "stderr",
     "output_type": "stream",
     "text": [
      "Saving model checkpoint to ./output_type\\checkpoint-206\n",
      "Configuration saved in ./output_type\\checkpoint-206\\config.json\n"
     ]
    },
    {
     "name": "stdout",
     "output_type": "stream",
     "text": [
      "{'eval_loss': 0.30086401104927063, 'eval_f1': 0.8941958887545345, 'eval_runtime': 10.8631, 'eval_samples_per_second': 304.518, 'eval_steps_per_second': 9.574, 'epoch': 2.0}\n"
     ]
    },
    {
     "name": "stderr",
     "output_type": "stream",
     "text": [
      "Model weights saved in ./output_type\\checkpoint-206\\pytorch_model.bin\n",
      "Deleting older checkpoint [output_type\\checkpoint-515] due to args.save_total_limit\n",
      "***** Running Evaluation *****\n",
      "  Num examples = 3308\n",
      "  Batch size = 32\n"
     ]
    },
    {
     "name": "stdout",
     "output_type": "stream",
     "text": [
      "{'loss': 0.1306, 'learning_rate': 4e-05, 'epoch': 3.0}\n"
     ]
    },
    {
     "data": {
      "application/vnd.jupyter.widget-view+json": {
       "model_id": "dfbac346d4364d999322908fccd858d4",
       "version_major": 2,
       "version_minor": 0
      },
      "text/plain": [
       "  0%|          | 0/104 [00:00<?, ?it/s]"
      ]
     },
     "metadata": {},
     "output_type": "display_data"
    },
    {
     "name": "stderr",
     "output_type": "stream",
     "text": [
      "Saving model checkpoint to ./output_type\\checkpoint-309\n",
      "Configuration saved in ./output_type\\checkpoint-309\\config.json\n"
     ]
    },
    {
     "name": "stdout",
     "output_type": "stream",
     "text": [
      "{'eval_loss': 0.33311113715171814, 'eval_f1': 0.8920798065296252, 'eval_runtime': 10.5919, 'eval_samples_per_second': 312.314, 'eval_steps_per_second': 9.819, 'epoch': 3.0}\n"
     ]
    },
    {
     "name": "stderr",
     "output_type": "stream",
     "text": [
      "Model weights saved in ./output_type\\checkpoint-309\\pytorch_model.bin\n",
      "Deleting older checkpoint [output_type\\checkpoint-103] due to args.save_total_limit\n",
      "***** Running Evaluation *****\n",
      "  Num examples = 3308\n",
      "  Batch size = 32\n"
     ]
    },
    {
     "name": "stdout",
     "output_type": "stream",
     "text": [
      "{'loss': 0.0578, 'learning_rate': 2e-05, 'epoch': 4.0}\n"
     ]
    },
    {
     "data": {
      "application/vnd.jupyter.widget-view+json": {
       "model_id": "dca60bf375ed45f891fde7a6a15cc079",
       "version_major": 2,
       "version_minor": 0
      },
      "text/plain": [
       "  0%|          | 0/104 [00:00<?, ?it/s]"
      ]
     },
     "metadata": {},
     "output_type": "display_data"
    },
    {
     "name": "stderr",
     "output_type": "stream",
     "text": [
      "Saving model checkpoint to ./output_type\\checkpoint-412\n",
      "Configuration saved in ./output_type\\checkpoint-412\\config.json\n"
     ]
    },
    {
     "name": "stdout",
     "output_type": "stream",
     "text": [
      "{'eval_loss': 0.4491284191608429, 'eval_f1': 0.8842200725513906, 'eval_runtime': 10.927, 'eval_samples_per_second': 302.737, 'eval_steps_per_second': 9.518, 'epoch': 4.0}\n"
     ]
    },
    {
     "name": "stderr",
     "output_type": "stream",
     "text": [
      "Model weights saved in ./output_type\\checkpoint-412\\pytorch_model.bin\n",
      "Deleting older checkpoint [output_type\\checkpoint-309] due to args.save_total_limit\n",
      "***** Running Evaluation *****\n",
      "  Num examples = 3308\n",
      "  Batch size = 32\n"
     ]
    },
    {
     "name": "stdout",
     "output_type": "stream",
     "text": [
      "{'loss': 0.0256, 'learning_rate': 0.0, 'epoch': 5.0}\n"
     ]
    },
    {
     "data": {
      "application/vnd.jupyter.widget-view+json": {
       "model_id": "16ea0f6409904a25a2ed162f8618acd2",
       "version_major": 2,
       "version_minor": 0
      },
      "text/plain": [
       "  0%|          | 0/104 [00:00<?, ?it/s]"
      ]
     },
     "metadata": {},
     "output_type": "display_data"
    },
    {
     "name": "stderr",
     "output_type": "stream",
     "text": [
      "Saving model checkpoint to ./output_type\\checkpoint-515\n",
      "Configuration saved in ./output_type\\checkpoint-515\\config.json\n"
     ]
    },
    {
     "name": "stdout",
     "output_type": "stream",
     "text": [
      "{'eval_loss': 0.5767101049423218, 'eval_f1': 0.8878476420798065, 'eval_runtime': 10.9458, 'eval_samples_per_second': 302.217, 'eval_steps_per_second': 9.501, 'epoch': 5.0}\n"
     ]
    },
    {
     "name": "stderr",
     "output_type": "stream",
     "text": [
      "Model weights saved in ./output_type\\checkpoint-515\\pytorch_model.bin\n",
      "Deleting older checkpoint [output_type\\checkpoint-412] due to args.save_total_limit\n",
      "\n",
      "\n",
      "Training completed. Do not forget to share your model on huggingface.co/models =)\n",
      "\n",
      "\n",
      "Loading best model from ./output_type\\checkpoint-206 (score: 0.8941958887545345).\n",
      "***** Running Prediction *****\n",
      "  Num examples = 7090\n",
      "  Batch size = 32\n"
     ]
    },
    {
     "name": "stdout",
     "output_type": "stream",
     "text": [
      "{'train_runtime': 1109.2763, 'train_samples_per_second': 59.647, 'train_steps_per_second': 0.464, 'train_loss': 0.16097649879825926, 'epoch': 5.0}\n"
     ]
    },
    {
     "data": {
      "application/vnd.jupyter.widget-view+json": {
       "model_id": "ad11dd71cdd74cc0abb73f05dd6d3e18",
       "version_major": 2,
       "version_minor": 0
      },
      "text/plain": [
       "  0%|          | 0/222 [00:00<?, ?it/s]"
      ]
     },
     "metadata": {},
     "output_type": "display_data"
    }
   ],
   "source": [
    "logit = 0\n",
    "for i, (train_index, test_index) in enumerate(kfold_function.split(train_df[\"문장\"],train_df[\"유형\"])):\n",
    "    model = RobertaForSequenceClassification.from_pretrained(\"klue/roberta-base\", config=type_config)\n",
    "    train_corpus, valid_corpus = train_df[\"문장\"][train_index], train_df[\"문장\"][test_index]\n",
    "    train_label, valod_label = train_df[\"유형\"][train_index], train_df[\"유형\"][test_index]\n",
    "    fold_train = pd.concat([train_corpus, train_label], axis =1)\n",
    "    fold_valid = pd.concat([valid_corpus, valod_label], axis =1)\n",
    "    train_dataset = TypeDataset(data=fold_train, tokenizer=tokenizer)\n",
    "    valid_dataset = TypeDataset(data=fold_valid, tokenizer=tokenizer)\n",
    "\n",
    "    trainer = Trainer(\n",
    "    model=model,\n",
    "    args=training_args,\n",
    "    train_dataset=train_dataset,\n",
    "    eval_dataset=valid_dataset,\n",
    "    compute_metrics=compute_metrics,\n",
    "    )\n",
    "\n",
    "    trainer.train()\n",
    "\n",
    "    logit += trainer.predict(test_dataset).predictions / 5"
   ]
  },
  {
   "cell_type": "code",
   "execution_count": 9,
   "id": "0a5b9432",
   "metadata": {},
   "outputs": [],
   "source": [
    "result = pd.DataFrame(logit.argmax(axis=1).tolist(), columns=[\"type\"])\n",
    "test_df_type = pd.concat([test_df,result],axis=1, ignore_index=True)\n",
    "test_df_type.to_csv(\"result_type.csv\", index=False) "
   ]
  }
 ],
 "metadata": {
  "kernelspec": {
   "display_name": "dacon",
   "language": "python",
   "name": "python3"
  },
  "language_info": {
   "codemirror_mode": {
    "name": "ipython",
    "version": 3
   },
   "file_extension": ".py",
   "mimetype": "text/x-python",
   "name": "python",
   "nbconvert_exporter": "python",
   "pygments_lexer": "ipython3",
   "version": "3.7.15"
  },
  "vscode": {
   "interpreter": {
    "hash": "f29653ce4d73fa5f169ecc06a93e234b4ee76974eb34f5783d536006096322e2"
   }
  }
 },
 "nbformat": 4,
 "nbformat_minor": 5
}
