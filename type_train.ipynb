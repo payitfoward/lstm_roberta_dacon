{
 "cells": [
  {
   "cell_type": "code",
   "execution_count": 1,
   "id": "43140f53",
   "metadata": {},
   "outputs": [],
   "source": [
    "import pandas as pd\n",
    "import numpy as np\n",
    "import torch\n",
    "import os\n",
    "\n",
    "from transformers import AutoTokenizer, AutoConfig, TrainingArguments, Trainer\n",
    "from mkdataset import TypeDataset, TestDataset\n",
    "from datasets import load_metric, load_dataset\n",
    "from classifier import RobertaForSequenceClassification\n",
    "from sklearn.model_selection import train_test_split"
   ]
  },
  {
   "cell_type": "code",
   "execution_count": 2,
   "id": "57500d6d",
   "metadata": {},
   "outputs": [],
   "source": [
    "os.environ[\"CUDA_DEVICE_ORDER\"]=\"PCI_BUS_ID\"   \n",
    "os.environ[\"CUDA_VISIBLE_DEVICES\"]=\"0\"\n",
    "backbone = \"klue/roberta-base\""
   ]
  },
  {
   "cell_type": "code",
   "execution_count": 3,
   "id": "9d7eb385",
   "metadata": {},
   "outputs": [],
   "source": [
    "seed = 777\n",
    "os.environ[\"PYTHONHASHSEED\"] = str(seed)\n",
    "torch.manual_seed(seed)\n",
    "torch.cuda.manual_seed(seed)  # type: ignore\n",
    "torch.backends.cudnn.deterministic = True  # type: ignore\n",
    "torch.backends.cudnn.benchmark = True  # type: ignore"
   ]
  },
  {
   "cell_type": "code",
   "execution_count": 4,
   "id": "137027c6",
   "metadata": {},
   "outputs": [],
   "source": [
    "def compute_metrics(pred):\n",
    "    f1 = load_metric(\"f1\")\n",
    "    references = pred.label_ids\n",
    "    predictions = pred.predictions.argmax(axis=1)\n",
    "    metric = f1.compute(predictions=predictions, references=references, average=\"micro\")\n",
    "    return metric"
   ]
  },
  {
   "cell_type": "code",
   "execution_count": 5,
   "id": "cd683a0e",
   "metadata": {},
   "outputs": [],
   "source": [
    "train_df = pd.read_csv(\"train.csv\")\n",
    "test_df = pd.read_csv(\"test.csv\")"
   ]
  },
  {
   "cell_type": "code",
   "execution_count": 6,
   "id": "da72955f",
   "metadata": {},
   "outputs": [],
   "source": [
    "train_type_df, valid_type_df = train_test_split(train_df, test_size=0.3, random_state=seed, stratify=train_df.유형)"
   ]
  },
  {
   "cell_type": "code",
   "execution_count": 7,
   "id": "ad490eb4",
   "metadata": {},
   "outputs": [],
   "source": [
    "tokenizer = AutoTokenizer.from_pretrained(backbone)"
   ]
  },
  {
   "cell_type": "code",
   "execution_count": 8,
   "id": "938d37c1",
   "metadata": {},
   "outputs": [],
   "source": [
    "train_dataset = TypeDataset(data=train_df, tokenizer=tokenizer)\n",
    "train_type_dataset = TypeDataset(data=train_type_df, tokenizer=tokenizer)\n",
    "valid_type_dataset = TypeDataset(data=valid_type_df, tokenizer=tokenizer)\n",
    "test_dataset = TestDataset(data=test_df, tokenizer=tokenizer)"
   ]
  },
  {
   "cell_type": "code",
   "execution_count": null,
   "id": "83a98634",
   "metadata": {},
   "outputs": [],
   "source": [
    "def crossentropy_weight(dataset):\n",
    "    class_counts = pd.DataFrame(dataset.labels).value_counts()\n",
    "    class_weights = 1./class_counts\n",
    "    class_weights = class_weights/class_weights.min()\n",
    "    class_weights = class_weights.to_dict()\n",
    "    class_weights = {k: v for k, v in sorted(class_weights.items(), key=lambda item: item[0])}\n",
    "    class_weights = list(class_weights.values())\n",
    "    class_weights = torch.FloatTensor(class_weights).to(gpu)\n",
    "    return class_weights"
   ]
  },
  {
   "cell_type": "code",
   "execution_count": 9,
   "id": "4c3c7f74",
   "metadata": {},
   "outputs": [],
   "source": [
    "gpu = torch.device(\"cuda\")\n",
    "cpu = torch.device(\"cpu\")"
   ]
  },
  {
   "cell_type": "code",
   "execution_count": 10,
   "id": "23a52bb5",
   "metadata": {},
   "outputs": [],
   "source": [
    "type_config = AutoConfig.from_pretrained(backbone)\n",
    "type_config.num_labels = len(train_df.유형.value_counts())"
   ]
  },
  {
   "cell_type": "code",
   "execution_count": 11,
   "id": "15480153",
   "metadata": {},
   "outputs": [
    {
     "name": "stderr",
     "output_type": "stream",
     "text": [
      "Some weights of the model checkpoint at klue/roberta-base were not used when initializing RobertaForSequenceClassification: ['lm_head.dense.weight', 'lm_head.layer_norm.bias', 'lm_head.bias', 'lm_head.decoder.bias', 'lm_head.layer_norm.weight', 'lm_head.decoder.weight', 'lm_head.dense.bias']\n",
      "- This IS expected if you are initializing RobertaForSequenceClassification from the checkpoint of a model trained on another task or with another architecture (e.g. initializing a BertForSequenceClassification model from a BertForPreTraining model).\n",
      "- This IS NOT expected if you are initializing RobertaForSequenceClassification from the checkpoint of a model that you expect to be exactly identical (initializing a BertForSequenceClassification model from a BertForSequenceClassification model).\n",
      "Some weights of RobertaForSequenceClassification were not initialized from the model checkpoint at klue/roberta-base and are newly initialized: ['lstm.bias_ih_l0', 'lstm.weight_hh_l0', 'lstm.bias_hh_l1_reverse', 'roberta.pooler.dense.weight', 'lstm.bias_ih_l1', 'lstm.weight_hh_l0_reverse', 'lstm.bias_ih_l0_reverse', 'lstm.weight_hh_l1_reverse', 'lstm.weight_ih_l1', 'lstm.bias_hh_l0_reverse', 'classifier.weight', 'classifier.bias', 'lstm.bias_hh_l0', 'lstm.weight_ih_l1_reverse', 'lstm.bias_hh_l1', 'lstm.weight_hh_l1', 'lstm.weight_ih_l0', 'lstm.weight_ih_l0_reverse', 'roberta.pooler.dense.bias', 'lstm.bias_ih_l1_reverse']\n",
      "You should probably TRAIN this model on a down-stream task to be able to use it for predictions and inference.\n"
     ]
    }
   ],
   "source": [
    "type_model = RobertaForSequenceClassification.from_pretrained(backbone, config=type_config, weight = crossentropy_weight(train_dataset))"
   ]
  },
  {
   "cell_type": "code",
   "execution_count": 12,
   "id": "42e629c9",
   "metadata": {},
   "outputs": [],
   "source": [
    "batch_size = 64\n",
    "save_steps = 45"
   ]
  },
  {
   "cell_type": "code",
   "execution_count": 13,
   "id": "14a7c9e7",
   "metadata": {},
   "outputs": [],
   "source": [
    "training_args = TrainingArguments(\n",
    "    output_dir=\"./output_type\",\n",
    "    seed=seed,\n",
    "    save_total_limit=2,\n",
    "    save_steps = save_steps,\n",
    "    num_train_epochs = 3,\n",
    "    learning_rate= 1e-4,\n",
    "    per_device_train_batch_size=batch_size,\n",
    "    per_device_eval_batch_size=batch_size,\n",
    "    gradient_accumulation_steps=4,\n",
    "    weight_decay=1e-4,\n",
    "    logging_dir=\"./logs\",\n",
    "    logging_steps = save_steps,\n",
    "    evaluation_strategy = \"steps\",\n",
    "    metric_for_best_model = \"eval_f1\",\n",
    "    eval_steps = save_steps,\n",
    "    load_best_model_at_end=True,\n",
    ")"
   ]
  },
  {
   "cell_type": "code",
   "execution_count": 14,
   "id": "3dfcbe98",
   "metadata": {
    "scrolled": true
   },
   "outputs": [
    {
     "name": "stderr",
     "output_type": "stream",
     "text": [
      "/usr/local/lib/python3.6/dist-packages/transformers/optimization.py:309: FutureWarning: This implementation of AdamW is deprecated and will be removed in a future version. Use the PyTorch implementation torch.optim.AdamW instead, or set `no_deprecation_warning=True` to disable this warning\n",
      "  FutureWarning,\n",
      "***** Running training *****\n",
      "  Num examples = 11578\n",
      "  Num Epochs = 3\n",
      "  Instantaneous batch size per device = 64\n",
      "  Total train batch size (w. parallel, distributed & accumulation) = 256\n",
      "  Gradient Accumulation steps = 4\n",
      "  Total optimization steps = 135\n"
     ]
    },
    {
     "data": {
      "text/html": [
       "\n",
       "    <div>\n",
       "      \n",
       "      <progress value='135' max='135' style='width:300px; height:20px; vertical-align: middle;'></progress>\n",
       "      [135/135 05:57, Epoch 2/3]\n",
       "    </div>\n",
       "    <table border=\"1\" class=\"dataframe\">\n",
       "  <thead>\n",
       " <tr style=\"text-align: left;\">\n",
       "      <th>Step</th>\n",
       "      <th>Training Loss</th>\n",
       "      <th>Validation Loss</th>\n",
       "      <th>F1</th>\n",
       "    </tr>\n",
       "  </thead>\n",
       "  <tbody>\n",
       "    <tr>\n",
       "      <td>45</td>\n",
       "      <td>0.501500</td>\n",
       "      <td>0.304188</td>\n",
       "      <td>0.885956</td>\n",
       "    </tr>\n",
       "    <tr>\n",
       "      <td>90</td>\n",
       "      <td>0.265300</td>\n",
       "      <td>0.255772</td>\n",
       "      <td>0.898449</td>\n",
       "    </tr>\n",
       "    <tr>\n",
       "      <td>135</td>\n",
       "      <td>0.191100</td>\n",
       "      <td>0.263237</td>\n",
       "      <td>0.897240</td>\n",
       "    </tr>\n",
       "  </tbody>\n",
       "</table><p>"
      ],
      "text/plain": [
       "<IPython.core.display.HTML object>"
      ]
     },
     "metadata": {},
     "output_type": "display_data"
    },
    {
     "name": "stderr",
     "output_type": "stream",
     "text": [
      "***** Running Evaluation *****\n",
      "  Num examples = 4963\n",
      "  Batch size = 64\n",
      "Saving model checkpoint to ./output_type/checkpoint-45\n",
      "Configuration saved in ./output_type/checkpoint-45/config.json\n",
      "Model weights saved in ./output_type/checkpoint-45/pytorch_model.bin\n",
      "Deleting older checkpoint [output_type/checkpoint-362] due to args.save_total_limit\n",
      "***** Running Evaluation *****\n",
      "  Num examples = 4963\n",
      "  Batch size = 64\n",
      "Saving model checkpoint to ./output_type/checkpoint-90\n",
      "Configuration saved in ./output_type/checkpoint-90/config.json\n",
      "Model weights saved in ./output_type/checkpoint-90/pytorch_model.bin\n",
      "Deleting older checkpoint [output_type/checkpoint-543] due to args.save_total_limit\n",
      "***** Running Evaluation *****\n",
      "  Num examples = 4963\n",
      "  Batch size = 64\n",
      "Saving model checkpoint to ./output_type/checkpoint-135\n",
      "Configuration saved in ./output_type/checkpoint-135/config.json\n",
      "Model weights saved in ./output_type/checkpoint-135/pytorch_model.bin\n",
      "Deleting older checkpoint [output_type/checkpoint-45] due to args.save_total_limit\n",
      "\n",
      "\n",
      "Training completed. Do not forget to share your model on huggingface.co/models =)\n",
      "\n",
      "\n",
      "Loading best model from ./output_type/checkpoint-90 (score: 0.8984485190409027).\n",
      "Configuration saved in ./model_type/config.json\n",
      "Model weights saved in ./model_type/pytorch_model.bin\n",
      "***** Running Prediction *****\n",
      "  Num examples = 7090\n",
      "  Batch size = 64\n"
     ]
    },
    {
     "data": {
      "text/html": [
       "\n",
       "    <div>\n",
       "      \n",
       "      <progress value='111' max='111' style='width:300px; height:20px; vertical-align: middle;'></progress>\n",
       "      [111/111 00:15]\n",
       "    </div>\n",
       "    "
      ],
      "text/plain": [
       "<IPython.core.display.HTML object>"
      ]
     },
     "metadata": {},
     "output_type": "display_data"
    }
   ],
   "source": [
    "type_trainer = Trainer(\n",
    "    model=type_model,\n",
    "    args=training_args,\n",
    "    train_dataset=train_type_dataset,\n",
    "    eval_dataset=valid_type_dataset,\n",
    "    compute_metrics=compute_metrics,\n",
    ")\n",
    "\n",
    "type_trainer.train()\n",
    "pred_tensor = type_trainer.predict(test_dataset)\n",
    "pred_type = pred_tensor.predictions.argmax(axis=1).tolist()"
   ]
  },
  {
   "cell_type": "code",
   "execution_count": 15,
   "id": "0a5b9432",
   "metadata": {},
   "outputs": [],
   "source": [
    "result = pd.DataFrame(pred_type, columns=[\"type\"])\n",
    "test_df_type = pd.concat([test_df,result],axis=1, ignore_index=True)\n",
    "test_df_type.to_csv(\"result_type.csv\")"
   ]
  }
 ],
 "metadata": {
  "kernelspec": {
   "display_name": "Python 3",
   "language": "python",
   "name": "python3"
  },
  "language_info": {
   "codemirror_mode": {
    "name": "ipython",
    "version": 3
   },
   "file_extension": ".py",
   "mimetype": "text/x-python",
   "name": "python",
   "nbconvert_exporter": "python",
   "pygments_lexer": "ipython3",
   "version": "3.6.9"
  }
 },
 "nbformat": 4,
 "nbformat_minor": 5
}
