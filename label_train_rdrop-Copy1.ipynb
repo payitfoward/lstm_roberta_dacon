{
 "cells": [
  {
   "cell_type": "code",
   "execution_count": 1,
   "id": "43140f53",
   "metadata": {},
   "outputs": [],
   "source": [
    "import pandas as pd\n",
    "import numpy as np\n",
    "import torch\n",
    "import os\n",
    "\n",
    "from transformers import AutoTokenizer, AutoConfig, TrainingArguments, EarlyStoppingCallback\n",
    "\n",
    "from trainer import Trainer\n",
    "from custom_dataset import LabelDataset, TestDataset\n",
    "\n",
    "from custom_model import RobertaSpecialTokenForSequenceClassification\n",
    "\n",
    "from sklearn.model_selection import StratifiedKFold\n",
    "from sklearn.metrics import f1_score\n",
    "\n",
    "from utils import set_allseed\n",
    "\n",
    "import warnings\n",
    "import pickle\n",
    "\n",
    "from augmentation import Augmentation"
   ]
  },
  {
   "cell_type": "code",
   "execution_count": 2,
   "id": "b73c2a54",
   "metadata": {},
   "outputs": [],
   "source": [
    "idx2label = {0: '사실형-긍정-현재-확실',\n",
    " 1: '사실형-긍정-과거-확실',\n",
    " 2: '사실형-긍정-미래-확실',\n",
    " 3: '추론형-부정-현재-확실',\n",
    " 4: '예측형-긍정-미래-불확실',\n",
    " 5: '추론형-긍정-현재-확실',\n",
    " 6: '추론형-긍정-과거-확실',\n",
    " 7: '추론형-긍정-현재-불확실',\n",
    " 8: '대화형-긍정-미래-확실',\n",
    " 9: '사실형-미정-현재-확실',\n",
    " 10: '사실형-부정-과거-확실',\n",
    " 11: '예측형-부정-과거-확실',\n",
    " 12: '추론형-긍정-미래-확실',\n",
    " 13: '사실형-긍정-미래-불확실',\n",
    " 14: '대화형-긍정-현재-확실',\n",
    " 15: '사실형-부정-현재-확실',\n",
    " 16: '대화형-긍정-과거-확실',\n",
    " 17: '사실형-긍정-과거-불확실',\n",
    " 18: '사실형-긍정-현재-불확실',\n",
    " 19: '대화형-긍정-현재-불확실',\n",
    " 20: '예측형-미정-미래-불확실',\n",
    " 21: '예측형-긍정-미래-확실',\n",
    " 22: '추론형-부정-미래-확실',\n",
    " 23: '사실형-미정-미래-확실',\n",
    " 24: '추론형-긍정-미래-불확실',\n",
    " 25: '대화형-부정-과거-확실',\n",
    " 26: '대화형-긍정-미래-불확실',\n",
    " 27: '대화형-미정-미래-불확실',\n",
    " 28: '추론형-미정-미래-불확실',\n",
    " 29: '추론형-부정-미래-불확실',\n",
    " 30: '추론형-부정-과거-확실',\n",
    " 31: '사실형-미정-미래-불확실',\n",
    " 32: '추론형-긍정-과거-불확실',\n",
    " 33: '예측형-긍정-현재-확실',\n",
    " 34: '사실형-부정-과거-불확실',\n",
    " 35: '예측형-긍정-과거-확실',\n",
    " 36: '예측형-긍정-과거-불확실',\n",
    " 37: '대화형-긍정-과거-불확실',\n",
    " 38: '대화형-미정-과거-불확실',\n",
    " 39: '사실형-부정-미래-확실',\n",
    " 40: '추론형-부정-현재-불확실',\n",
    " 41: '사실형-미정-현재-불확실',\n",
    " 42: '대화형-미정-현재-불확실',\n",
    " 43: '예측형-부정-현재-불확실',\n",
    " 44: '대화형-부정-현재-불확실',\n",
    " 45: '예측형-긍정-현재-불확실',\n",
    " 46: '추론형-미정-미래-확실',\n",
    " 47: '사실형-부정-미래-불확실',\n",
    " 48: '추론형-미정-현재-불확실',\n",
    " 49: '대화형-부정-현재-확실',\n",
    " 50: '사실형-미정-과거-확실',\n",
    " 51: '추론형-부정-과거-불확실',\n",
    " 52: '사실형-부정-현재-불확실',\n",
    " 53: '대화형-부정-미래-확실',\n",
    " 54: '예측형-미정-현재-확실',\n",
    " 55: '예측형-미정-현재-불확실',\n",
    " 56: '예측형-부정-미래-불확실',\n",
    " 57: '대화형-미정-미래-확실',\n",
    " 58: '대화형-미정-과거-확실',\n",
    " 59: '추론형-미정-현재-확실',\n",
    " 60: '대화형-부정-과거-불확실',\n",
    " 61: '추론형-미정-과거-불확실',\n",
    " 62: '예측형-미정-미래-확실',\n",
    " 63: '예측형-미정-과거-확실'}"
   ]
  },
  {
   "cell_type": "code",
   "execution_count": 3,
   "id": "bc32f5ba",
   "metadata": {},
   "outputs": [],
   "source": [
    "train_df = pd.read_csv(\"train.csv\")\n",
    "test_df = pd.read_csv(\"test.csv\")\n",
    "\n",
    "train_df = train_df[[\"문장\",\"label\"]]"
   ]
  },
  {
   "cell_type": "code",
   "execution_count": 4,
   "id": "9d7eb385",
   "metadata": {},
   "outputs": [],
   "source": [
    "seed = 2\n",
    "batch_size = 8\n",
    "save_steps = 773\n",
    "set_allseed(seed)\n",
    "os.environ[\"CUDA_DEVICE_ORDER\"]=\"PCI_BUS_ID\"\n",
    "os.environ[\"CUDA_VISIBLE_DEVICES\"]= \"0\"\n",
    "gpu = torch.device(\"cuda\")\n",
    "warnings.filterwarnings(action='ignore')\n",
    "model_init = \"klue/roberta-large\"\n",
    "name = \"rdrop_logit_seed_{}.pickle\".format(seed)"
   ]
  },
  {
   "cell_type": "code",
   "execution_count": 5,
   "id": "137027c6",
   "metadata": {},
   "outputs": [],
   "source": [
    "def compute_metrics(pred):\n",
    "    predict = pred.predictions.argmax(axis=1)\n",
    "    ref = pred.label_ids\n",
    "    pred_li, ref_li = [], []\n",
    "    for i, j in zip (predict, ref):\n",
    "        prediction, reference = [0] * len(idx2label), [0] * len(idx2label)\n",
    "        prediction[i] = 1\n",
    "        reference[j] = 1\n",
    "        pred_li.append(prediction)\n",
    "        ref_li.append(reference)\n",
    "    f1 = f1_score(pred_li, ref_li, average=\"weighted\")\n",
    "    return {'f1' : f1 }"
   ]
  },
  {
   "cell_type": "code",
   "execution_count": 6,
   "id": "da72955f",
   "metadata": {},
   "outputs": [],
   "source": [
    "kfold_function = StratifiedKFold(n_splits=5, random_state=seed, shuffle=True)\n",
    "tokenizer = AutoTokenizer.from_pretrained(model_init)\n",
    "config = AutoConfig.from_pretrained(model_init)\n",
    "config.num_labels = len(train_df.label.value_counts())\n",
    "config.cls_token_id = tokenizer.cls_token_id\n",
    "config.eos_token_id = tokenizer.eos_token_id"
   ]
  },
  {
   "cell_type": "code",
   "execution_count": 7,
   "id": "1d26de6c",
   "metadata": {
    "scrolled": true
   },
   "outputs": [
    {
     "name": "stdout",
     "output_type": "stream",
     "text": [
      "Category : 사실형-긍정-현재-확실 \t Previous size : 4743, Current size : 3794\n",
      "Category : 사실형-긍정-과거-확실 \t Previous size : 7113, Current size : 5690\n",
      "Category : 사실형-긍정-미래-확실 \t Previous size : 649, Current size : 649\n",
      "Category : 추론형-부정-현재-확실 \t Previous size : 93, Current size : 93\n",
      "Category : 예측형-긍정-미래-불확실 \t Previous size : 141, Current size : 141\n",
      "Category : 추론형-긍정-현재-확실 \t Previous size : 1101, Current size : 1101\n",
      "Category : 추론형-긍정-과거-확실 \t Previous size : 335, Current size : 335\n",
      "Category : 추론형-긍정-현재-불확실 \t Previous size : 130, Current size : 130\n",
      "Category : 대화형-긍정-미래-확실 \t Previous size : 26, Current size : 26\n",
      "Category : 사실형-미정-현재-확실 \t Previous size : 18, Current size : 20\n",
      "Category : 사실형-부정-과거-확실 \t Previous size : 183, Current size : 183\n",
      "Category : 예측형-부정-과거-확실 \t Previous size : 1, Current size : 20\n",
      "Category : 추론형-긍정-미래-확실 \t Previous size : 204, Current size : 204\n",
      "Category : 사실형-긍정-미래-불확실 \t Previous size : 236, Current size : 236\n",
      "Category : 대화형-긍정-현재-확실 \t Previous size : 257, Current size : 257\n",
      "Category : 사실형-부정-현재-확실 \t Previous size : 174, Current size : 174\n",
      "Category : 대화형-긍정-과거-확실 \t Previous size : 120, Current size : 120\n",
      "Category : 사실형-긍정-과거-불확실 \t Previous size : 144, Current size : 144\n",
      "Category : 사실형-긍정-현재-불확실 \t Previous size : 200, Current size : 200\n",
      "Category : 대화형-긍정-현재-불확실 \t Previous size : 44, Current size : 44\n",
      "Category : 예측형-미정-미래-불확실 \t Previous size : 10, Current size : 20\n",
      "Category : 예측형-긍정-미래-확실 \t Previous size : 57, Current size : 57\n",
      "Category : 추론형-부정-미래-확실 \t Previous size : 7, Current size : 20\n",
      "Category : 사실형-미정-미래-확실 \t Previous size : 26, Current size : 26\n",
      "Category : 추론형-긍정-미래-불확실 \t Previous size : 167, Current size : 167\n",
      "Category : 대화형-부정-과거-확실 \t Previous size : 5, Current size : 20\n",
      "Category : 대화형-긍정-미래-불확실 \t Previous size : 22, Current size : 22\n",
      "Category : 대화형-미정-미래-불확실 \t Previous size : 22, Current size : 22\n",
      "Category : 추론형-미정-미래-불확실 \t Previous size : 20, Current size : 20\n",
      "Category : 추론형-부정-미래-불확실 \t Previous size : 5, Current size : 20\n",
      "Category : 추론형-부정-과거-확실 \t Previous size : 16, Current size : 20\n",
      "Category : 사실형-미정-미래-불확실 \t Previous size : 22, Current size : 22\n",
      "Category : 추론형-긍정-과거-불확실 \t Previous size : 49, Current size : 49\n",
      "Category : 예측형-긍정-현재-확실 \t Previous size : 13, Current size : 20\n",
      "Category : 사실형-부정-과거-불확실 \t Previous size : 10, Current size : 20\n",
      "Category : 예측형-긍정-과거-확실 \t Previous size : 10, Current size : 20\n",
      "Category : 예측형-긍정-과거-불확실 \t Previous size : 8, Current size : 20\n",
      "Category : 대화형-긍정-과거-불확실 \t Previous size : 16, Current size : 20\n",
      "Category : 대화형-미정-과거-불확실 \t Previous size : 10, Current size : 20\n",
      "Category : 사실형-부정-미래-확실 \t Previous size : 14, Current size : 20\n",
      "Category : 추론형-부정-현재-불확실 \t Previous size : 9, Current size : 20\n",
      "Category : 사실형-미정-현재-불확실 \t Previous size : 7, Current size : 20\n",
      "Category : 대화형-미정-현재-불확실 \t Previous size : 29, Current size : 29\n",
      "Category : 예측형-부정-현재-불확실 \t Previous size : 1, Current size : 20\n",
      "Category : 대화형-부정-현재-불확실 \t Previous size : 5, Current size : 20\n",
      "Category : 예측형-긍정-현재-불확실 \t Previous size : 8, Current size : 20\n",
      "Category : 추론형-미정-미래-확실 \t Previous size : 2, Current size : 20\n",
      "Category : 사실형-부정-미래-불확실 \t Previous size : 6, Current size : 20\n",
      "Category : 추론형-미정-현재-불확실 \t Previous size : 4, Current size : 20\n",
      "Category : 대화형-부정-현재-확실 \t Previous size : 14, Current size : 20\n",
      "Category : 사실형-미정-과거-확실 \t Previous size : 2, Current size : 20\n",
      "Category : 추론형-부정-과거-불확실 \t Previous size : 6, Current size : 20\n",
      "Category : 사실형-부정-현재-불확실 \t Previous size : 11, Current size : 20\n",
      "Category : 대화형-부정-미래-확실 \t Previous size : 1, Current size : 20\n",
      "Category : 예측형-미정-현재-확실 \t Previous size : 1, Current size : 20\n",
      "Category : 예측형-미정-현재-불확실 \t Previous size : 2, Current size : 20\n",
      "Category : 예측형-부정-미래-불확실 \t Previous size : 3, Current size : 20\n",
      "Category : 대화형-미정-미래-확실 \t Previous size : 2, Current size : 20\n",
      "Category : 대화형-미정-과거-확실 \t Previous size : 1, Current size : 20\n",
      "Category : 추론형-미정-현재-확실 \t Previous size : 2, Current size : 20\n",
      "Category : 대화형-부정-과거-불확실 \t Previous size : 1, Current size : 20\n",
      "Category : 추론형-미정-과거-불확실 \t Previous size : 1, Current size : 20\n",
      "Category : 예측형-미정-미래-확실 \t Previous size : 1, Current size : 20\n",
      "Category : 예측형-미정-과거-확실 \t Previous size : 1, Current size : 20\n",
      "Original data size : 14169 \t Augment data size : 506\n"
     ]
    },
    {
     "name": "stderr",
     "output_type": "stream",
     "text": [
      "100%|██████████| 14675/14675 [00:01<00:00, 12856.91it/s]\n"
     ]
    }
   ],
   "source": [
    "aug = Augmentation(tokenizer = tokenizer)\n",
    "aug_data = aug(train_df).reset_index()"
   ]
  },
  {
   "cell_type": "code",
   "execution_count": 8,
   "id": "8a06096c",
   "metadata": {},
   "outputs": [],
   "source": [
    "training_args = TrainingArguments(\n",
    "    output_dir=\"./{}\".format(seed),\n",
    "    seed=seed,\n",
    "    save_total_limit=2,\n",
    "    save_steps = save_steps,\n",
    "    num_train_epochs = 5,\n",
    "    learning_rate= 3e-5,\n",
    "    per_device_train_batch_size=batch_size,\n",
    "    per_device_eval_batch_size=batch_size,\n",
    "    gradient_accumulation_steps=2,\n",
    "    weight_decay=0.001,\n",
    "    warmup_ratio=0.05,\n",
    "    warmup_steps=save_steps,\n",
    "    logging_dir=\"./logs\",\n",
    "    logging_steps = save_steps,\n",
    "    evaluation_strategy = \"steps\",\n",
    "    eval_steps = save_steps,\n",
    "    load_best_model_at_end=True,\n",
    "    metric_for_best_model=\"eval_f1\",\n",
    ")\n",
    "test_dataset = TestDataset(data=test_df, tokenizer=tokenizer)"
   ]
  },
  {
   "cell_type": "code",
   "execution_count": null,
   "id": "801b06f1",
   "metadata": {},
   "outputs": [
    {
     "name": "stderr",
     "output_type": "stream",
     "text": [
      "Some weights of the model checkpoint at klue/roberta-large were not used when initializing RobertaSpecialTokenForSequenceClassification: ['lm_head.decoder.weight', 'lm_head.layer_norm.weight', 'lm_head.dense.bias', 'lm_head.dense.weight', 'lm_head.decoder.bias', 'lm_head.layer_norm.bias', 'lm_head.bias']\n",
      "- This IS expected if you are initializing RobertaSpecialTokenForSequenceClassification from the checkpoint of a model trained on another task or with another architecture (e.g. initializing a BertForSequenceClassification model from a BertForPreTraining model).\n",
      "- This IS NOT expected if you are initializing RobertaSpecialTokenForSequenceClassification from the checkpoint of a model that you expect to be exactly identical (initializing a BertForSequenceClassification model from a BertForSequenceClassification model).\n",
      "Some weights of RobertaSpecialTokenForSequenceClassification were not initialized from the model checkpoint at klue/roberta-large and are newly initialized: ['classifier.dense.bias', 'classifier.out_proj.weight', 'classifier.dense.weight', 'classifier.out_proj.bias']\n",
      "You should probably TRAIN this model on a down-stream task to be able to use it for predictions and inference.\n",
      "***** Running training *****\n",
      "  Num examples = 11740\n",
      "  Num Epochs = 5\n",
      "  Instantaneous batch size per device = 8\n",
      "  Total train batch size (w. parallel, distributed & accumulation) = 16\n",
      "  Gradient Accumulation steps = 2\n",
      "  Total optimization steps = 3670\n"
     ]
    },
    {
     "data": {
      "text/html": [
       "\n",
       "    <div>\n",
       "      \n",
       "      <progress value='833' max='3670' style='width:300px; height:20px; vertical-align: middle;'></progress>\n",
       "      [ 833/3670 10:07 < 34:34, 1.37 it/s, Epoch 1.13/5]\n",
       "    </div>\n",
       "    <table border=\"1\" class=\"dataframe\">\n",
       "  <thead>\n",
       " <tr style=\"text-align: left;\">\n",
       "      <th>Step</th>\n",
       "      <th>Training Loss</th>\n",
       "      <th>Validation Loss</th>\n",
       "      <th>F1</th>\n",
       "    </tr>\n",
       "  </thead>\n",
       "  <tbody>\n",
       "    <tr>\n",
       "      <td>773</td>\n",
       "      <td>1.639200</td>\n",
       "      <td>1.227466</td>\n",
       "      <td>0.701953</td>\n",
       "    </tr>\n",
       "  </tbody>\n",
       "</table><p>"
      ],
      "text/plain": [
       "<IPython.core.display.HTML object>"
      ]
     },
     "metadata": {},
     "output_type": "display_data"
    },
    {
     "name": "stderr",
     "output_type": "stream",
     "text": [
      "***** Running Evaluation *****\n",
      "  Num examples = 2935\n",
      "  Batch size = 8\n",
      "Saving model checkpoint to ./2/checkpoint-773\n",
      "Configuration saved in ./2/checkpoint-773/config.json\n",
      "Model weights saved in ./2/checkpoint-773/pytorch_model.bin\n"
     ]
    }
   ],
   "source": [
    "logitlist = []\n",
    "for i, (train_index, test_index) in enumerate(kfold_function.split(aug_data[\"문장\"],aug_data[\"label\"])):\n",
    "    model = RobertaSpecialTokenForSequenceClassification.from_pretrained(model_init, config=config)\n",
    "    train_corpus, valid_corpus = aug_data[\"문장\"][train_index], aug_data[\"문장\"][test_index]\n",
    "    train_label, valid_label = aug_data[\"label\"][train_index], aug_data[\"label\"][test_index]\n",
    "    fold_train = pd.concat([train_corpus, train_label], axis = 1)\n",
    "    fold_valid = pd.concat([valid_corpus, valid_label], axis = 1)\n",
    "    train_dataset = LabelDataset(data=fold_train, tokenizer=tokenizer)\n",
    "    valid_dataset = LabelDataset(data=fold_valid, tokenizer=tokenizer)\n",
    "\n",
    "    trainer = Trainer(\n",
    "    model=model,\n",
    "    args=training_args,\n",
    "    train_dataset=train_dataset,\n",
    "    eval_dataset=valid_dataset,\n",
    "    compute_metrics=compute_metrics,\n",
    "    )\n",
    "\n",
    "    trainer.train()\n",
    "    break"
   ]
  },
  {
   "cell_type": "code",
   "execution_count": null,
   "id": "0a5b9432",
   "metadata": {},
   "outputs": [],
   "source": [
    "with open(name,\"wb\") as f:\n",
    "    pickle.dump(logit, f)"
   ]
  },
  {
   "cell_type": "code",
   "execution_count": null,
   "id": "d88837da",
   "metadata": {},
   "outputs": [],
   "source": [
    "\"\"\"\n",
    "with open(name,\"rb\") as f:\n",
    "    logit = pickle.load(f)\n",
    "    \n",
    "result = pd.DataFrame(logit.argmax(axis=1).tolist(), columns=[\"type\"])\n",
    "test_df_result = pd.concat([test_df,result],axis=1, ignore_index=True)\n",
    "test_df_result.to_csv(\"result_rdrop.csv\")\"\"\""
   ]
  }
 ],
 "metadata": {
  "kernelspec": {
   "display_name": "Python 3",
   "language": "python",
   "name": "python3"
  },
  "language_info": {
   "codemirror_mode": {
    "name": "ipython",
    "version": 3
   },
   "file_extension": ".py",
   "mimetype": "text/x-python",
   "name": "python",
   "nbconvert_exporter": "python",
   "pygments_lexer": "ipython3",
   "version": "3.6.9"
  },
  "vscode": {
   "interpreter": {
    "hash": "31f2aee4e71d21fbe5cf8b01ff0e069b9275f58929596ceb00d14d90e3e16cd6"
   }
  }
 },
 "nbformat": 4,
 "nbformat_minor": 5
}
