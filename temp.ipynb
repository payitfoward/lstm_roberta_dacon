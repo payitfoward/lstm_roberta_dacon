{
 "cells": [
  {
   "cell_type": "code",
   "execution_count": 1,
   "metadata": {},
   "outputs": [],
   "source": [
    "import pandas as pd"
   ]
  },
  {
   "cell_type": "code",
   "execution_count": 2,
   "metadata": {},
   "outputs": [],
   "source": [
    "confidence_id = pd.read_csv(\"result_confidence.csv\", encoding=\"utf-8\")\n",
    "emotion_id = pd.read_csv(\"result_emotion.csv\", encoding=\"utf-8\")\n",
    "time_id = pd.read_csv(\"result_time.csv\", encoding=\"utf-8\")\n",
    "type_id = pd.read_csv(\"result_type.csv\", encoding=\"utf-8\")"
   ]
  },
  {
   "cell_type": "code",
   "execution_count": 3,
   "metadata": {},
   "outputs": [],
   "source": [
    "confidence_id2label = {0: \"확실\", 1: \"불확실\"}\n",
    "emotion_id2label = {0: \"긍정\", 1: \"부정\", 2: \"미정\"}\n",
    "time_id2label = {0: \"과거\", 1: \"현재\", 2: \"미래\"}\n",
    "type_id2label = {0: \"사실형\", 1: \"추론형\", 2: \"대화형\", 3: \"예측형\"}"
   ]
  },
  {
   "cell_type": "code",
   "execution_count": 4,
   "metadata": {},
   "outputs": [],
   "source": [
    "def id2labeling(data, id2label):\n",
    "    label = []\n",
    "    for i in range(len(data)):\n",
    "        label.append(id2label[data[\"2\"][i]])\n",
    "    return label"
   ]
  },
  {
   "cell_type": "code",
   "execution_count": 5,
   "metadata": {},
   "outputs": [],
   "source": [
    "confidence_label = id2labeling(confidence_id, confidence_id2label)\n",
    "emotion_label = id2labeling(emotion_id, emotion_id2label)\n",
    "time_label = id2labeling(time_id, time_id2label)\n",
    "type_label = id2labeling(type_id, type_id2label)"
   ]
  },
  {
   "cell_type": "code",
   "execution_count": 6,
   "metadata": {},
   "outputs": [],
   "source": [
    "sum_label = []\n",
    "for i in range(len(type_id)):\n",
    "    sum_label.append(type_label[i] + \"-\" + emotion_label[i] + \"-\" + time_label[i] + \"-\" + confidence_label[i])"
   ]
  },
  {
   "cell_type": "code",
   "execution_count": 7,
   "metadata": {},
   "outputs": [],
   "source": [
    "label = pd.DataFrame(sum_label, columns=[\"label\"])\n",
    "id = pd.DataFrame(type_id[\"0\"].tolist(), columns=[\"ID\"])"
   ]
  },
  {
   "cell_type": "code",
   "execution_count": 8,
   "metadata": {},
   "outputs": [],
   "source": [
    "result = pd.concat([id,label], axis=1)"
   ]
  },
  {
   "cell_type": "code",
   "execution_count": 9,
   "metadata": {},
   "outputs": [],
   "source": [
    "result.to_csv(\"result.csv\", index=False, encoding=\"utf-8\")"
   ]
  }
 ],
 "metadata": {
  "kernelspec": {
   "display_name": "dacon",
   "language": "python",
   "name": "python3"
  },
  "language_info": {
   "codemirror_mode": {
    "name": "ipython",
    "version": 3
   },
   "file_extension": ".py",
   "mimetype": "text/x-python",
   "name": "python",
   "nbconvert_exporter": "python",
   "pygments_lexer": "ipython3",
   "version": "3.7.15"
  },
  "orig_nbformat": 4,
  "vscode": {
   "interpreter": {
    "hash": "f29653ce4d73fa5f169ecc06a93e234b4ee76974eb34f5783d536006096322e2"
   }
  }
 },
 "nbformat": 4,
 "nbformat_minor": 2
}
