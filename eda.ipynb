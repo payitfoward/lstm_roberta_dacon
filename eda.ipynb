{
 "cells": [
  {
   "cell_type": "code",
   "execution_count": 19,
   "metadata": {},
   "outputs": [],
   "source": [
    "import pandas as pd\n",
    "import re\n",
    "from transformers import AutoModel, AutoTokenizer"
   ]
  },
  {
   "cell_type": "code",
   "execution_count": 20,
   "metadata": {},
   "outputs": [],
   "source": [
    "train_df = pd.read_csv(\"train.csv\")\n",
    "test_df = pd.read_csv(\"test.csv\")"
   ]
  },
  {
   "cell_type": "code",
   "execution_count": 21,
   "metadata": {},
   "outputs": [],
   "source": [
    "tokenizer = AutoTokenizer.from_pretrained(\"klue/roberta-base\")"
   ]
  },
  {
   "cell_type": "code",
   "execution_count": 22,
   "metadata": {},
   "outputs": [],
   "source": [
    "pattern = re.compile('[^ 一-龥a-zA-Z가-힣+]')\n",
    "def cleantext(pattern,data):\n",
    "    text = pattern.sub(' ',data)\n",
    "    text = ' '.join(text.split())\n",
    "    return text\n",
    "    "
   ]
  },
  {
   "cell_type": "code",
   "execution_count": 23,
   "metadata": {},
   "outputs": [],
   "source": [
    "train_df = train_df.drop_duplicates(\"문장\", keep=\"first\")"
   ]
  },
  {
   "cell_type": "code",
   "execution_count": 24,
   "metadata": {},
   "outputs": [],
   "source": [
    "train_df.reset_index(drop=True, inplace=True)"
   ]
  },
  {
   "cell_type": "code",
   "execution_count": 25,
   "metadata": {},
   "outputs": [],
   "source": [
    "for i in range(len(train_df)):\n",
    "    train_df[\"문장\"][i] = cleantext(pattern, train_df[\"문장\"][i])\n",
    "for i in range(len(test_df)):\n",
    "    test_df[\"문장\"][i] = cleantext(pattern, test_df[\"문장\"][i])"
   ]
  },
  {
   "cell_type": "code",
   "execution_count": 26,
   "metadata": {},
   "outputs": [],
   "source": [
    "len_li = []\n",
    "for i in range(len(train_df[\"문장\"])):\n",
    "    len_li.append(len(tokenizer.tokenize(train_df[\"문장\"][i])))\n",
    "for i in range(len(test_df[\"문장\"])):\n",
    "    len_li.append(len(tokenizer.tokenize(test_df[\"문장\"][i])))"
   ]
  }
 ],
 "metadata": {
  "kernelspec": {
   "display_name": "dacon",
   "language": "python",
   "name": "python3"
  },
  "language_info": {
   "codemirror_mode": {
    "name": "ipython",
    "version": 3
   },
   "file_extension": ".py",
   "mimetype": "text/x-python",
   "name": "python",
   "nbconvert_exporter": "python",
   "pygments_lexer": "ipython3",
   "version": "3.7.15"
  },
  "orig_nbformat": 4,
  "vscode": {
   "interpreter": {
    "hash": "f29653ce4d73fa5f169ecc06a93e234b4ee76974eb34f5783d536006096322e2"
   }
  }
 },
 "nbformat": 4,
 "nbformat_minor": 2
}
