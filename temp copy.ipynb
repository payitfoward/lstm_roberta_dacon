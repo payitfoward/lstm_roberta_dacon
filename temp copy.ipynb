{
 "cells": [
  {
   "cell_type": "code",
   "execution_count": 1,
   "metadata": {},
   "outputs": [],
   "source": [
    "import pandas as pd"
   ]
  },
  {
   "cell_type": "code",
   "execution_count": 2,
   "metadata": {},
   "outputs": [],
   "source": [
    "id = pd.read_csv(\"result_rdrop_5.csv\", encoding=\"utf-8\")"
   ]
  },
  {
   "cell_type": "code",
   "execution_count": 3,
   "metadata": {},
   "outputs": [],
   "source": [
    "label2idx = {'사실형-긍정-현재-확실': 0,\n",
    "                '사실형-긍정-과거-확실': 1,\n",
    "                '사실형-긍정-미래-확실': 2,\n",
    "                '추론형-부정-현재-확실': 3,\n",
    "                '예측형-긍정-미래-불확실': 4,\n",
    "                '추론형-긍정-현재-확실': 5,\n",
    "                '추론형-긍정-과거-확실': 6,\n",
    "                '추론형-긍정-현재-불확실': 7,\n",
    "                '대화형-긍정-미래-확실': 8,\n",
    "                '사실형-미정-현재-확실': 9,\n",
    "                '사실형-부정-과거-확실': 10,\n",
    "                '예측형-부정-과거-확실': 11,\n",
    "                '추론형-긍정-미래-확실': 12,\n",
    "                '사실형-긍정-미래-불확실': 13,\n",
    "                '대화형-긍정-현재-확실': 14,\n",
    "                '사실형-부정-현재-확실': 15,\n",
    "                '대화형-긍정-과거-확실': 16,\n",
    "                '사실형-긍정-과거-불확실': 17,\n",
    "                '사실형-긍정-현재-불확실': 18,\n",
    "                '대화형-긍정-현재-불확실': 19,\n",
    "                '예측형-미정-미래-불확실': 20,\n",
    "                '예측형-긍정-미래-확실': 21,\n",
    "                '추론형-부정-미래-확실': 22,\n",
    "                '사실형-미정-미래-확실': 23,\n",
    "                '추론형-긍정-미래-불확실': 24,\n",
    "                '대화형-부정-과거-확실': 25,\n",
    "                '대화형-긍정-미래-불확실': 26,\n",
    "                '대화형-미정-미래-불확실': 27,\n",
    "                '추론형-미정-미래-불확실': 28,\n",
    "                '추론형-부정-미래-불확실': 29,\n",
    "                '추론형-부정-과거-확실': 30,\n",
    "                '사실형-미정-미래-불확실': 31,\n",
    "                '추론형-긍정-과거-불확실': 32,\n",
    "                '예측형-긍정-현재-확실': 33,\n",
    "                '사실형-부정-과거-불확실': 34,\n",
    "                '예측형-긍정-과거-확실': 35,\n",
    "                '예측형-긍정-과거-불확실': 36,\n",
    "                '대화형-긍정-과거-불확실': 37,\n",
    "                '대화형-미정-과거-불확실': 38,\n",
    "                '사실형-부정-미래-확실': 39,\n",
    "                '추론형-부정-현재-불확실': 40,\n",
    "                '사실형-미정-현재-불확실': 41,\n",
    "                '대화형-미정-현재-불확실': 42,\n",
    "                '예측형-부정-현재-불확실': 43,\n",
    "                '대화형-부정-현재-불확실': 44,\n",
    "                '예측형-긍정-현재-불확실': 45,\n",
    "                '추론형-미정-미래-확실': 46,\n",
    "                '사실형-부정-미래-불확실': 47,\n",
    "                '추론형-미정-현재-불확실': 48,\n",
    "                '대화형-부정-현재-확실': 49,\n",
    "                '사실형-미정-과거-확실': 50,\n",
    "                '추론형-부정-과거-불확실': 51,\n",
    "                '사실형-부정-현재-불확실': 52,\n",
    "                '대화형-부정-미래-확실': 53,\n",
    "                '예측형-미정-현재-확실': 54,\n",
    "                '예측형-미정-현재-불확실': 55,\n",
    "                '예측형-부정-미래-불확실': 56,\n",
    "                '대화형-미정-미래-확실': 57,\n",
    "                '대화형-미정-과거-확실': 58,\n",
    "                '추론형-미정-현재-확실': 59,\n",
    "                '대화형-부정-과거-불확실': 60,\n",
    "                '추론형-미정-과거-불확실': 61,\n",
    "                '예측형-미정-미래-확실': 62,\n",
    "                '예측형-미정-과거-확실': 63}\n",
    "idx2label = {k:v for k,v in enumerate(label2idx)}\n"
   ]
  },
  {
   "cell_type": "code",
   "execution_count": 4,
   "metadata": {},
   "outputs": [],
   "source": [
    "def id2labeling(data, id2label):\n",
    "    label = []\n",
    "    for i in range(len(data)):\n",
    "        label.append(id2label[data[\"2\"][i]])\n",
    "    return label"
   ]
  },
  {
   "cell_type": "code",
   "execution_count": 5,
   "metadata": {},
   "outputs": [],
   "source": [
    "label = id2labeling(id, idx2label)"
   ]
  },
  {
   "cell_type": "code",
   "execution_count": 6,
   "metadata": {},
   "outputs": [],
   "source": [
    "label_df = pd.DataFrame(label, columns=[\"label\"])\n",
    "id = pd.DataFrame(id[\"0\"].tolist(), columns=[\"ID\"])"
   ]
  },
  {
   "cell_type": "code",
   "execution_count": 7,
   "metadata": {},
   "outputs": [],
   "source": [
    "result = pd.concat([id,label_df], axis=1)"
   ]
  },
  {
   "cell_type": "code",
   "execution_count": 8,
   "metadata": {},
   "outputs": [],
   "source": [
    "result.to_csv(\"result.csv\", index=False, encoding=\"utf-8\")"
   ]
  }
 ],
 "metadata": {
  "kernelspec": {
   "display_name": "Python 3",
   "language": "python",
   "name": "python3"
  },
  "language_info": {
   "codemirror_mode": {
    "name": "ipython",
    "version": 3
   },
   "file_extension": ".py",
   "mimetype": "text/x-python",
   "name": "python",
   "nbconvert_exporter": "python",
   "pygments_lexer": "ipython3",
   "version": "3.6.9"
  },
  "vscode": {
   "interpreter": {
    "hash": "31f2aee4e71d21fbe5cf8b01ff0e069b9275f58929596ceb00d14d90e3e16cd6"
   }
  }
 },
 "nbformat": 4,
 "nbformat_minor": 2
}
