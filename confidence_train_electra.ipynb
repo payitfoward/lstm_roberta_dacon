{
 "cells": [
  {
   "cell_type": "code",
   "execution_count": 2,
   "id": "4ea859fe",
   "metadata": {},
   "outputs": [],
   "source": [
    "import pandas as pd\n",
    "import numpy as np\n",
    "import torch\n",
    "import os\n",
    "\n",
    "from transformers import AutoTokenizer, AutoConfig, TrainingArguments, Trainer, AutoModelForSequenceClassification\n",
    "from classifier import ArcFaceIBModel\n",
    "from mkdataset import ConfidenceDataset, TestDataset\n",
    "from datasets import load_metric, load_dataset\n",
    "from sklearn.model_selection import StratifiedKFold\n",
    "from utils import set_allseed\n",
    "import warnings\n",
    "import pickle"
   ]
  },
  {
   "cell_type": "code",
   "execution_count": 3,
   "id": "c5eaa554",
   "metadata": {},
   "outputs": [],
   "source": [
    "seed = 777\n",
    "batch_size = 8\n",
    "save_steps = 103\n",
    "set_allseed(seed)\n",
    "os.environ[\"CUDA_DEVICE_ORDER\"]=\"PCI_BUS_ID\"\n",
    "os.environ[\"CUDA_VISIBLE_DEVICES\"]= \"1\"\n",
    "gpu = torch.device(\"cuda\")\n",
    "cpu = torch.device(\"cpu\")\n",
    "warnings.filterwarnings(action='ignore')\n",
    "model_name = \"monologg/koelectra-base-v3-discriminator\""
   ]
  },
  {
   "cell_type": "code",
   "execution_count": 4,
   "id": "090dc74a",
   "metadata": {},
   "outputs": [],
   "source": [
    "train_df = pd.read_csv(\"train.csv\")\n",
    "test_df = pd.read_csv(\"test.csv\")"
   ]
  },
  {
   "cell_type": "code",
   "execution_count": 5,
   "id": "6bed2267",
   "metadata": {},
   "outputs": [],
   "source": [
    "kfold_function = StratifiedKFold(n_splits=5, random_state=seed, shuffle=True)\n",
    "tokenizer = AutoTokenizer.from_pretrained(model_name ,max_length = 512)\n",
    "config = AutoConfig.from_pretrained(model_name)\n",
    "config.num_labels = len(train_df.확실성.value_counts())"
   ]
  },
  {
   "cell_type": "code",
   "execution_count": 6,
   "id": "5eff1b99",
   "metadata": {},
   "outputs": [],
   "source": [
    "def compute_metrics(pred):\n",
    "    f1 = load_metric(\"f1\")\n",
    "    references = pred.label_ids\n",
    "    predictions = pred.predictions.argmax(axis=1)\n",
    "    metric = f1.compute(predictions=predictions, references=references, average=\"micro\")\n",
    "    return metric"
   ]
  },
  {
   "cell_type": "code",
   "execution_count": 7,
   "id": "3a0ba0a4",
   "metadata": {},
   "outputs": [],
   "source": [
    "training_args = TrainingArguments(\n",
    "    output_dir=\"./output_confidence\",\n",
    "    seed=seed,\n",
    "    save_total_limit=2,\n",
    "    save_steps = save_steps,\n",
    "    num_train_epochs = 5,\n",
    "    learning_rate= 1e-4,\n",
    "    per_device_train_batch_size=batch_size,\n",
    "    per_device_eval_batch_size=batch_size,\n",
    "    gradient_accumulation_steps=16,\n",
    "    weight_decay=1e-4,\n",
    "    logging_dir=\"./logs\",\n",
    "    logging_steps = save_steps,\n",
    "    evaluation_strategy = \"steps\",\n",
    "    eval_steps = save_steps,\n",
    "    load_best_model_at_end=True,\n",
    ")\n",
    "test_dataset = TestDataset(data=test_df, tokenizer=tokenizer)"
   ]
  },
  {
   "cell_type": "code",
   "execution_count": 8,
   "id": "6422b535",
   "metadata": {},
   "outputs": [
    {
     "name": "stderr",
     "output_type": "stream",
     "text": [
      "Some weights of the model checkpoint at monologg/koelectra-base-v3-discriminator were not used when initializing ArcFaceIBModel: ['electra.encoder.layer.5.attention.self.key.bias', 'electra.encoder.layer.11.attention.output.dense.weight', 'electra.encoder.layer.3.output.dense.weight', 'electra.encoder.layer.0.intermediate.dense.bias', 'electra.encoder.layer.0.attention.output.LayerNorm.weight', 'electra.encoder.layer.10.output.LayerNorm.weight', 'electra.encoder.layer.1.attention.self.value.bias', 'electra.encoder.layer.2.attention.output.dense.bias', 'electra.encoder.layer.11.output.dense.weight', 'electra.encoder.layer.10.output.LayerNorm.bias', 'discriminator_predictions.dense.weight', 'electra.encoder.layer.8.intermediate.dense.bias', 'electra.encoder.layer.9.attention.self.key.weight', 'electra.encoder.layer.3.attention.self.query.weight', 'electra.encoder.layer.0.attention.self.key.bias', 'electra.encoder.layer.1.attention.self.key.weight', 'electra.encoder.layer.5.attention.output.dense.weight', 'electra.encoder.layer.7.attention.self.value.bias', 'electra.encoder.layer.2.attention.output.LayerNorm.weight', 'electra.encoder.layer.5.attention.output.dense.bias', 'electra.encoder.layer.1.intermediate.dense.weight', 'electra.encoder.layer.9.attention.output.dense.weight', 'electra.encoder.layer.10.attention.output.LayerNorm.bias', 'electra.encoder.layer.10.intermediate.dense.weight', 'electra.encoder.layer.3.attention.output.LayerNorm.weight', 'electra.encoder.layer.7.attention.self.key.bias', 'electra.encoder.layer.3.output.LayerNorm.bias', 'electra.encoder.layer.4.output.dense.bias', 'electra.encoder.layer.6.attention.self.key.weight', 'electra.encoder.layer.2.attention.self.key.bias', 'electra.encoder.layer.1.output.dense.weight', 'electra.encoder.layer.6.output.LayerNorm.bias', 'electra.encoder.layer.8.attention.self.key.bias', 'electra.encoder.layer.0.attention.self.query.bias', 'electra.embeddings.token_type_embeddings.weight', 'electra.encoder.layer.8.attention.self.query.weight', 'electra.encoder.layer.1.output.LayerNorm.bias', 'electra.encoder.layer.7.attention.output.LayerNorm.bias', 'electra.encoder.layer.10.attention.self.query.weight', 'electra.encoder.layer.1.attention.output.dense.weight', 'electra.encoder.layer.1.attention.output.LayerNorm.bias', 'electra.encoder.layer.3.output.LayerNorm.weight', 'discriminator_predictions.dense_prediction.bias', 'electra.encoder.layer.9.attention.output.dense.bias', 'electra.embeddings.word_embeddings.weight', 'electra.encoder.layer.7.output.dense.bias', 'electra.encoder.layer.3.attention.self.key.weight', 'electra.encoder.layer.11.output.LayerNorm.weight', 'electra.encoder.layer.0.attention.output.LayerNorm.bias', 'electra.encoder.layer.2.attention.self.query.weight', 'electra.encoder.layer.9.attention.output.LayerNorm.bias', 'electra.encoder.layer.9.output.dense.weight', 'electra.encoder.layer.8.attention.self.key.weight', 'electra.encoder.layer.11.attention.output.LayerNorm.bias', 'electra.encoder.layer.3.attention.output.LayerNorm.bias', 'electra.encoder.layer.1.attention.output.dense.bias', 'electra.encoder.layer.3.intermediate.dense.bias', 'electra.embeddings.LayerNorm.weight', 'electra.encoder.layer.6.output.dense.bias', 'electra.encoder.layer.10.attention.self.query.bias', 'electra.encoder.layer.11.attention.self.query.weight', 'electra.encoder.layer.3.attention.self.value.weight', 'electra.encoder.layer.2.output.dense.bias', 'electra.encoder.layer.11.intermediate.dense.bias', 'electra.encoder.layer.3.attention.output.dense.bias', 'electra.encoder.layer.9.attention.self.value.weight', 'electra.encoder.layer.8.attention.output.LayerNorm.bias', 'electra.encoder.layer.5.attention.output.LayerNorm.bias', 'electra.encoder.layer.8.attention.self.value.bias', 'electra.encoder.layer.11.output.dense.bias', 'electra.encoder.layer.4.intermediate.dense.bias', 'electra.encoder.layer.8.output.LayerNorm.bias', 'electra.encoder.layer.11.attention.output.dense.bias', 'electra.encoder.layer.5.attention.output.LayerNorm.weight', 'electra.encoder.layer.5.attention.self.key.weight', 'electra.encoder.layer.10.attention.self.value.weight', 'electra.encoder.layer.8.output.dense.weight', 'electra.encoder.layer.4.attention.self.key.bias', 'electra.encoder.layer.3.attention.output.dense.weight', 'electra.encoder.layer.2.output.LayerNorm.weight', 'electra.encoder.layer.1.attention.self.query.bias', 'electra.encoder.layer.6.attention.output.LayerNorm.bias', 'electra.encoder.layer.4.attention.output.dense.bias', 'electra.encoder.layer.7.attention.self.query.bias', 'electra.encoder.layer.11.attention.output.LayerNorm.weight', 'electra.encoder.layer.6.attention.self.value.bias', 'electra.embeddings.position_embeddings.weight', 'electra.encoder.layer.8.attention.self.query.bias', 'electra.encoder.layer.6.intermediate.dense.bias', 'electra.encoder.layer.5.intermediate.dense.bias', 'electra.encoder.layer.4.attention.output.LayerNorm.bias', 'electra.encoder.layer.7.attention.output.LayerNorm.weight', 'electra.encoder.layer.2.output.dense.weight', 'electra.encoder.layer.0.attention.output.dense.bias', 'electra.encoder.layer.2.intermediate.dense.bias', 'electra.encoder.layer.8.attention.output.LayerNorm.weight', 'electra.encoder.layer.5.attention.self.value.bias', 'electra.encoder.layer.6.attention.output.LayerNorm.weight', 'electra.encoder.layer.11.attention.self.key.weight', 'electra.encoder.layer.6.output.LayerNorm.weight', 'electra.encoder.layer.2.output.LayerNorm.bias', 'electra.encoder.layer.3.attention.self.query.bias', 'electra.encoder.layer.2.intermediate.dense.weight', 'electra.encoder.layer.5.output.LayerNorm.bias', 'electra.encoder.layer.0.attention.self.key.weight', 'electra.encoder.layer.7.attention.self.query.weight', 'electra.encoder.layer.7.attention.output.dense.weight', 'electra.encoder.layer.7.intermediate.dense.bias', 'electra.encoder.layer.8.attention.self.value.weight', 'electra.encoder.layer.0.attention.self.value.bias', 'electra.encoder.layer.3.output.dense.bias', 'electra.encoder.layer.4.attention.self.key.weight', 'electra.encoder.layer.5.output.dense.bias', 'electra.encoder.layer.5.attention.self.query.weight', 'electra.encoder.layer.2.attention.self.value.weight', 'electra.encoder.layer.2.attention.self.query.bias', 'electra.encoder.layer.1.intermediate.dense.bias', 'electra.encoder.layer.1.attention.self.value.weight', 'electra.encoder.layer.6.attention.self.query.weight', 'electra.encoder.layer.8.output.dense.bias', 'electra.encoder.layer.5.output.LayerNorm.weight', 'electra.encoder.layer.9.attention.self.key.bias', 'electra.encoder.layer.6.attention.self.query.bias', 'electra.encoder.layer.7.output.LayerNorm.bias', 'electra.encoder.layer.10.attention.output.dense.bias', 'electra.encoder.layer.9.output.LayerNorm.weight', 'electra.encoder.layer.10.attention.output.LayerNorm.weight', 'electra.encoder.layer.0.attention.self.query.weight', 'electra.encoder.layer.3.attention.self.key.bias', 'electra.encoder.layer.7.intermediate.dense.weight', 'electra.encoder.layer.0.attention.output.dense.weight', 'electra.encoder.layer.10.output.dense.bias', 'electra.encoder.layer.7.output.dense.weight', 'discriminator_predictions.dense.bias', 'electra.encoder.layer.3.attention.self.value.bias', 'electra.encoder.layer.0.attention.self.value.weight', 'electra.encoder.layer.6.attention.output.dense.bias', 'electra.encoder.layer.5.attention.self.query.bias', 'electra.encoder.layer.11.attention.self.value.weight', 'electra.encoder.layer.6.attention.output.dense.weight', 'electra.encoder.layer.11.intermediate.dense.weight', 'electra.encoder.layer.8.intermediate.dense.weight', 'electra.encoder.layer.1.output.dense.bias', 'electra.encoder.layer.9.intermediate.dense.weight', 'electra.encoder.layer.2.attention.self.value.bias', 'electra.encoder.layer.10.attention.output.dense.weight', 'electra.encoder.layer.9.attention.self.query.bias', 'electra.encoder.layer.4.attention.self.query.weight', 'electra.encoder.layer.3.intermediate.dense.weight', 'electra.encoder.layer.9.attention.output.LayerNorm.weight', 'electra.encoder.layer.7.attention.self.key.weight', 'electra.encoder.layer.9.output.LayerNorm.bias', 'electra.encoder.layer.6.attention.self.value.weight', 'electra.encoder.layer.1.attention.self.query.weight', 'electra.encoder.layer.7.attention.output.dense.bias', 'electra.encoder.layer.6.intermediate.dense.weight', 'electra.encoder.layer.2.attention.self.key.weight', 'electra.encoder.layer.0.intermediate.dense.weight', 'electra.encoder.layer.11.attention.self.query.bias', 'electra.encoder.layer.5.intermediate.dense.weight', 'electra.encoder.layer.11.output.LayerNorm.bias', 'electra.embeddings.position_ids', 'electra.encoder.layer.11.attention.self.key.bias', 'electra.embeddings.LayerNorm.bias', 'electra.encoder.layer.5.output.dense.weight', 'electra.encoder.layer.0.output.dense.bias', 'electra.encoder.layer.4.output.LayerNorm.bias', 'electra.encoder.layer.10.output.dense.weight', 'electra.encoder.layer.4.attention.self.value.bias', 'electra.encoder.layer.4.output.LayerNorm.weight', 'electra.encoder.layer.9.attention.self.query.weight', 'electra.encoder.layer.9.attention.self.value.bias', 'electra.encoder.layer.10.attention.self.value.bias', 'electra.encoder.layer.11.attention.self.value.bias', 'electra.encoder.layer.6.attention.self.key.bias', 'electra.encoder.layer.4.attention.self.value.weight', 'electra.encoder.layer.0.output.dense.weight', 'electra.encoder.layer.0.output.LayerNorm.bias', 'electra.encoder.layer.10.intermediate.dense.bias', 'electra.encoder.layer.1.output.LayerNorm.weight', 'electra.encoder.layer.9.output.dense.bias', 'discriminator_predictions.dense_prediction.weight', 'electra.encoder.layer.4.attention.output.LayerNorm.weight', 'electra.encoder.layer.8.attention.output.dense.weight', 'electra.encoder.layer.1.attention.self.key.bias', 'electra.encoder.layer.0.output.LayerNorm.weight', 'electra.encoder.layer.9.intermediate.dense.bias', 'electra.encoder.layer.4.attention.self.query.bias', 'electra.encoder.layer.1.attention.output.LayerNorm.weight', 'electra.encoder.layer.2.attention.output.LayerNorm.bias', 'electra.encoder.layer.2.attention.output.dense.weight', 'electra.encoder.layer.4.intermediate.dense.weight', 'electra.encoder.layer.4.output.dense.weight', 'electra.encoder.layer.6.output.dense.weight', 'electra.encoder.layer.8.output.LayerNorm.weight', 'electra.encoder.layer.10.attention.self.key.bias', 'electra.encoder.layer.5.attention.self.value.weight', 'electra.encoder.layer.10.attention.self.key.weight', 'electra.encoder.layer.7.output.LayerNorm.weight', 'electra.encoder.layer.7.attention.self.value.weight', 'electra.encoder.layer.4.attention.output.dense.weight', 'electra.encoder.layer.8.attention.output.dense.bias']\n",
      "- This IS expected if you are initializing ArcFaceIBModel from the checkpoint of a model trained on another task or with another architecture (e.g. initializing a BertForSequenceClassification model from a BertForPreTraining model).\n",
      "- This IS NOT expected if you are initializing ArcFaceIBModel from the checkpoint of a model that you expect to be exactly identical (initializing a BertForSequenceClassification model from a BertForSequenceClassification model).\n"
     ]
    },
    {
     "name": "stderr",
     "output_type": "stream",
     "text": [
      "Some weights of ArcFaceIBModel were not initialized from the model checkpoint at monologg/koelectra-base-v3-discriminator and are newly initialized: ['electra.arcface.weight', 'electra.proj_fc_layer.linear.bias', 'electra.neck.1.bias', 'electra.neck.1.weight', 'electra.proj_fc_layer.linear.weight']\n",
      "You should probably TRAIN this model on a down-stream task to be able to use it for predictions and inference.\n",
      "***** Running training *****\n",
      "  Num examples = 13232\n",
      "  Num Epochs = 5\n",
      "  Instantaneous batch size per device = 8\n",
      "  Total train batch size (w. parallel, distributed & accumulation) = 128\n",
      "  Gradient Accumulation steps = 16\n",
      "  Total optimization steps = 515\n"
     ]
    },
    {
     "ename": "TypeError",
     "evalue": "forward() got an unexpected keyword argument 'token_type_ids'",
     "output_type": "error",
     "traceback": [
      "\u001b[0;31m---------------------------------------------------------------------------\u001b[0m",
      "\u001b[0;31mTypeError\u001b[0m                                 Traceback (most recent call last)",
      "\u001b[0;32m<ipython-input-8-7b2c074ed49a>\u001b[0m in \u001b[0;36m<module>\u001b[0;34m\u001b[0m\n\u001b[1;32m     17\u001b[0m     )\n\u001b[1;32m     18\u001b[0m \u001b[0;34m\u001b[0m\u001b[0m\n\u001b[0;32m---> 19\u001b[0;31m     \u001b[0mtrainer\u001b[0m\u001b[0;34m.\u001b[0m\u001b[0mtrain\u001b[0m\u001b[0;34m(\u001b[0m\u001b[0;34m)\u001b[0m\u001b[0;34m\u001b[0m\u001b[0;34m\u001b[0m\u001b[0m\n\u001b[0m\u001b[1;32m     20\u001b[0m \u001b[0;34m\u001b[0m\u001b[0m\n\u001b[1;32m     21\u001b[0m     \u001b[0mlogit\u001b[0m \u001b[0;34m+=\u001b[0m \u001b[0mtrainer\u001b[0m\u001b[0;34m.\u001b[0m\u001b[0mpredict\u001b[0m\u001b[0;34m(\u001b[0m\u001b[0mtest_dataset\u001b[0m\u001b[0;34m)\u001b[0m\u001b[0;34m.\u001b[0m\u001b[0mpredictions\u001b[0m \u001b[0;34m/\u001b[0m \u001b[0;36m5\u001b[0m\u001b[0;34m\u001b[0m\u001b[0;34m\u001b[0m\u001b[0m\n",
      "\u001b[0;32m/usr/local/lib/python3.6/dist-packages/transformers/trainer.py\u001b[0m in \u001b[0;36mtrain\u001b[0;34m(self, resume_from_checkpoint, trial, ignore_keys_for_eval, **kwargs)\u001b[0m\n\u001b[1;32m   1420\u001b[0m                         \u001b[0mtr_loss_step\u001b[0m \u001b[0;34m=\u001b[0m \u001b[0mself\u001b[0m\u001b[0;34m.\u001b[0m\u001b[0mtraining_step\u001b[0m\u001b[0;34m(\u001b[0m\u001b[0mmodel\u001b[0m\u001b[0;34m,\u001b[0m \u001b[0minputs\u001b[0m\u001b[0;34m)\u001b[0m\u001b[0;34m\u001b[0m\u001b[0;34m\u001b[0m\u001b[0m\n\u001b[1;32m   1421\u001b[0m                 \u001b[0;32melse\u001b[0m\u001b[0;34m:\u001b[0m\u001b[0;34m\u001b[0m\u001b[0;34m\u001b[0m\u001b[0m\n\u001b[0;32m-> 1422\u001b[0;31m                     \u001b[0mtr_loss_step\u001b[0m \u001b[0;34m=\u001b[0m \u001b[0mself\u001b[0m\u001b[0;34m.\u001b[0m\u001b[0mtraining_step\u001b[0m\u001b[0;34m(\u001b[0m\u001b[0mmodel\u001b[0m\u001b[0;34m,\u001b[0m \u001b[0minputs\u001b[0m\u001b[0;34m)\u001b[0m\u001b[0;34m\u001b[0m\u001b[0;34m\u001b[0m\u001b[0m\n\u001b[0m\u001b[1;32m   1423\u001b[0m \u001b[0;34m\u001b[0m\u001b[0m\n\u001b[1;32m   1424\u001b[0m                 if (\n",
      "\u001b[0;32m/usr/local/lib/python3.6/dist-packages/transformers/trainer.py\u001b[0m in \u001b[0;36mtraining_step\u001b[0;34m(self, model, inputs)\u001b[0m\n\u001b[1;32m   2009\u001b[0m \u001b[0;34m\u001b[0m\u001b[0m\n\u001b[1;32m   2010\u001b[0m         \u001b[0;32mwith\u001b[0m \u001b[0mself\u001b[0m\u001b[0;34m.\u001b[0m\u001b[0mautocast_smart_context_manager\u001b[0m\u001b[0;34m(\u001b[0m\u001b[0;34m)\u001b[0m\u001b[0;34m:\u001b[0m\u001b[0;34m\u001b[0m\u001b[0;34m\u001b[0m\u001b[0m\n\u001b[0;32m-> 2011\u001b[0;31m             \u001b[0mloss\u001b[0m \u001b[0;34m=\u001b[0m \u001b[0mself\u001b[0m\u001b[0;34m.\u001b[0m\u001b[0mcompute_loss\u001b[0m\u001b[0;34m(\u001b[0m\u001b[0mmodel\u001b[0m\u001b[0;34m,\u001b[0m \u001b[0minputs\u001b[0m\u001b[0;34m)\u001b[0m\u001b[0;34m\u001b[0m\u001b[0;34m\u001b[0m\u001b[0m\n\u001b[0m\u001b[1;32m   2012\u001b[0m \u001b[0;34m\u001b[0m\u001b[0m\n\u001b[1;32m   2013\u001b[0m         \u001b[0;32mif\u001b[0m \u001b[0mself\u001b[0m\u001b[0;34m.\u001b[0m\u001b[0margs\u001b[0m\u001b[0;34m.\u001b[0m\u001b[0mn_gpu\u001b[0m \u001b[0;34m>\u001b[0m \u001b[0;36m1\u001b[0m\u001b[0;34m:\u001b[0m\u001b[0;34m\u001b[0m\u001b[0;34m\u001b[0m\u001b[0m\n",
      "\u001b[0;32m/usr/local/lib/python3.6/dist-packages/transformers/trainer.py\u001b[0m in \u001b[0;36mcompute_loss\u001b[0;34m(self, model, inputs, return_outputs)\u001b[0m\n\u001b[1;32m   2041\u001b[0m         \u001b[0;32melse\u001b[0m\u001b[0;34m:\u001b[0m\u001b[0;34m\u001b[0m\u001b[0;34m\u001b[0m\u001b[0m\n\u001b[1;32m   2042\u001b[0m             \u001b[0mlabels\u001b[0m \u001b[0;34m=\u001b[0m \u001b[0;32mNone\u001b[0m\u001b[0;34m\u001b[0m\u001b[0;34m\u001b[0m\u001b[0m\n\u001b[0;32m-> 2043\u001b[0;31m         \u001b[0moutputs\u001b[0m \u001b[0;34m=\u001b[0m \u001b[0mmodel\u001b[0m\u001b[0;34m(\u001b[0m\u001b[0;34m**\u001b[0m\u001b[0minputs\u001b[0m\u001b[0;34m)\u001b[0m\u001b[0;34m\u001b[0m\u001b[0;34m\u001b[0m\u001b[0m\n\u001b[0m\u001b[1;32m   2044\u001b[0m         \u001b[0;31m# Save past state if it exists\u001b[0m\u001b[0;34m\u001b[0m\u001b[0;34m\u001b[0m\u001b[0;34m\u001b[0m\u001b[0m\n\u001b[1;32m   2045\u001b[0m         \u001b[0;31m# TODO: this needs to be fixed and made cleaner later.\u001b[0m\u001b[0;34m\u001b[0m\u001b[0;34m\u001b[0m\u001b[0;34m\u001b[0m\u001b[0m\n",
      "\u001b[0;32m/usr/local/lib/python3.6/dist-packages/torch/nn/modules/module.py\u001b[0m in \u001b[0;36m_call_impl\u001b[0;34m(self, *input, **kwargs)\u001b[0m\n\u001b[1;32m   1100\u001b[0m         if not (self._backward_hooks or self._forward_hooks or self._forward_pre_hooks or _global_backward_hooks\n\u001b[1;32m   1101\u001b[0m                 or _global_forward_hooks or _global_forward_pre_hooks):\n\u001b[0;32m-> 1102\u001b[0;31m             \u001b[0;32mreturn\u001b[0m \u001b[0mforward_call\u001b[0m\u001b[0;34m(\u001b[0m\u001b[0;34m*\u001b[0m\u001b[0minput\u001b[0m\u001b[0;34m,\u001b[0m \u001b[0;34m**\u001b[0m\u001b[0mkwargs\u001b[0m\u001b[0;34m)\u001b[0m\u001b[0;34m\u001b[0m\u001b[0;34m\u001b[0m\u001b[0m\n\u001b[0m\u001b[1;32m   1103\u001b[0m         \u001b[0;31m# Do not call functions when jit is used\u001b[0m\u001b[0;34m\u001b[0m\u001b[0;34m\u001b[0m\u001b[0;34m\u001b[0m\u001b[0m\n\u001b[1;32m   1104\u001b[0m         \u001b[0mfull_backward_hooks\u001b[0m\u001b[0;34m,\u001b[0m \u001b[0mnon_full_backward_hooks\u001b[0m \u001b[0;34m=\u001b[0m \u001b[0;34m[\u001b[0m\u001b[0;34m]\u001b[0m\u001b[0;34m,\u001b[0m \u001b[0;34m[\u001b[0m\u001b[0;34m]\u001b[0m\u001b[0;34m\u001b[0m\u001b[0;34m\u001b[0m\u001b[0m\n",
      "\u001b[0;31mTypeError\u001b[0m: forward() got an unexpected keyword argument 'token_type_ids'"
     ]
    }
   ],
   "source": [
    "logit = 0\n",
    "for i, (train_index, test_index) in enumerate(kfold_function.split(train_df[\"문장\"],train_df[\"확실성\"])):\n",
    "    model = ArcFaceIBModel.from_pretrained(model_name, config=config)\n",
    "    train_corpus, valid_corpus = train_df[\"문장\"][train_index], train_df[\"문장\"][test_index]\n",
    "    train_label, valid_label = train_df[\"확실성\"][train_index], train_df[\"확실성\"][test_index]\n",
    "    fold_train = pd.concat([train_corpus, train_label], axis =1)\n",
    "    fold_valid = pd.concat([valid_corpus, valid_label], axis =1)\n",
    "    train_dataset = ConfidenceDataset(data=fold_train, tokenizer=tokenizer)\n",
    "    valid_dataset = ConfidenceDataset(data=fold_valid, tokenizer=tokenizer)\n",
    "\n",
    "    trainer = Trainer(\n",
    "    model=model,\n",
    "    args=training_args,\n",
    "    train_dataset=train_dataset,\n",
    "    eval_dataset=valid_dataset,\n",
    "    compute_metrics=compute_metrics,\n",
    "    )\n",
    "\n",
    "    trainer.train()\n",
    "\n",
    "    logit += trainer.predict(test_dataset).predictions / 5"
   ]
  },
  {
   "cell_type": "code",
   "execution_count": 8,
   "id": "66321b2b",
   "metadata": {},
   "outputs": [],
   "source": [
    "with open(\"confidence_logit_de.pickle\",\"wb\") as f:\n",
    "    pickle.dump(logit, f)"
   ]
  },
  {
   "cell_type": "code",
   "execution_count": 11,
   "id": "0de0b4b6",
   "metadata": {},
   "outputs": [],
   "source": [
    "with open(\"confidence_logit_de.pickle\",\"rb\") as f:\n",
    "    logit = pickle.load(f)\n",
    "\n",
    "with open(\"confidence_logit_e.pickle\",\"rb\") as f:\n",
    "    logit2 = pickle.load(f)\n",
    "    \n",
    "logit += logit2\n",
    "logit /= 2\n",
    "    \n",
    "result = pd.DataFrame(logit.argmax(axis=1).tolist(), columns=[\"type\"])\n",
    "test_df_result = pd.concat([test_df,result],axis=1, ignore_index=True)\n",
    "test_df_result.to_csv(\"result_confidence.csv\")"
   ]
  },
  {
   "cell_type": "code",
   "execution_count": null,
   "id": "aaf76c4d",
   "metadata": {},
   "outputs": [],
   "source": []
  }
 ],
 "metadata": {
  "kernelspec": {
   "display_name": "Python 3",
   "language": "python",
   "name": "python3"
  },
  "language_info": {
   "codemirror_mode": {
    "name": "ipython",
    "version": 3
   },
   "file_extension": ".py",
   "mimetype": "text/x-python",
   "name": "python",
   "nbconvert_exporter": "python",
   "pygments_lexer": "ipython3",
   "version": "3.6.9"
  }
 },
 "nbformat": 4,
 "nbformat_minor": 5
}
