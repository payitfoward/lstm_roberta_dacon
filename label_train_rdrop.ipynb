{
 "cells": [
  {
   "cell_type": "code",
   "execution_count": null,
   "id": "43140f53",
   "metadata": {},
   "outputs": [],
   "source": [
    "import pandas as pd\n",
    "import numpy as np\n",
    "import torch\n",
    "import os\n",
    "\n",
    "from transformers import AutoTokenizer, AutoConfig, TrainingArguments\n",
    "from trainer import Trainer\n",
    "from custom_dataset import LabelDataset, TestDataset\n",
    "from datasets import load_metric, load_dataset\n",
    "from classifier import RobertaSpecialTokenForSequenceClassification, RobertaForSequenceClassification\n",
    "from sklearn.model_selection import StratifiedKFold\n",
    "from utils import set_allseed\n",
    "import warnings\n",
    "import pickle\n",
    "from augmentation import Augmentation"
   ]
  },
  {
   "cell_type": "code",
   "execution_count": null,
   "id": "9d7eb385",
   "metadata": {},
   "outputs": [],
   "source": [
    "seed = 60\n",
    "batch_size = 16\n",
    "save_steps = 103\n",
    "set_allseed(seed)\n",
    "os.environ[\"CUDA_DEVICE_ORDER\"]=\"PCI_BUS_ID\"\n",
    "os.environ[\"CUDA_VISIBLE_DEVICES\"]= \"1\"\n",
    "gpu = torch.device(\"cuda\")\n",
    "warnings.filterwarnings(action='ignore')\n",
    "model_init = \"klue/roberta-base\"\n",
    "name = \"rdrop_logit_seed_{}.pickle\".format(seed)"
   ]
  },
  {
   "cell_type": "code",
   "execution_count": null,
   "id": "137027c6",
   "metadata": {},
   "outputs": [],
   "source": [
    "def compute_metrics(pred):\n",
    "    f1 = load_metric(\"f1\")\n",
    "    references = pred.label_ids\n",
    "    predictions = pred.predictions.argmax(axis=1)\n",
    "    metric = f1.compute(predictions=predictions, references=references, average=\"micro\")\n",
    "    return metric"
   ]
  },
  {
   "cell_type": "code",
   "execution_count": null,
   "id": "cd683a0e",
   "metadata": {},
   "outputs": [],
   "source": [
    "train_df = pd.read_csv(\"train.csv\")\n",
    "test_df = pd.read_csv(\"test.csv\")\n",
    "\n",
    "train_df = train_df[[\"문장\",\"label\"]]"
   ]
  },
  {
   "cell_type": "code",
   "execution_count": null,
   "id": "da72955f",
   "metadata": {},
   "outputs": [],
   "source": [
    "kfold_function = StratifiedKFold(n_splits=5, random_state=seed, shuffle=True)\n",
    "tokenizer = AutoTokenizer.from_pretrained(model_init)\n",
    "config = AutoConfig.from_pretrained(model_init)\n",
    "config.num_labels = len(train_df.label.value_counts())\n",
    "config.cls_token_id = tokenizer.cls_token_id\n",
    "config.eos_token_id = tokenizer.eos_token_id"
   ]
  },
  {
   "cell_type": "code",
   "execution_count": null,
   "id": "1d26de6c",
   "metadata": {},
   "outputs": [],
   "source": [
    "aug = Augmentation(tokenizer = tokenizer)\n",
    "aug_data = aug(train_df).reset_index()"
   ]
  },
  {
   "cell_type": "code",
   "execution_count": null,
   "id": "8a06096c",
   "metadata": {},
   "outputs": [],
   "source": [
    "training_args = TrainingArguments(\n",
    "    output_dir=\"./seed_{seed}}\",\n",
    "    seed=seed,\n",
    "    save_total_limit=2,\n",
    "    save_steps = save_steps,\n",
    "    num_train_epochs = 5,\n",
    "    learning_rate= 1e-4,\n",
    "    per_device_train_batch_size=batch_size,\n",
    "    per_device_eval_batch_size=batch_size,\n",
    "    gradient_accumulation_steps=8,\n",
    "    weight_decay=1e-4,\n",
    "    logging_dir=\"./logs\",\n",
    "    logging_steps = save_steps,\n",
    "    evaluation_strategy = \"steps\",\n",
    "    eval_steps = save_steps,\n",
    "    load_best_model_at_end=True,\n",
    ")\n",
    "test_dataset = TestDataset(data=test_df, tokenizer=tokenizer)"
   ]
  },
  {
   "cell_type": "code",
   "execution_count": null,
   "id": "801b06f1",
   "metadata": {},
   "outputs": [],
   "source": [
    "logit = 0\n",
    "for i, (train_index, test_index) in enumerate(kfold_function.split(aug_data[\"문장\"],aug_data[\"label\"])):\n",
    "    model = RobertaSpecialTokenForSequenceClassification.from_pretrained(model_init, config=config)\n",
    "    train_corpus, valid_corpus = aug_data[\"문장\"][train_index], aug_data[\"문장\"][test_index]\n",
    "    train_label, valod_label = aug_data[\"label\"][train_index], aug_data[\"label\"][test_index]\n",
    "    fold_train = pd.concat([train_corpus, train_label], axis = 1)\n",
    "    fold_valid = pd.concat([valid_corpus, valod_label], axis = 1)\n",
    "    train_dataset = LabelDataset(data=fold_train, tokenizer=tokenizer)\n",
    "    valid_dataset = LabelDataset(data=fold_valid, tokenizer=tokenizer)\n",
    "\n",
    "    trainer = Trainer(\n",
    "    model=model,\n",
    "    args=training_args,\n",
    "    train_dataset=train_dataset,\n",
    "    eval_dataset=valid_dataset,\n",
    "    compute_metrics=compute_metrics,\n",
    "    )\n",
    "\n",
    "    trainer.train()\n",
    "\n",
    "    logit += trainer.predict(test_dataset).predictions / 5"
   ]
  },
  {
   "cell_type": "code",
   "execution_count": null,
   "id": "0a5b9432",
   "metadata": {},
   "outputs": [],
   "source": [
    "with open(name,\"wb\") as f:\n",
    "    pickle.dump(logit, f)"
   ]
  },
  {
   "cell_type": "code",
   "execution_count": null,
   "id": "d88837da",
   "metadata": {},
   "outputs": [],
   "source": [
    "\"\"\"\n",
    "with open(name,\"rb\") as f:\n",
    "    logit = pickle.load(f)\n",
    "    \n",
    "result = pd.DataFrame(logit.argmax(axis=1).tolist(), columns=[\"type\"])\n",
    "test_df_result = pd.concat([test_df,result],axis=1, ignore_index=True)\n",
    "test_df_result.to_csv(\"result_rdrop.csv\")\"\"\""
   ]
  }
 ],
 "metadata": {
  "kernelspec": {
   "display_name": "Python 3",
   "language": "python",
   "name": "python3"
  },
  "language_info": {
   "codemirror_mode": {
    "name": "ipython",
    "version": 3
   },
   "file_extension": ".py",
   "mimetype": "text/x-python",
   "name": "python",
   "nbconvert_exporter": "python",
   "pygments_lexer": "ipython3",
   "version": "3.6.9"
  },
  "vscode": {
   "interpreter": {
    "hash": "31f2aee4e71d21fbe5cf8b01ff0e069b9275f58929596ceb00d14d90e3e16cd6"
   }
  }
 },
 "nbformat": 4,
 "nbformat_minor": 5
}
